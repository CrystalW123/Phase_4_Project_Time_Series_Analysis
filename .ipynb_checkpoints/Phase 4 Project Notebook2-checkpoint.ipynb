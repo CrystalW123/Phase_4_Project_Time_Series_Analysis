{
 "cells": [
  {
   "cell_type": "markdown",
   "metadata": {},
   "source": [
    "## PHASE 4 PROJECT : GROUP 10.\n",
    "## Project Title: Time Series Modelling of Real Estate Prices."
   ]
  },
  {
   "cell_type": "markdown",
   "metadata": {},
   "source": [
    "## Team Members\n",
    "1. Celiajoy Omiah\n",
    "2. Crystal Wanjiru\n",
    "3. Kelvin Rotich\n",
    "4. Miriam Nguru\n",
    "5. Paul Mbugua\n",
    "6. Stephen Butiya\n",
    "\n"
   ]
  },
  {
   "cell_type": "markdown",
   "metadata": {},
   "source": [
    "## Introduction\n",
    "This project aims to construct a time series model leveraging Zillow's dataset to assist real estate investors in making well-informed investment decisions.\n"
   ]
  },
  {
   "cell_type": "markdown",
   "metadata": {},
   "source": [
    "## Overview\n",
    "In this project we aim to do the following:\n",
    "\n",
    "1. Loading the dataset.\n",
    "2. Gaining a comprehensive understanding of the dataset.\n",
    "3. dentifying and selecting our target variable.\n",
    "4. Preparing the dataset, which involves tasks such as cleaning, checking for multicollinearity, and ensuring data integrity.\n",
    "5. Encoding categorical variables to make them compatible with our modeling process.\n",
    "6. Building several models to explore different approaches.\n",
    "7. Evaluating the performance of our models using appropriate metrics.\n",
    "8. Utilizing our trained models for making predictions.\n",
    "9. Drawing meaningful insights and conclusions based on our findings."
   ]
  },
  {
   "cell_type": "markdown",
   "metadata": {},
   "source": [
    "##  Business understanding\n",
    "Real estate investment stands as a profitable and ever-evolving industry, demanding meticulous analysis and strategic decision-making. A fictitious real estate investment firm is currently in search of insights to pinpoint the top five zip codes offering promising investment opportunities. To tackle this inquiry, we leverage historical data sourced from Zillow Research."
   ]
  },
  {
   "cell_type": "markdown",
   "metadata": {},
   "source": [
    "##  Objectives\n",
    "The objectives of this project:\n",
    "* To identify the top 5 zip codes and states that offer the best investment potential in terms of real estate value. By analyzing historical trends and patterns, the project aims to provide actionable insights to the investment firm, enabling them to make informed decisions on where to allocate their resources.\n",
    "* To analyze the historical data of the real estate value by looking into the monthly, quarterly, semi-annual and annual patterns over time.\n",
    "* To create an ARIMA model that will be able to predict future Real Estate Value.\n",
    "\n",
    "\n"
   ]
  },
  {
   "cell_type": "markdown",
   "metadata": {},
   "source": [
    "##  Data Understanding"
   ]
  },
  {
   "cell_type": "markdown",
   "metadata": {},
   "source": [
    "The dataset encompasses details on a range of attributes, including RegionID, RegionName, City, State, Metro, SizeRank, CountyName, and the value representing real estate prices. This dataset, known as the Zillow Housing Dataset, has been obtained from the Zillow Research Page.\n",
    "\n",
    "To gain an initial insight into the structure of our dataset, let's load and preview the data."
   ]
  },
  {
   "cell_type": "code",
   "execution_count": 73,
   "metadata": {},
   "outputs": [],
   "source": [
    "#Importing the data libraries\n",
    "import numpy as np\n",
    "import pandas as pd\n",
    "import itertools\n",
    "import warnings\n",
    "warnings.filterwarnings('ignore')\n",
    "\n",
    "#importing visualisation libraries\n",
    "import matplotlib.pyplot as plt\n",
    "%matplotlib inline\n",
    "import seaborn as sns\n",
    "\n",
    "#Importing modeling libraries\n",
    "from statsmodels.tsa.seasonal import seasonal_decompose\n",
    "from statsmodels.tsa.stattools import adfuller\n",
    "from statsmodels.graphics.tsaplots import plot_acf\n",
    "from statsmodels.graphics.tsaplots import plot_pacf\n",
    "from matplotlib.pylab import rcParams\n",
    "from statsmodels.tsa.arima.model import ARIMA\n",
    "from sklearn.metrics import mean_squared_error, mean_absolute_error\n",
    "from prophet import Prophet\n",
    "import optuna"
   ]
  },
  {
   "cell_type": "code",
   "execution_count": 74,
   "metadata": {},
   "outputs": [
    {
     "name": "stdout",
     "output_type": "stream",
     "text": [
      "----------------------------Details about the data----------------------------\n",
      "\n",
      "----------------------------Shape of the dataset----------------------------\n",
      "\n"
     ]
    },
    {
     "data": {
      "text/plain": [
       "(14723, 272)"
      ]
     },
     "metadata": {},
     "output_type": "display_data"
    },
    {
     "name": "stdout",
     "output_type": "stream",
     "text": [
      "\n",
      "----------------------------Columns of the dataset----------------------------\n",
      "\n"
     ]
    },
    {
     "data": {
      "text/plain": [
       "Index(['RegionID', 'RegionName', 'City', 'State', 'Metro', 'CountyName',\n",
       "       'SizeRank', '1996-04', '1996-05', '1996-06',\n",
       "       ...\n",
       "       '2017-07', '2017-08', '2017-09', '2017-10', '2017-11', '2017-12',\n",
       "       '2018-01', '2018-02', '2018-03', '2018-04'],\n",
       "      dtype='object', length=272)"
      ]
     },
     "metadata": {},
     "output_type": "display_data"
    },
    {
     "name": "stdout",
     "output_type": "stream",
     "text": [
      "\n",
      "----------------------------Head of the dataset----------------------------\n",
      "\n"
     ]
    },
    {
     "data": {
      "text/html": [
       "<div>\n",
       "<style scoped>\n",
       "    .dataframe tbody tr th:only-of-type {\n",
       "        vertical-align: middle;\n",
       "    }\n",
       "\n",
       "    .dataframe tbody tr th {\n",
       "        vertical-align: top;\n",
       "    }\n",
       "\n",
       "    .dataframe thead th {\n",
       "        text-align: right;\n",
       "    }\n",
       "</style>\n",
       "<table border=\"1\" class=\"dataframe\">\n",
       "  <thead>\n",
       "    <tr style=\"text-align: right;\">\n",
       "      <th></th>\n",
       "      <th>RegionID</th>\n",
       "      <th>RegionName</th>\n",
       "      <th>City</th>\n",
       "      <th>State</th>\n",
       "      <th>Metro</th>\n",
       "      <th>CountyName</th>\n",
       "      <th>SizeRank</th>\n",
       "      <th>1996-04</th>\n",
       "      <th>1996-05</th>\n",
       "      <th>1996-06</th>\n",
       "      <th>...</th>\n",
       "      <th>2017-07</th>\n",
       "      <th>2017-08</th>\n",
       "      <th>2017-09</th>\n",
       "      <th>2017-10</th>\n",
       "      <th>2017-11</th>\n",
       "      <th>2017-12</th>\n",
       "      <th>2018-01</th>\n",
       "      <th>2018-02</th>\n",
       "      <th>2018-03</th>\n",
       "      <th>2018-04</th>\n",
       "    </tr>\n",
       "  </thead>\n",
       "  <tbody>\n",
       "    <tr>\n",
       "      <th>0</th>\n",
       "      <td>84654</td>\n",
       "      <td>60657</td>\n",
       "      <td>Chicago</td>\n",
       "      <td>IL</td>\n",
       "      <td>Chicago</td>\n",
       "      <td>Cook</td>\n",
       "      <td>1</td>\n",
       "      <td>334200.0</td>\n",
       "      <td>335400.0</td>\n",
       "      <td>336500.0</td>\n",
       "      <td>...</td>\n",
       "      <td>1005500</td>\n",
       "      <td>1007500</td>\n",
       "      <td>1007800</td>\n",
       "      <td>1009600</td>\n",
       "      <td>1013300</td>\n",
       "      <td>1018700</td>\n",
       "      <td>1024400</td>\n",
       "      <td>1030700</td>\n",
       "      <td>1033800</td>\n",
       "      <td>1030600</td>\n",
       "    </tr>\n",
       "    <tr>\n",
       "      <th>1</th>\n",
       "      <td>90668</td>\n",
       "      <td>75070</td>\n",
       "      <td>McKinney</td>\n",
       "      <td>TX</td>\n",
       "      <td>Dallas-Fort Worth</td>\n",
       "      <td>Collin</td>\n",
       "      <td>2</td>\n",
       "      <td>235700.0</td>\n",
       "      <td>236900.0</td>\n",
       "      <td>236700.0</td>\n",
       "      <td>...</td>\n",
       "      <td>308000</td>\n",
       "      <td>310000</td>\n",
       "      <td>312500</td>\n",
       "      <td>314100</td>\n",
       "      <td>315000</td>\n",
       "      <td>316600</td>\n",
       "      <td>318100</td>\n",
       "      <td>319600</td>\n",
       "      <td>321100</td>\n",
       "      <td>321800</td>\n",
       "    </tr>\n",
       "    <tr>\n",
       "      <th>2</th>\n",
       "      <td>91982</td>\n",
       "      <td>77494</td>\n",
       "      <td>Katy</td>\n",
       "      <td>TX</td>\n",
       "      <td>Houston</td>\n",
       "      <td>Harris</td>\n",
       "      <td>3</td>\n",
       "      <td>210400.0</td>\n",
       "      <td>212200.0</td>\n",
       "      <td>212200.0</td>\n",
       "      <td>...</td>\n",
       "      <td>321000</td>\n",
       "      <td>320600</td>\n",
       "      <td>320200</td>\n",
       "      <td>320400</td>\n",
       "      <td>320800</td>\n",
       "      <td>321200</td>\n",
       "      <td>321200</td>\n",
       "      <td>323000</td>\n",
       "      <td>326900</td>\n",
       "      <td>329900</td>\n",
       "    </tr>\n",
       "    <tr>\n",
       "      <th>3</th>\n",
       "      <td>84616</td>\n",
       "      <td>60614</td>\n",
       "      <td>Chicago</td>\n",
       "      <td>IL</td>\n",
       "      <td>Chicago</td>\n",
       "      <td>Cook</td>\n",
       "      <td>4</td>\n",
       "      <td>498100.0</td>\n",
       "      <td>500900.0</td>\n",
       "      <td>503100.0</td>\n",
       "      <td>...</td>\n",
       "      <td>1289800</td>\n",
       "      <td>1287700</td>\n",
       "      <td>1287400</td>\n",
       "      <td>1291500</td>\n",
       "      <td>1296600</td>\n",
       "      <td>1299000</td>\n",
       "      <td>1302700</td>\n",
       "      <td>1306400</td>\n",
       "      <td>1308500</td>\n",
       "      <td>1307000</td>\n",
       "    </tr>\n",
       "    <tr>\n",
       "      <th>4</th>\n",
       "      <td>93144</td>\n",
       "      <td>79936</td>\n",
       "      <td>El Paso</td>\n",
       "      <td>TX</td>\n",
       "      <td>El Paso</td>\n",
       "      <td>El Paso</td>\n",
       "      <td>5</td>\n",
       "      <td>77300.0</td>\n",
       "      <td>77300.0</td>\n",
       "      <td>77300.0</td>\n",
       "      <td>...</td>\n",
       "      <td>119100</td>\n",
       "      <td>119400</td>\n",
       "      <td>120000</td>\n",
       "      <td>120300</td>\n",
       "      <td>120300</td>\n",
       "      <td>120300</td>\n",
       "      <td>120300</td>\n",
       "      <td>120500</td>\n",
       "      <td>121000</td>\n",
       "      <td>121500</td>\n",
       "    </tr>\n",
       "  </tbody>\n",
       "</table>\n",
       "<p>5 rows × 272 columns</p>\n",
       "</div>"
      ],
      "text/plain": [
       "   RegionID  RegionName      City State              Metro CountyName  \\\n",
       "0     84654       60657   Chicago    IL            Chicago       Cook   \n",
       "1     90668       75070  McKinney    TX  Dallas-Fort Worth     Collin   \n",
       "2     91982       77494      Katy    TX            Houston     Harris   \n",
       "3     84616       60614   Chicago    IL            Chicago       Cook   \n",
       "4     93144       79936   El Paso    TX            El Paso    El Paso   \n",
       "\n",
       "   SizeRank   1996-04   1996-05   1996-06  ...  2017-07  2017-08  2017-09  \\\n",
       "0         1  334200.0  335400.0  336500.0  ...  1005500  1007500  1007800   \n",
       "1         2  235700.0  236900.0  236700.0  ...   308000   310000   312500   \n",
       "2         3  210400.0  212200.0  212200.0  ...   321000   320600   320200   \n",
       "3         4  498100.0  500900.0  503100.0  ...  1289800  1287700  1287400   \n",
       "4         5   77300.0   77300.0   77300.0  ...   119100   119400   120000   \n",
       "\n",
       "   2017-10  2017-11  2017-12  2018-01  2018-02  2018-03  2018-04  \n",
       "0  1009600  1013300  1018700  1024400  1030700  1033800  1030600  \n",
       "1   314100   315000   316600   318100   319600   321100   321800  \n",
       "2   320400   320800   321200   321200   323000   326900   329900  \n",
       "3  1291500  1296600  1299000  1302700  1306400  1308500  1307000  \n",
       "4   120300   120300   120300   120300   120500   121000   121500  \n",
       "\n",
       "[5 rows x 272 columns]"
      ]
     },
     "metadata": {},
     "output_type": "display_data"
    },
    {
     "name": "stdout",
     "output_type": "stream",
     "text": [
      "\n",
      "\n",
      "----------------------------Data information ----------------------------\n",
      "\n",
      "<class 'pandas.core.frame.DataFrame'>\n",
      "RangeIndex: 14723 entries, 0 to 14722\n",
      "Data columns (total 7 columns):\n",
      " #   Column      Non-Null Count  Dtype \n",
      "---  ------      --------------  ----- \n",
      " 0   RegionID    14723 non-null  int64 \n",
      " 1   RegionName  14723 non-null  int64 \n",
      " 2   City        14723 non-null  object\n",
      " 3   State       14723 non-null  object\n",
      " 4   Metro       13680 non-null  object\n",
      " 5   CountyName  14723 non-null  object\n",
      " 6   SizeRank    14723 non-null  int64 \n",
      "dtypes: int64(3), object(4)\n",
      "memory usage: 805.3+ KB\n"
     ]
    },
    {
     "data": {
      "text/plain": [
       "None"
      ]
     },
     "metadata": {},
     "output_type": "display_data"
    },
    {
     "name": "stdout",
     "output_type": "stream",
     "text": [
      "\n",
      "----------------------------Descriptive Statistics of the dataset ----------------------------\n",
      "\n"
     ]
    },
    {
     "data": {
      "text/html": [
       "<div>\n",
       "<style scoped>\n",
       "    .dataframe tbody tr th:only-of-type {\n",
       "        vertical-align: middle;\n",
       "    }\n",
       "\n",
       "    .dataframe tbody tr th {\n",
       "        vertical-align: top;\n",
       "    }\n",
       "\n",
       "    .dataframe thead th {\n",
       "        text-align: right;\n",
       "    }\n",
       "</style>\n",
       "<table border=\"1\" class=\"dataframe\">\n",
       "  <thead>\n",
       "    <tr style=\"text-align: right;\">\n",
       "      <th></th>\n",
       "      <th>RegionID</th>\n",
       "      <th>RegionName</th>\n",
       "      <th>SizeRank</th>\n",
       "      <th>1996-04</th>\n",
       "      <th>1996-05</th>\n",
       "      <th>1996-06</th>\n",
       "      <th>1996-07</th>\n",
       "      <th>1996-08</th>\n",
       "      <th>1996-09</th>\n",
       "      <th>1996-10</th>\n",
       "      <th>...</th>\n",
       "      <th>2017-07</th>\n",
       "      <th>2017-08</th>\n",
       "      <th>2017-09</th>\n",
       "      <th>2017-10</th>\n",
       "      <th>2017-11</th>\n",
       "      <th>2017-12</th>\n",
       "      <th>2018-01</th>\n",
       "      <th>2018-02</th>\n",
       "      <th>2018-03</th>\n",
       "      <th>2018-04</th>\n",
       "    </tr>\n",
       "  </thead>\n",
       "  <tbody>\n",
       "    <tr>\n",
       "      <th>count</th>\n",
       "      <td>14723.000000</td>\n",
       "      <td>14723.000000</td>\n",
       "      <td>14723.000000</td>\n",
       "      <td>1.368400e+04</td>\n",
       "      <td>1.368400e+04</td>\n",
       "      <td>1.368400e+04</td>\n",
       "      <td>1.368400e+04</td>\n",
       "      <td>1.368400e+04</td>\n",
       "      <td>1.368400e+04</td>\n",
       "      <td>1.368400e+04</td>\n",
       "      <td>...</td>\n",
       "      <td>1.472300e+04</td>\n",
       "      <td>1.472300e+04</td>\n",
       "      <td>1.472300e+04</td>\n",
       "      <td>1.472300e+04</td>\n",
       "      <td>1.472300e+04</td>\n",
       "      <td>1.472300e+04</td>\n",
       "      <td>1.472300e+04</td>\n",
       "      <td>1.472300e+04</td>\n",
       "      <td>1.472300e+04</td>\n",
       "      <td>1.472300e+04</td>\n",
       "    </tr>\n",
       "    <tr>\n",
       "      <th>mean</th>\n",
       "      <td>81075.010052</td>\n",
       "      <td>48222.348706</td>\n",
       "      <td>7362.000000</td>\n",
       "      <td>1.182991e+05</td>\n",
       "      <td>1.184190e+05</td>\n",
       "      <td>1.185374e+05</td>\n",
       "      <td>1.186531e+05</td>\n",
       "      <td>1.187803e+05</td>\n",
       "      <td>1.189275e+05</td>\n",
       "      <td>1.191205e+05</td>\n",
       "      <td>...</td>\n",
       "      <td>2.733354e+05</td>\n",
       "      <td>2.748658e+05</td>\n",
       "      <td>2.764646e+05</td>\n",
       "      <td>2.780332e+05</td>\n",
       "      <td>2.795209e+05</td>\n",
       "      <td>2.810953e+05</td>\n",
       "      <td>2.826571e+05</td>\n",
       "      <td>2.843687e+05</td>\n",
       "      <td>2.865114e+05</td>\n",
       "      <td>2.880399e+05</td>\n",
       "    </tr>\n",
       "    <tr>\n",
       "      <th>std</th>\n",
       "      <td>31934.118525</td>\n",
       "      <td>29359.325439</td>\n",
       "      <td>4250.308342</td>\n",
       "      <td>8.600251e+04</td>\n",
       "      <td>8.615567e+04</td>\n",
       "      <td>8.630923e+04</td>\n",
       "      <td>8.646795e+04</td>\n",
       "      <td>8.665094e+04</td>\n",
       "      <td>8.687208e+04</td>\n",
       "      <td>8.715185e+04</td>\n",
       "      <td>...</td>\n",
       "      <td>3.603984e+05</td>\n",
       "      <td>3.614678e+05</td>\n",
       "      <td>3.627563e+05</td>\n",
       "      <td>3.644610e+05</td>\n",
       "      <td>3.656003e+05</td>\n",
       "      <td>3.670454e+05</td>\n",
       "      <td>3.695727e+05</td>\n",
       "      <td>3.717739e+05</td>\n",
       "      <td>3.724612e+05</td>\n",
       "      <td>3.720544e+05</td>\n",
       "    </tr>\n",
       "    <tr>\n",
       "      <th>min</th>\n",
       "      <td>58196.000000</td>\n",
       "      <td>1001.000000</td>\n",
       "      <td>1.000000</td>\n",
       "      <td>1.130000e+04</td>\n",
       "      <td>1.150000e+04</td>\n",
       "      <td>1.160000e+04</td>\n",
       "      <td>1.180000e+04</td>\n",
       "      <td>1.180000e+04</td>\n",
       "      <td>1.200000e+04</td>\n",
       "      <td>1.210000e+04</td>\n",
       "      <td>...</td>\n",
       "      <td>1.440000e+04</td>\n",
       "      <td>1.450000e+04</td>\n",
       "      <td>1.470000e+04</td>\n",
       "      <td>1.480000e+04</td>\n",
       "      <td>1.450000e+04</td>\n",
       "      <td>1.430000e+04</td>\n",
       "      <td>1.410000e+04</td>\n",
       "      <td>1.390000e+04</td>\n",
       "      <td>1.380000e+04</td>\n",
       "      <td>1.380000e+04</td>\n",
       "    </tr>\n",
       "    <tr>\n",
       "      <th>25%</th>\n",
       "      <td>67174.500000</td>\n",
       "      <td>22101.500000</td>\n",
       "      <td>3681.500000</td>\n",
       "      <td>6.880000e+04</td>\n",
       "      <td>6.890000e+04</td>\n",
       "      <td>6.910000e+04</td>\n",
       "      <td>6.920000e+04</td>\n",
       "      <td>6.937500e+04</td>\n",
       "      <td>6.950000e+04</td>\n",
       "      <td>6.960000e+04</td>\n",
       "      <td>...</td>\n",
       "      <td>1.269000e+05</td>\n",
       "      <td>1.275000e+05</td>\n",
       "      <td>1.282000e+05</td>\n",
       "      <td>1.287000e+05</td>\n",
       "      <td>1.292500e+05</td>\n",
       "      <td>1.299000e+05</td>\n",
       "      <td>1.306000e+05</td>\n",
       "      <td>1.310500e+05</td>\n",
       "      <td>1.319500e+05</td>\n",
       "      <td>1.324000e+05</td>\n",
       "    </tr>\n",
       "    <tr>\n",
       "      <th>50%</th>\n",
       "      <td>78007.000000</td>\n",
       "      <td>46106.000000</td>\n",
       "      <td>7362.000000</td>\n",
       "      <td>9.950000e+04</td>\n",
       "      <td>9.950000e+04</td>\n",
       "      <td>9.970000e+04</td>\n",
       "      <td>9.970000e+04</td>\n",
       "      <td>9.980000e+04</td>\n",
       "      <td>9.990000e+04</td>\n",
       "      <td>9.995000e+04</td>\n",
       "      <td>...</td>\n",
       "      <td>1.884000e+05</td>\n",
       "      <td>1.896000e+05</td>\n",
       "      <td>1.905000e+05</td>\n",
       "      <td>1.914000e+05</td>\n",
       "      <td>1.925000e+05</td>\n",
       "      <td>1.934000e+05</td>\n",
       "      <td>1.941000e+05</td>\n",
       "      <td>1.950000e+05</td>\n",
       "      <td>1.967000e+05</td>\n",
       "      <td>1.981000e+05</td>\n",
       "    </tr>\n",
       "    <tr>\n",
       "      <th>75%</th>\n",
       "      <td>90920.500000</td>\n",
       "      <td>75205.500000</td>\n",
       "      <td>11042.500000</td>\n",
       "      <td>1.432000e+05</td>\n",
       "      <td>1.433000e+05</td>\n",
       "      <td>1.432250e+05</td>\n",
       "      <td>1.432250e+05</td>\n",
       "      <td>1.435000e+05</td>\n",
       "      <td>1.437000e+05</td>\n",
       "      <td>1.439000e+05</td>\n",
       "      <td>...</td>\n",
       "      <td>3.050000e+05</td>\n",
       "      <td>3.066500e+05</td>\n",
       "      <td>3.085000e+05</td>\n",
       "      <td>3.098000e+05</td>\n",
       "      <td>3.117000e+05</td>\n",
       "      <td>3.134000e+05</td>\n",
       "      <td>3.151000e+05</td>\n",
       "      <td>3.168500e+05</td>\n",
       "      <td>3.188500e+05</td>\n",
       "      <td>3.211000e+05</td>\n",
       "    </tr>\n",
       "    <tr>\n",
       "      <th>max</th>\n",
       "      <td>753844.000000</td>\n",
       "      <td>99901.000000</td>\n",
       "      <td>14723.000000</td>\n",
       "      <td>3.676700e+06</td>\n",
       "      <td>3.704200e+06</td>\n",
       "      <td>3.729600e+06</td>\n",
       "      <td>3.754600e+06</td>\n",
       "      <td>3.781800e+06</td>\n",
       "      <td>3.813500e+06</td>\n",
       "      <td>3.849600e+06</td>\n",
       "      <td>...</td>\n",
       "      <td>1.888990e+07</td>\n",
       "      <td>1.870350e+07</td>\n",
       "      <td>1.860530e+07</td>\n",
       "      <td>1.856940e+07</td>\n",
       "      <td>1.842880e+07</td>\n",
       "      <td>1.830710e+07</td>\n",
       "      <td>1.836590e+07</td>\n",
       "      <td>1.853040e+07</td>\n",
       "      <td>1.833770e+07</td>\n",
       "      <td>1.789490e+07</td>\n",
       "    </tr>\n",
       "  </tbody>\n",
       "</table>\n",
       "<p>8 rows × 268 columns</p>\n",
       "</div>"
      ],
      "text/plain": [
       "            RegionID    RegionName      SizeRank       1996-04       1996-05  \\\n",
       "count   14723.000000  14723.000000  14723.000000  1.368400e+04  1.368400e+04   \n",
       "mean    81075.010052  48222.348706   7362.000000  1.182991e+05  1.184190e+05   \n",
       "std     31934.118525  29359.325439   4250.308342  8.600251e+04  8.615567e+04   \n",
       "min     58196.000000   1001.000000      1.000000  1.130000e+04  1.150000e+04   \n",
       "25%     67174.500000  22101.500000   3681.500000  6.880000e+04  6.890000e+04   \n",
       "50%     78007.000000  46106.000000   7362.000000  9.950000e+04  9.950000e+04   \n",
       "75%     90920.500000  75205.500000  11042.500000  1.432000e+05  1.433000e+05   \n",
       "max    753844.000000  99901.000000  14723.000000  3.676700e+06  3.704200e+06   \n",
       "\n",
       "            1996-06       1996-07       1996-08       1996-09       1996-10  \\\n",
       "count  1.368400e+04  1.368400e+04  1.368400e+04  1.368400e+04  1.368400e+04   \n",
       "mean   1.185374e+05  1.186531e+05  1.187803e+05  1.189275e+05  1.191205e+05   \n",
       "std    8.630923e+04  8.646795e+04  8.665094e+04  8.687208e+04  8.715185e+04   \n",
       "min    1.160000e+04  1.180000e+04  1.180000e+04  1.200000e+04  1.210000e+04   \n",
       "25%    6.910000e+04  6.920000e+04  6.937500e+04  6.950000e+04  6.960000e+04   \n",
       "50%    9.970000e+04  9.970000e+04  9.980000e+04  9.990000e+04  9.995000e+04   \n",
       "75%    1.432250e+05  1.432250e+05  1.435000e+05  1.437000e+05  1.439000e+05   \n",
       "max    3.729600e+06  3.754600e+06  3.781800e+06  3.813500e+06  3.849600e+06   \n",
       "\n",
       "       ...       2017-07       2017-08       2017-09       2017-10  \\\n",
       "count  ...  1.472300e+04  1.472300e+04  1.472300e+04  1.472300e+04   \n",
       "mean   ...  2.733354e+05  2.748658e+05  2.764646e+05  2.780332e+05   \n",
       "std    ...  3.603984e+05  3.614678e+05  3.627563e+05  3.644610e+05   \n",
       "min    ...  1.440000e+04  1.450000e+04  1.470000e+04  1.480000e+04   \n",
       "25%    ...  1.269000e+05  1.275000e+05  1.282000e+05  1.287000e+05   \n",
       "50%    ...  1.884000e+05  1.896000e+05  1.905000e+05  1.914000e+05   \n",
       "75%    ...  3.050000e+05  3.066500e+05  3.085000e+05  3.098000e+05   \n",
       "max    ...  1.888990e+07  1.870350e+07  1.860530e+07  1.856940e+07   \n",
       "\n",
       "            2017-11       2017-12       2018-01       2018-02       2018-03  \\\n",
       "count  1.472300e+04  1.472300e+04  1.472300e+04  1.472300e+04  1.472300e+04   \n",
       "mean   2.795209e+05  2.810953e+05  2.826571e+05  2.843687e+05  2.865114e+05   \n",
       "std    3.656003e+05  3.670454e+05  3.695727e+05  3.717739e+05  3.724612e+05   \n",
       "min    1.450000e+04  1.430000e+04  1.410000e+04  1.390000e+04  1.380000e+04   \n",
       "25%    1.292500e+05  1.299000e+05  1.306000e+05  1.310500e+05  1.319500e+05   \n",
       "50%    1.925000e+05  1.934000e+05  1.941000e+05  1.950000e+05  1.967000e+05   \n",
       "75%    3.117000e+05  3.134000e+05  3.151000e+05  3.168500e+05  3.188500e+05   \n",
       "max    1.842880e+07  1.830710e+07  1.836590e+07  1.853040e+07  1.833770e+07   \n",
       "\n",
       "            2018-04  \n",
       "count  1.472300e+04  \n",
       "mean   2.880399e+05  \n",
       "std    3.720544e+05  \n",
       "min    1.380000e+04  \n",
       "25%    1.324000e+05  \n",
       "50%    1.981000e+05  \n",
       "75%    3.211000e+05  \n",
       "max    1.789490e+07  \n",
       "\n",
       "[8 rows x 268 columns]"
      ]
     },
     "metadata": {},
     "output_type": "display_data"
    }
   ],
   "source": [
    "# Function to load and examine the data\n",
    "\n",
    "def load_and_examine_data(file_path):\n",
    "    try:\n",
    "        # Load the data from the specified file path\n",
    "        data = pd.read_csv(file_path)\n",
    "\n",
    "        # Display the shape, columns and the first few rows of the dataset\n",
    "        print(\"----------------------------Details about the data----------------------------\\n\")\n",
    "        print(\"----------------------------Shape of the dataset----------------------------\\n\")\n",
    "        display(data.shape)\n",
    "        print()\n",
    "        print(\"----------------------------Columns of the dataset----------------------------\\n\")\n",
    "        display(data.columns)\n",
    "        print()\n",
    "        print(\"----------------------------Head of the dataset----------------------------\\n\")\n",
    "        display(data.head())\n",
    "        print()\n",
    "        # Display information about the dataset\n",
    "\n",
    "        print(\"\\n----------------------------Data information ----------------------------\\n\")\n",
    "        display(data[['RegionID', 'RegionName', 'City', 'State', 'Metro', 'CountyName',\n",
    "       'SizeRank']].info())\n",
    "        print(\"\\n----------------------------Descriptive Statistics of the dataset ----------------------------\\n\")\n",
    "        display(data.describe())\n",
    "\n",
    "        return data\n",
    "\n",
    "    except FileNotFoundError:\n",
    "        print(f\"File '{file_path}' not found.\")\n",
    "    except Exception as e:\n",
    "        print(f\"An error occurred: {e}\")\n",
    "\n",
    "# data file path\n",
    "file_path = \"zillow_data.csv\" \n",
    "data = load_and_examine_data(file_path)"
   ]
  },
  {
   "cell_type": "markdown",
   "metadata": {},
   "source": [
    "The dataset contains the following columns:\n",
    "* Region Id - is unique ID for the Regions\n",
    "\n",
    "* Region Name contains the zip code for the region\n",
    "\n",
    "* City Specific city name of housing data\n",
    "\n",
    "* Metro Name of the metro city around that region\n",
    "\n",
    "* County Name this is the county name of that region\n",
    "\n",
    "* SizeRank this is the ranking done based on the size of that region\n",
    "\n",
    "* Date this refers to a point in time"
   ]
  },
  {
   "cell_type": "markdown",
   "metadata": {},
   "source": [
    "## Data Preparation"
   ]
  },
  {
   "cell_type": "markdown",
   "metadata": {},
   "source": [
    "The code in the cell below  creates a copy of a DataFrame named `data` called `data2`. It then calculates the Return On Investment (ROI) by dividing the values in the '2018-04' column by the values in the '1996-04' column and subtracting 1. The calculated ROI values are added as a new column named `Return On Investment` in the copied DataFrame."
   ]
  },
  {
   "cell_type": "code",
   "execution_count": 75,
   "metadata": {},
   "outputs": [
    {
     "data": {
      "text/html": [
       "<div>\n",
       "<style scoped>\n",
       "    .dataframe tbody tr th:only-of-type {\n",
       "        vertical-align: middle;\n",
       "    }\n",
       "\n",
       "    .dataframe tbody tr th {\n",
       "        vertical-align: top;\n",
       "    }\n",
       "\n",
       "    .dataframe thead th {\n",
       "        text-align: right;\n",
       "    }\n",
       "</style>\n",
       "<table border=\"1\" class=\"dataframe\">\n",
       "  <thead>\n",
       "    <tr style=\"text-align: right;\">\n",
       "      <th></th>\n",
       "      <th>RegionID</th>\n",
       "      <th>RegionName</th>\n",
       "      <th>City</th>\n",
       "      <th>State</th>\n",
       "      <th>Metro</th>\n",
       "      <th>CountyName</th>\n",
       "      <th>SizeRank</th>\n",
       "      <th>1996-04</th>\n",
       "      <th>1996-05</th>\n",
       "      <th>1996-06</th>\n",
       "      <th>...</th>\n",
       "      <th>2017-08</th>\n",
       "      <th>2017-09</th>\n",
       "      <th>2017-10</th>\n",
       "      <th>2017-11</th>\n",
       "      <th>2017-12</th>\n",
       "      <th>2018-01</th>\n",
       "      <th>2018-02</th>\n",
       "      <th>2018-03</th>\n",
       "      <th>2018-04</th>\n",
       "      <th>Return On Investment</th>\n",
       "    </tr>\n",
       "  </thead>\n",
       "  <tbody>\n",
       "    <tr>\n",
       "      <th>0</th>\n",
       "      <td>84654</td>\n",
       "      <td>60657</td>\n",
       "      <td>Chicago</td>\n",
       "      <td>IL</td>\n",
       "      <td>Chicago</td>\n",
       "      <td>Cook</td>\n",
       "      <td>1</td>\n",
       "      <td>334200.0</td>\n",
       "      <td>335400.0</td>\n",
       "      <td>336500.0</td>\n",
       "      <td>...</td>\n",
       "      <td>1007500</td>\n",
       "      <td>1007800</td>\n",
       "      <td>1009600</td>\n",
       "      <td>1013300</td>\n",
       "      <td>1018700</td>\n",
       "      <td>1024400</td>\n",
       "      <td>1030700</td>\n",
       "      <td>1033800</td>\n",
       "      <td>1030600</td>\n",
       "      <td>2.083782</td>\n",
       "    </tr>\n",
       "    <tr>\n",
       "      <th>1</th>\n",
       "      <td>90668</td>\n",
       "      <td>75070</td>\n",
       "      <td>McKinney</td>\n",
       "      <td>TX</td>\n",
       "      <td>Dallas-Fort Worth</td>\n",
       "      <td>Collin</td>\n",
       "      <td>2</td>\n",
       "      <td>235700.0</td>\n",
       "      <td>236900.0</td>\n",
       "      <td>236700.0</td>\n",
       "      <td>...</td>\n",
       "      <td>310000</td>\n",
       "      <td>312500</td>\n",
       "      <td>314100</td>\n",
       "      <td>315000</td>\n",
       "      <td>316600</td>\n",
       "      <td>318100</td>\n",
       "      <td>319600</td>\n",
       "      <td>321100</td>\n",
       "      <td>321800</td>\n",
       "      <td>0.365295</td>\n",
       "    </tr>\n",
       "    <tr>\n",
       "      <th>2</th>\n",
       "      <td>91982</td>\n",
       "      <td>77494</td>\n",
       "      <td>Katy</td>\n",
       "      <td>TX</td>\n",
       "      <td>Houston</td>\n",
       "      <td>Harris</td>\n",
       "      <td>3</td>\n",
       "      <td>210400.0</td>\n",
       "      <td>212200.0</td>\n",
       "      <td>212200.0</td>\n",
       "      <td>...</td>\n",
       "      <td>320600</td>\n",
       "      <td>320200</td>\n",
       "      <td>320400</td>\n",
       "      <td>320800</td>\n",
       "      <td>321200</td>\n",
       "      <td>321200</td>\n",
       "      <td>323000</td>\n",
       "      <td>326900</td>\n",
       "      <td>329900</td>\n",
       "      <td>0.567966</td>\n",
       "    </tr>\n",
       "    <tr>\n",
       "      <th>3</th>\n",
       "      <td>84616</td>\n",
       "      <td>60614</td>\n",
       "      <td>Chicago</td>\n",
       "      <td>IL</td>\n",
       "      <td>Chicago</td>\n",
       "      <td>Cook</td>\n",
       "      <td>4</td>\n",
       "      <td>498100.0</td>\n",
       "      <td>500900.0</td>\n",
       "      <td>503100.0</td>\n",
       "      <td>...</td>\n",
       "      <td>1287700</td>\n",
       "      <td>1287400</td>\n",
       "      <td>1291500</td>\n",
       "      <td>1296600</td>\n",
       "      <td>1299000</td>\n",
       "      <td>1302700</td>\n",
       "      <td>1306400</td>\n",
       "      <td>1308500</td>\n",
       "      <td>1307000</td>\n",
       "      <td>1.623971</td>\n",
       "    </tr>\n",
       "    <tr>\n",
       "      <th>4</th>\n",
       "      <td>93144</td>\n",
       "      <td>79936</td>\n",
       "      <td>El Paso</td>\n",
       "      <td>TX</td>\n",
       "      <td>El Paso</td>\n",
       "      <td>El Paso</td>\n",
       "      <td>5</td>\n",
       "      <td>77300.0</td>\n",
       "      <td>77300.0</td>\n",
       "      <td>77300.0</td>\n",
       "      <td>...</td>\n",
       "      <td>119400</td>\n",
       "      <td>120000</td>\n",
       "      <td>120300</td>\n",
       "      <td>120300</td>\n",
       "      <td>120300</td>\n",
       "      <td>120300</td>\n",
       "      <td>120500</td>\n",
       "      <td>121000</td>\n",
       "      <td>121500</td>\n",
       "      <td>0.571798</td>\n",
       "    </tr>\n",
       "  </tbody>\n",
       "</table>\n",
       "<p>5 rows × 273 columns</p>\n",
       "</div>"
      ],
      "text/plain": [
       "   RegionID  RegionName      City State              Metro CountyName  \\\n",
       "0     84654       60657   Chicago    IL            Chicago       Cook   \n",
       "1     90668       75070  McKinney    TX  Dallas-Fort Worth     Collin   \n",
       "2     91982       77494      Katy    TX            Houston     Harris   \n",
       "3     84616       60614   Chicago    IL            Chicago       Cook   \n",
       "4     93144       79936   El Paso    TX            El Paso    El Paso   \n",
       "\n",
       "   SizeRank   1996-04   1996-05   1996-06  ...  2017-08  2017-09  2017-10  \\\n",
       "0         1  334200.0  335400.0  336500.0  ...  1007500  1007800  1009600   \n",
       "1         2  235700.0  236900.0  236700.0  ...   310000   312500   314100   \n",
       "2         3  210400.0  212200.0  212200.0  ...   320600   320200   320400   \n",
       "3         4  498100.0  500900.0  503100.0  ...  1287700  1287400  1291500   \n",
       "4         5   77300.0   77300.0   77300.0  ...   119400   120000   120300   \n",
       "\n",
       "   2017-11  2017-12  2018-01  2018-02  2018-03  2018-04  Return On Investment  \n",
       "0  1013300  1018700  1024400  1030700  1033800  1030600              2.083782  \n",
       "1   315000   316600   318100   319600   321100   321800              0.365295  \n",
       "2   320800   321200   321200   323000   326900   329900              0.567966  \n",
       "3  1296600  1299000  1302700  1306400  1308500  1307000              1.623971  \n",
       "4   120300   120300   120300   120500   121000   121500              0.571798  \n",
       "\n",
       "[5 rows x 273 columns]"
      ]
     },
     "execution_count": 75,
     "metadata": {},
     "output_type": "execute_result"
    }
   ],
   "source": [
    "# Create a copy of the original DataFrame\n",
    "data2 = data.copy()\n",
    "\n",
    "# Calculate Return On Investment and add a new column to the copied DataFrame\n",
    "data2['Return On Investment'] = (data2['2018-04'] / data2['1996-04']) - 1\n",
    "\n",
    "# Display the first few rows of the updated DataFrame\n",
    "data2.head()"
   ]
  },
  {
   "cell_type": "code",
   "execution_count": 76,
   "metadata": {},
   "outputs": [],
   "source": [
    "data2.sort_values(by='Return On Investment', ascending=False, inplace=True)"
   ]
  },
  {
   "cell_type": "code",
   "execution_count": 77,
   "metadata": {},
   "outputs": [
    {
     "data": {
      "text/html": [
       "<div>\n",
       "<style scoped>\n",
       "    .dataframe tbody tr th:only-of-type {\n",
       "        vertical-align: middle;\n",
       "    }\n",
       "\n",
       "    .dataframe tbody tr th {\n",
       "        vertical-align: top;\n",
       "    }\n",
       "\n",
       "    .dataframe thead th {\n",
       "        text-align: right;\n",
       "    }\n",
       "</style>\n",
       "<table border=\"1\" class=\"dataframe\">\n",
       "  <thead>\n",
       "    <tr style=\"text-align: right;\">\n",
       "      <th></th>\n",
       "      <th>RegionID</th>\n",
       "      <th>RegionName</th>\n",
       "      <th>City</th>\n",
       "      <th>State</th>\n",
       "      <th>Metro</th>\n",
       "      <th>CountyName</th>\n",
       "      <th>SizeRank</th>\n",
       "      <th>1996-04</th>\n",
       "      <th>1996-05</th>\n",
       "      <th>1996-06</th>\n",
       "      <th>...</th>\n",
       "      <th>2017-08</th>\n",
       "      <th>2017-09</th>\n",
       "      <th>2017-10</th>\n",
       "      <th>2017-11</th>\n",
       "      <th>2017-12</th>\n",
       "      <th>2018-01</th>\n",
       "      <th>2018-02</th>\n",
       "      <th>2018-03</th>\n",
       "      <th>2018-04</th>\n",
       "      <th>Return On Investment</th>\n",
       "    </tr>\n",
       "  </thead>\n",
       "  <tbody>\n",
       "    <tr>\n",
       "      <th>117</th>\n",
       "      <td>62022</td>\n",
       "      <td>11211</td>\n",
       "      <td>New York</td>\n",
       "      <td>NY</td>\n",
       "      <td>New York</td>\n",
       "      <td>Kings</td>\n",
       "      <td>118</td>\n",
       "      <td>133200.0</td>\n",
       "      <td>132900.0</td>\n",
       "      <td>132500.0</td>\n",
       "      <td>...</td>\n",
       "      <td>1406400</td>\n",
       "      <td>1424700</td>\n",
       "      <td>1435300</td>\n",
       "      <td>1440500</td>\n",
       "      <td>1463100</td>\n",
       "      <td>1496100</td>\n",
       "      <td>1531100</td>\n",
       "      <td>1581900</td>\n",
       "      <td>1623700</td>\n",
       "      <td>11.189940</td>\n",
       "    </tr>\n",
       "    <tr>\n",
       "      <th>1155</th>\n",
       "      <td>62033</td>\n",
       "      <td>11222</td>\n",
       "      <td>New York</td>\n",
       "      <td>NY</td>\n",
       "      <td>New York</td>\n",
       "      <td>Kings</td>\n",
       "      <td>1156</td>\n",
       "      <td>149200.0</td>\n",
       "      <td>148400.0</td>\n",
       "      <td>147500.0</td>\n",
       "      <td>...</td>\n",
       "      <td>1623800</td>\n",
       "      <td>1638700</td>\n",
       "      <td>1640400</td>\n",
       "      <td>1644100</td>\n",
       "      <td>1651200</td>\n",
       "      <td>1661800</td>\n",
       "      <td>1672800</td>\n",
       "      <td>1694000</td>\n",
       "      <td>1721100</td>\n",
       "      <td>10.535523</td>\n",
       "    </tr>\n",
       "    <tr>\n",
       "      <th>475</th>\n",
       "      <td>62027</td>\n",
       "      <td>11216</td>\n",
       "      <td>New York</td>\n",
       "      <td>NY</td>\n",
       "      <td>New York</td>\n",
       "      <td>Kings</td>\n",
       "      <td>476</td>\n",
       "      <td>146100.0</td>\n",
       "      <td>146600.0</td>\n",
       "      <td>147200.0</td>\n",
       "      <td>...</td>\n",
       "      <td>1506100</td>\n",
       "      <td>1553100</td>\n",
       "      <td>1567700</td>\n",
       "      <td>1559700</td>\n",
       "      <td>1545700</td>\n",
       "      <td>1540200</td>\n",
       "      <td>1553600</td>\n",
       "      <td>1578400</td>\n",
       "      <td>1598700</td>\n",
       "      <td>9.942505</td>\n",
       "    </tr>\n",
       "    <tr>\n",
       "      <th>191</th>\n",
       "      <td>60639</td>\n",
       "      <td>7302</td>\n",
       "      <td>Jersey City</td>\n",
       "      <td>NJ</td>\n",
       "      <td>New York</td>\n",
       "      <td>Hudson</td>\n",
       "      <td>192</td>\n",
       "      <td>137200.0</td>\n",
       "      <td>137800.0</td>\n",
       "      <td>138500.0</td>\n",
       "      <td>...</td>\n",
       "      <td>1372300</td>\n",
       "      <td>1411000</td>\n",
       "      <td>1435900</td>\n",
       "      <td>1446300</td>\n",
       "      <td>1447800</td>\n",
       "      <td>1454900</td>\n",
       "      <td>1453900</td>\n",
       "      <td>1439500</td>\n",
       "      <td>1427300</td>\n",
       "      <td>9.403061</td>\n",
       "    </tr>\n",
       "    <tr>\n",
       "      <th>106</th>\n",
       "      <td>62026</td>\n",
       "      <td>11215</td>\n",
       "      <td>New York</td>\n",
       "      <td>NY</td>\n",
       "      <td>New York</td>\n",
       "      <td>Kings</td>\n",
       "      <td>107</td>\n",
       "      <td>225700.0</td>\n",
       "      <td>227500.0</td>\n",
       "      <td>229400.0</td>\n",
       "      <td>...</td>\n",
       "      <td>2201100</td>\n",
       "      <td>2244400</td>\n",
       "      <td>2266100</td>\n",
       "      <td>2275800</td>\n",
       "      <td>2287100</td>\n",
       "      <td>2288900</td>\n",
       "      <td>2265300</td>\n",
       "      <td>2244900</td>\n",
       "      <td>2243900</td>\n",
       "      <td>8.941958</td>\n",
       "    </tr>\n",
       "  </tbody>\n",
       "</table>\n",
       "<p>5 rows × 273 columns</p>\n",
       "</div>"
      ],
      "text/plain": [
       "      RegionID  RegionName         City State     Metro CountyName  SizeRank  \\\n",
       "117      62022       11211     New York    NY  New York      Kings       118   \n",
       "1155     62033       11222     New York    NY  New York      Kings      1156   \n",
       "475      62027       11216     New York    NY  New York      Kings       476   \n",
       "191      60639        7302  Jersey City    NJ  New York     Hudson       192   \n",
       "106      62026       11215     New York    NY  New York      Kings       107   \n",
       "\n",
       "       1996-04   1996-05   1996-06  ...  2017-08  2017-09  2017-10  2017-11  \\\n",
       "117   133200.0  132900.0  132500.0  ...  1406400  1424700  1435300  1440500   \n",
       "1155  149200.0  148400.0  147500.0  ...  1623800  1638700  1640400  1644100   \n",
       "475   146100.0  146600.0  147200.0  ...  1506100  1553100  1567700  1559700   \n",
       "191   137200.0  137800.0  138500.0  ...  1372300  1411000  1435900  1446300   \n",
       "106   225700.0  227500.0  229400.0  ...  2201100  2244400  2266100  2275800   \n",
       "\n",
       "      2017-12  2018-01  2018-02  2018-03  2018-04  Return On Investment  \n",
       "117   1463100  1496100  1531100  1581900  1623700             11.189940  \n",
       "1155  1651200  1661800  1672800  1694000  1721100             10.535523  \n",
       "475   1545700  1540200  1553600  1578400  1598700              9.942505  \n",
       "191   1447800  1454900  1453900  1439500  1427300              9.403061  \n",
       "106   2287100  2288900  2265300  2244900  2243900              8.941958  \n",
       "\n",
       "[5 rows x 273 columns]"
      ]
     },
     "execution_count": 77,
     "metadata": {},
     "output_type": "execute_result"
    }
   ],
   "source": [
    "data2.head()"
   ]
  },
  {
   "cell_type": "code",
   "execution_count": 78,
   "metadata": {},
   "outputs": [],
   "source": [
    "data_top5 = data2.head()"
   ]
  },
  {
   "cell_type": "markdown",
   "metadata": {},
   "source": [
    "Selects specific columns, including `RegionID`, `RegionName`, `City`, `State`, `Metro`, `CountyName`, `SizeRank`, and `Return On Investment`, from the DataFrame `data2`, drops any columns not in this selection, and displays the first few rows of the updated DataFrame."
   ]
  },
  {
   "cell_type": "code",
   "execution_count": 79,
   "metadata": {},
   "outputs": [
    {
     "data": {
      "text/html": [
       "<div>\n",
       "<style scoped>\n",
       "    .dataframe tbody tr th:only-of-type {\n",
       "        vertical-align: middle;\n",
       "    }\n",
       "\n",
       "    .dataframe tbody tr th {\n",
       "        vertical-align: top;\n",
       "    }\n",
       "\n",
       "    .dataframe thead th {\n",
       "        text-align: right;\n",
       "    }\n",
       "</style>\n",
       "<table border=\"1\" class=\"dataframe\">\n",
       "  <thead>\n",
       "    <tr style=\"text-align: right;\">\n",
       "      <th></th>\n",
       "      <th>RegionID</th>\n",
       "      <th>RegionName</th>\n",
       "      <th>City</th>\n",
       "      <th>State</th>\n",
       "      <th>Metro</th>\n",
       "      <th>CountyName</th>\n",
       "      <th>SizeRank</th>\n",
       "      <th>Return On Investment</th>\n",
       "    </tr>\n",
       "  </thead>\n",
       "  <tbody>\n",
       "    <tr>\n",
       "      <th>117</th>\n",
       "      <td>62022</td>\n",
       "      <td>11211</td>\n",
       "      <td>New York</td>\n",
       "      <td>NY</td>\n",
       "      <td>New York</td>\n",
       "      <td>Kings</td>\n",
       "      <td>118</td>\n",
       "      <td>11.189940</td>\n",
       "    </tr>\n",
       "    <tr>\n",
       "      <th>1155</th>\n",
       "      <td>62033</td>\n",
       "      <td>11222</td>\n",
       "      <td>New York</td>\n",
       "      <td>NY</td>\n",
       "      <td>New York</td>\n",
       "      <td>Kings</td>\n",
       "      <td>1156</td>\n",
       "      <td>10.535523</td>\n",
       "    </tr>\n",
       "    <tr>\n",
       "      <th>475</th>\n",
       "      <td>62027</td>\n",
       "      <td>11216</td>\n",
       "      <td>New York</td>\n",
       "      <td>NY</td>\n",
       "      <td>New York</td>\n",
       "      <td>Kings</td>\n",
       "      <td>476</td>\n",
       "      <td>9.942505</td>\n",
       "    </tr>\n",
       "    <tr>\n",
       "      <th>191</th>\n",
       "      <td>60639</td>\n",
       "      <td>7302</td>\n",
       "      <td>Jersey City</td>\n",
       "      <td>NJ</td>\n",
       "      <td>New York</td>\n",
       "      <td>Hudson</td>\n",
       "      <td>192</td>\n",
       "      <td>9.403061</td>\n",
       "    </tr>\n",
       "    <tr>\n",
       "      <th>106</th>\n",
       "      <td>62026</td>\n",
       "      <td>11215</td>\n",
       "      <td>New York</td>\n",
       "      <td>NY</td>\n",
       "      <td>New York</td>\n",
       "      <td>Kings</td>\n",
       "      <td>107</td>\n",
       "      <td>8.941958</td>\n",
       "    </tr>\n",
       "  </tbody>\n",
       "</table>\n",
       "</div>"
      ],
      "text/plain": [
       "      RegionID  RegionName         City State     Metro CountyName  SizeRank  \\\n",
       "117      62022       11211     New York    NY  New York      Kings       118   \n",
       "1155     62033       11222     New York    NY  New York      Kings      1156   \n",
       "475      62027       11216     New York    NY  New York      Kings       476   \n",
       "191      60639        7302  Jersey City    NJ  New York     Hudson       192   \n",
       "106      62026       11215     New York    NY  New York      Kings       107   \n",
       "\n",
       "      Return On Investment  \n",
       "117              11.189940  \n",
       "1155             10.535523  \n",
       "475               9.942505  \n",
       "191               9.403061  \n",
       "106               8.941958  "
      ]
     },
     "execution_count": 79,
     "metadata": {},
     "output_type": "execute_result"
    }
   ],
   "source": [
    "# Select specific columns from the DataFrame\n",
    "columns_selected = data2[['RegionID', 'RegionName', 'City', 'State', 'Metro', 'CountyName', 'SizeRank', 'Return On Investment']]\n",
    "\n",
    "# Iterate through all columns in the DataFrame\n",
    "for column in data2.columns:\n",
    "\n",
    "    # Drop columns that are not in the selected list\n",
    "    if column not in columns_selected:\n",
    "        data2.drop(column, axis=1, inplace = True)\n",
    "        \n",
    "# Display the first few rows of the updated DataFrame\n",
    "data2.head()"
   ]
  },
  {
   "cell_type": "code",
   "execution_count": 80,
   "metadata": {},
   "outputs": [
    {
     "data": {
      "text/plain": [
       "(14723, 8)"
      ]
     },
     "execution_count": 80,
     "metadata": {},
     "output_type": "execute_result"
    }
   ],
   "source": [
    "data2.shape"
   ]
  },
  {
   "cell_type": "markdown",
   "metadata": {},
   "source": [
    "In this section, we define a function `data_prep` that performs checks for missing values, duplicated values, and placeholder values in the dataset."
   ]
  },
  {
   "cell_type": "code",
   "execution_count": 81,
   "metadata": {},
   "outputs": [
    {
     "name": "stdout",
     "output_type": "stream",
     "text": [
      "-------------------------Missing Values Check---------------------------------------\n",
      "\n",
      "Number of null values in each column in the dataset:\n",
      "RegionID                   0\n",
      "RegionName                 0\n",
      "City                       0\n",
      "State                      0\n",
      "Metro                   1043\n",
      "CountyName                 0\n",
      "SizeRank                   0\n",
      "Return On Investment    1039\n",
      "dtype: int64\n",
      "\n",
      "-------------------------Duplicated Values Check------------------------------------\n",
      "\n",
      "Number of duplicated values in the dataset: 0\n",
      "\n",
      "-------------------------Placeholder Values Check-----------------------------------\n",
      "\n",
      "Column: 'RegionID'\n",
      "Placeholders found: []\n",
      "Count of placeholders: 0\n",
      "\n",
      "Column: 'RegionName'\n",
      "Placeholders found: []\n",
      "Count of placeholders: 0\n",
      "\n",
      "Column: 'City'\n",
      "Placeholders found: []\n",
      "Count of placeholders: 0\n",
      "\n",
      "Column: 'State'\n",
      "Placeholders found: []\n",
      "Count of placeholders: 0\n",
      "\n",
      "Column: 'Metro'\n",
      "Placeholders found: []\n",
      "Count of placeholders: 0\n",
      "\n",
      "Column: 'CountyName'\n",
      "Placeholders found: []\n",
      "Count of placeholders: 0\n",
      "\n",
      "Column: 'SizeRank'\n",
      "Placeholders found: []\n",
      "Count of placeholders: 0\n",
      "\n",
      "Column: 'Return On Investment'\n",
      "Placeholders found: []\n",
      "Count of placeholders: 0\n",
      "\n"
     ]
    }
   ],
   "source": [
    "# Creating a function that returns null, duplicated and placeholder values in the dataset.\n",
    "def data_prep(df):\n",
    "    print('-------------------------Missing Values Check---------------------------------------\\n')\n",
    "    print(f'Number of null values in each column in the dataset:\\n{df.isnull().sum()}\\n')\n",
    "    print('-------------------------Duplicated Values Check------------------------------------\\n')\n",
    "    print(f'Number of duplicated values in the dataset: {df.duplicated().sum()}\\n')\n",
    "    print('-------------------------Placeholder Values Check-----------------------------------\\n')\n",
    "    for column in df.columns:\n",
    "        unique_values = df[column].unique()\n",
    "        placeholders = [value for value in unique_values if str(value).strip().lower() in ['placeholder', 'na', 'n/a', '?']]\n",
    "        placeholder_count = len(placeholders)\n",
    "    \n",
    "        print(f\"Column: '{column}'\")\n",
    "        print(f\"Placeholders found: {placeholders}\")\n",
    "        print(f\"Count of placeholders: {placeholder_count}\\n\")\n",
    "        \n",
    "# Checking in our dataset.\n",
    "data_prep(data2)"
   ]
  },
  {
   "cell_type": "code",
   "execution_count": 82,
   "metadata": {},
   "outputs": [
    {
     "data": {
      "text/plain": [
       "RegionID                0\n",
       "RegionName              0\n",
       "City                    0\n",
       "State                   0\n",
       "Metro                   0\n",
       "CountyName              0\n",
       "SizeRank                0\n",
       "Return On Investment    0\n",
       "dtype: int64"
      ]
     },
     "execution_count": 82,
     "metadata": {},
     "output_type": "execute_result"
    }
   ],
   "source": [
    "# Remove rows with missing values (NaN) from the DataFrame 'data2' in-place\n",
    "data2.dropna(inplace = True)\n",
    "\n",
    "# Display the count of missing values in each column after dropping NaN values\n",
    "data2.isna().sum()"
   ]
  },
  {
   "cell_type": "markdown",
   "metadata": {},
   "source": [
    "We write a function `check_outliers` to identify and print the number of outliers in numeric columns of a dataframe. \n",
    "It then selects numeric columns from `data2` using `select_dtypes` and calls the `check_outliers` with the specified DataFrame and columns."
   ]
  },
  {
   "cell_type": "code",
   "execution_count": 83,
   "metadata": {},
   "outputs": [
    {
     "name": "stdout",
     "output_type": "stream",
     "text": [
      "RegionID\n",
      "Number of outliers: 101\n",
      "\n",
      "RegionName\n",
      "Number of outliers: 0\n",
      "\n",
      "SizeRank\n",
      "Number of outliers: 0\n",
      "\n",
      "Return On Investment\n",
      "Number of outliers: 700\n",
      "\n"
     ]
    }
   ],
   "source": [
    "#Checking for outliers\n",
    "def check_outliers(df, columns):\n",
    "    for column in columns:\n",
    "        # Calculate IQR (Interquartile Range)\n",
    "        iqr = df[column].quantile(0.75) - df[column].quantile(0.25)\n",
    "        \n",
    "        # Define lower and upper thresholds\n",
    "        lower_threshold = df[column].quantile(0.25) - 1.5 * iqr\n",
    "        upper_threshold = df[column].quantile(0.75) + 1.5 * iqr\n",
    "        \n",
    "# Find outliers\n",
    "        outliers = df[(df[column] < lower_threshold) | (df[column] > upper_threshold)]\n",
    "\n",
    "        # Print the count of outliers\n",
    "        print(f\"{column}\\nNumber of outliers: {len(outliers)}\\n\")\n",
    "\n",
    "#Call the function\n",
    "columns_to_check = data2.select_dtypes(include = ['number'])\n",
    "check_outliers(data2, columns_to_check)"
   ]
  },
  {
   "cell_type": "markdown",
   "metadata": {},
   "source": [
    "The code below generates a boxplot to visually inspect and identify potential outliers in the numeric columns of the DataFrame `data2`, providing a comprehensive overview of the distribution and variability of the data"
   ]
  },
  {
   "cell_type": "code",
   "execution_count": 84,
   "metadata": {},
   "outputs": [
    {
     "data": {
      "image/png": "[encoded data removed]",
      "text/plain": [
       "<Figure size 864x432 with 1 Axes>"
      ]
     },
     "metadata": {
      "needs_background": "light"
     },
     "output_type": "display_data"
    }
   ],
   "source": [
    "# Plotting a boxplot to check for outliers\n",
    "features_to_plot = data2.select_dtypes(include = ['number'])\n",
    "plt.figure(figsize=(12,6))\n",
    "sns.boxplot(data=features_to_plot, ax=plt.gca())\n",
    "plt.xticks(rotation=45, ha='right')\n",
    "plt.xlabel('Features')\n",
    "plt.ylabel('Values')\n",
    "plt.title('Boxplot of Numeric Columns')\n",
    "plt.show()"
   ]
  },
  {
   "cell_type": "markdown",
   "metadata": {},
   "source": [
    "The boxplots indicates there are outliers present but we cant drop them because they are actual events recorded."
   ]
  },
  {
   "cell_type": "markdown",
   "metadata": {},
   "source": [
    "The code below takes a wide-form dataframe (`df`) and melts it into a long-form DataFrame, converts the `Date` column to datetime format, drops rows with missing `value` entries, and finally returns a dataframe grouped by date with the mean value for each date."
   ]
  },
  {
   "cell_type": "code",
   "execution_count": 85,
   "metadata": {},
   "outputs": [],
   "source": [
    "#Melt Data Function\n",
    "def melt_data(df):\n",
    "    \"\"\"\n",
    "    Takes the zillow_data dataset in wide form or a subset of the zillow_dataset.  \n",
    "    Returns a long-form datetime dataframe \n",
    "    with the datetime column names as the index and the values as the 'values' column.\n",
    "    \n",
    "    If more than one row is passes in the wide-form dataset, the values column\n",
    "    will be the mean of the values from the datetime columns in all of the rows.\n",
    "    \"\"\"\n",
    "    \n",
    "    #Melt the DataFrame\n",
    "    melted = pd.melt(df, id_vars=['RegionName', 'RegionID', 'SizeRank', 'City', 'State', 'Metro', 'CountyName'], var_name='Date')\n",
    "    \n",
    "    #Convert the 'Date' column to datatime format\n",
    "    melted['Date'] = pd.to_datetime(melted['Date'], infer_datetime_format=True)\n",
    "    \n",
    "    #Drop rows with missing 'value' entries\n",
    "    melted = melted.dropna(subset=['value'])\n",
    "\n",
    "    #Group by 'Date' and calculate the mean of the 'value' column\n",
    "    return melted.groupby('Date').aggregate({'value':'mean'})"
   ]
  },
  {
   "cell_type": "markdown",
   "metadata": {},
   "source": [
    "The code below reshapes the DataFrame `data` using the pandas melt_data function and stores the result in a new DataFrame `data3`, providing an initial view of the reshaped data."
   ]
  },
  {
   "cell_type": "code",
   "execution_count": 86,
   "metadata": {},
   "outputs": [
    {
     "data": {
      "text/html": [
       "<div>\n",
       "<style scoped>\n",
       "    .dataframe tbody tr th:only-of-type {\n",
       "        vertical-align: middle;\n",
       "    }\n",
       "\n",
       "    .dataframe tbody tr th {\n",
       "        vertical-align: top;\n",
       "    }\n",
       "\n",
       "    .dataframe thead th {\n",
       "        text-align: right;\n",
       "    }\n",
       "</style>\n",
       "<table border=\"1\" class=\"dataframe\">\n",
       "  <thead>\n",
       "    <tr style=\"text-align: right;\">\n",
       "      <th></th>\n",
       "      <th>value</th>\n",
       "    </tr>\n",
       "    <tr>\n",
       "      <th>Date</th>\n",
       "      <th></th>\n",
       "    </tr>\n",
       "  </thead>\n",
       "  <tbody>\n",
       "    <tr>\n",
       "      <th>1996-04-01</th>\n",
       "      <td>118299.123063</td>\n",
       "    </tr>\n",
       "    <tr>\n",
       "      <th>1996-05-01</th>\n",
       "      <td>118419.044139</td>\n",
       "    </tr>\n",
       "    <tr>\n",
       "      <th>1996-06-01</th>\n",
       "      <td>118537.423268</td>\n",
       "    </tr>\n",
       "    <tr>\n",
       "      <th>1996-07-01</th>\n",
       "      <td>118653.069278</td>\n",
       "    </tr>\n",
       "    <tr>\n",
       "      <th>1996-08-01</th>\n",
       "      <td>118780.254312</td>\n",
       "    </tr>\n",
       "  </tbody>\n",
       "</table>\n",
       "</div>"
      ],
      "text/plain": [
       "                    value\n",
       "Date                     \n",
       "1996-04-01  118299.123063\n",
       "1996-05-01  118419.044139\n",
       "1996-06-01  118537.423268\n",
       "1996-07-01  118653.069278\n",
       "1996-08-01  118780.254312"
      ]
     },
     "execution_count": 86,
     "metadata": {},
     "output_type": "execute_result"
    }
   ],
   "source": [
    "# Reshape the DataFrame 'data' using the 'melt_data' function and store the result in 'data3'\n",
    "data3 = melt_data(data)\n",
    "\n",
    "# Display the first few rows of the reshaped DataFrame 'data3'\n",
    "data3.head()"
   ]
  },
  {
   "cell_type": "code",
   "execution_count": 87,
   "metadata": {},
   "outputs": [
    {
     "data": {
      "text/plain": [
       "(265, 1)"
      ]
     },
     "execution_count": 87,
     "metadata": {},
     "output_type": "execute_result"
    }
   ],
   "source": [
    "data3.shape"
   ]
  },
  {
   "cell_type": "code",
   "execution_count": 88,
   "metadata": {},
   "outputs": [
    {
     "name": "stdout",
     "output_type": "stream",
     "text": [
      "-------------------------Missing Values Check---------------------------------------\n",
      "\n",
      "Number of null values in each column in the dataset:\n",
      "value    0\n",
      "dtype: int64\n",
      "\n",
      "-------------------------Duplicated Values Check------------------------------------\n",
      "\n",
      "Number of duplicated values in the dataset: 0\n",
      "\n",
      "-------------------------Placeholder Values Check-----------------------------------\n",
      "\n",
      "Column: 'value'\n",
      "Placeholders found: []\n",
      "Count of placeholders: 0\n",
      "\n"
     ]
    }
   ],
   "source": [
    "# Call the 'data_prep' function to perform data preparation steps on the DataFrame 'data3'\n",
    "data_prep(data3)\n"
   ]
  },
  {
   "cell_type": "code",
   "execution_count": 89,
   "metadata": {},
   "outputs": [],
   "source": [
    "data2['RegionName'] = data2['RegionName'].astype('str')"
   ]
  },
  {
   "cell_type": "markdown",
   "metadata": {},
   "source": [
    "## Exprolatory Data Analysis"
   ]
  },
  {
   "cell_type": "markdown",
   "metadata": {},
   "source": [
    "#### Univariate Analysis"
   ]
  },
  {
   "cell_type": "code",
   "execution_count": 90,
   "metadata": {},
   "outputs": [
    {
     "data": {
      "image/png": "[encoded data removed]",
      "text/plain": [
       "<Figure size 864x432 with 1 Axes>"
      ]
     },
     "metadata": {
      "needs_background": "light"
     },
     "output_type": "display_data"
    }
   ],
   "source": [
    "# A histogram of Returns on Investment\n",
    "plt.figure(figsize=(12,6))\n",
    "sns.histplot(data2['Return On Investment'], bins= 'auto', kde=True)\n",
    "plt.title('Return On Investment Histogram')\n",
    "plt.xlabel('Return on Investment')\n",
    "plt.show()"
   ]
  },
  {
   "cell_type": "markdown",
   "metadata": {},
   "source": [
    "The returns on investment had a postive skewness."
   ]
  },
  {
   "cell_type": "code",
   "execution_count": 91,
   "metadata": {},
   "outputs": [
    {
     "data": {
      "image/png": "[encoded data removed]",
      "text/plain": [
       "<Figure size 864x432 with 1 Axes>"
      ]
     },
     "metadata": {
      "needs_background": "light"
     },
     "output_type": "display_data"
    }
   ],
   "source": [
    "# Countplot for the number of houses by state\n",
    "plt.figure(figsize=(12,6))\n",
    "sns.countplot(data2['State'], order=data2['State'].value_counts().index)\n",
    "plt.xticks(rotation = 90)\n",
    "plt.title('Number of Houses by State')\n",
    "plt.show()"
   ]
  },
  {
   "cell_type": "markdown",
   "metadata": {},
   "source": [
    "The number of houses was highest in California, New York, Texas, Pennsylvania, and Florida, respectively. The states with the least number of houses were South Dakota, Vermont, Washington DC, Wyoming, and Arkansas, respectively. "
   ]
  },
  {
   "cell_type": "markdown",
   "metadata": {},
   "source": [
    "#### Bivariate Analysis"
   ]
  },
  {
   "cell_type": "code",
   "execution_count": 92,
   "metadata": {},
   "outputs": [
    {
     "data": {
      "image/png": "[encoded data removed]",
      "text/plain": [
       "<Figure size 864x432 with 1 Axes>"
      ]
     },
     "metadata": {
      "needs_background": "light"
     },
     "output_type": "display_data"
    }
   ],
   "source": [
    "# Top five zipcodes with highest ROI\n",
    "plt.figure(figsize= (12,6)) \n",
    "plt.bar(data2['RegionName'][:5], data2['Return On Investment'][:5])\n",
    "plt.xticks(rotation=90)\n",
    "plt.title('Return On Investment by ZipCode')\n",
    "plt.xlabel('ZipCode')\n",
    "plt.ylabel('Return On Investment')\n",
    "plt.show()"
   ]
  },
  {
   "cell_type": "code",
   "execution_count": 93,
   "metadata": {},
   "outputs": [
    {
     "data": {
      "image/png": "[encoded data removed]",
      "text/plain": [
       "<Figure size 864x432 with 1 Axes>"
      ]
     },
     "metadata": {
      "needs_background": "light"
     },
     "output_type": "display_data"
    }
   ],
   "source": [
    "# Regions with the lowest returns on investment\n",
    "plt.figure(figsize= (12,6)) \n",
    "plt.bar(data2['RegionName'][-5:], data2['Return On Investment'][-5:])\n",
    "plt.xticks(rotation=90)\n",
    "plt.title('Return On Investment by ZipCode')\n",
    "plt.xlabel('ZipCode')\n",
    "plt.ylabel('Return On Investment')\n",
    "plt.show()"
   ]
  },
  {
   "cell_type": "code",
   "execution_count": 94,
   "metadata": {},
   "outputs": [
    {
     "data": {
      "image/png": "[encoded data removed]",
      "text/plain": [
       "<Figure size 864x432 with 1 Axes>"
      ]
     },
     "metadata": {
      "needs_background": "light"
     },
     "output_type": "display_data"
    }
   ],
   "source": [
    "# Top five cities with highest ROI\n",
    "plt.figure(figsize= (12,6)) \n",
    "plt.bar(data2['City'][:10], data2['Return On Investment'][:10])\n",
    "plt.xticks(rotation=90)\n",
    "plt.title('Return On Investment by City')\n",
    "plt.xlabel('City')\n",
    "plt.ylabel('Return On Investment')\n",
    "plt.show()"
   ]
  },
  {
   "cell_type": "code",
   "execution_count": 95,
   "metadata": {},
   "outputs": [
    {
     "data": {
      "image/png": "[encoded data removed]",
      "text/plain": [
       "<Figure size 864x432 with 1 Axes>"
      ]
     },
     "metadata": {
      "needs_background": "light"
     },
     "output_type": "display_data"
    }
   ],
   "source": [
    "# Cities with the lowest returns on investment\n",
    "plt.figure(figsize= (12,6)) \n",
    "plt.bar(data2['City'][-10:], data2['Return On Investment'][-10:])\n",
    "plt.xticks(rotation=90)\n",
    "plt.title('Return On Investment by City')\n",
    "plt.xlabel('City')\n",
    "plt.ylabel('Return On Investment')\n",
    "plt.show()"
   ]
  },
  {
   "cell_type": "markdown",
   "metadata": {},
   "source": [
    "The cities with the highest returns on investment are New York, Jersey City, Wainscott, Amagansett, Hartsell, Los Angeles, and Washington. However, the cities with the lowest returns on investment are Flint, Austin, Johnstown, Carpron, Rock Falls, Indianapolis, Prophetstown, Earle, and Belvidere. Now, proceeding to the best and worst performing states based on the returns on investment."
   ]
  },
  {
   "cell_type": "code",
   "execution_count": 96,
   "metadata": {},
   "outputs": [
    {
     "data": {
      "image/png": "[encoded data removed]",
      "text/plain": [
       "<Figure size 864x432 with 1 Axes>"
      ]
     },
     "metadata": {
      "needs_background": "light"
     },
     "output_type": "display_data"
    }
   ],
   "source": [
    "# Top five states with highest ROI \n",
    "plt.figure(figsize= (12,6)) \n",
    "plt.bar(data2['State'][:10], data2['Return On Investment'][:10])\n",
    "plt.xticks(rotation=90)\n",
    "plt.title('Return On Investment by State')\n",
    "plt.xlabel('State')\n",
    "plt.ylabel('Return On Investment')\n",
    "plt.show()"
   ]
  },
  {
   "cell_type": "code",
   "execution_count": 97,
   "metadata": {},
   "outputs": [
    {
     "data": {
      "image/png": "[encoded data removed]",
      "text/plain": [
       "<Figure size 864x432 with 1 Axes>"
      ]
     },
     "metadata": {
      "needs_background": "light"
     },
     "output_type": "display_data"
    }
   ],
   "source": [
    "# Bottom five states with highest ROI \n",
    "plt.figure(figsize= (12,6)) \n",
    "plt.bar(data2['State'][-10:], data2['Return On Investment'][-10:])\n",
    "plt.xticks(rotation=90)\n",
    "plt.title('Return On Investment by State')\n",
    "plt.xlabel('State')\n",
    "plt.ylabel('Return On Investment')\n",
    "plt.show()"
   ]
  },
  {
   "cell_type": "markdown",
   "metadata": {},
   "source": [
    "The states with the highest reurns on investment are New York, New Jersey, Colorado, California, and Washington DC. On the other hand, the states with the lowest returns on investment are Michigan, Texas, Pennsylvania, Indiana, Arkansas, and Illinois. We can go ahead and conduct time series analysis. "
   ]
  },
  {
   "cell_type": "markdown",
   "metadata": {},
   "source": [
    "### Time Series Analysis"
   ]
  },
  {
   "cell_type": "code",
   "execution_count": 98,
   "metadata": {},
   "outputs": [
    {
     "data": {
      "image/png": "[encoded data removed]",
      "text/plain": [
       "<Figure size 720x432 with 1 Axes>"
      ]
     },
     "metadata": {
      "needs_background": "light"
     },
     "output_type": "display_data"
    }
   ],
   "source": [
    "# Creating a line plot of the data\n",
    "data3.plot(figsize=(10,6));"
   ]
  },
  {
   "cell_type": "code",
   "execution_count": 99,
   "metadata": {},
   "outputs": [
    {
     "data": {
      "text/html": [
       "<div>\n",
       "<style scoped>\n",
       "    .dataframe tbody tr th:only-of-type {\n",
       "        vertical-align: middle;\n",
       "    }\n",
       "\n",
       "    .dataframe tbody tr th {\n",
       "        vertical-align: top;\n",
       "    }\n",
       "\n",
       "    .dataframe thead th {\n",
       "        text-align: right;\n",
       "    }\n",
       "</style>\n",
       "<table border=\"1\" class=\"dataframe\">\n",
       "  <thead>\n",
       "    <tr style=\"text-align: right;\">\n",
       "      <th></th>\n",
       "      <th>value</th>\n",
       "    </tr>\n",
       "    <tr>\n",
       "      <th>Date</th>\n",
       "      <th></th>\n",
       "    </tr>\n",
       "  </thead>\n",
       "  <tbody>\n",
       "    <tr>\n",
       "      <th>1996-06-30</th>\n",
       "      <td>118418.530157</td>\n",
       "    </tr>\n",
       "    <tr>\n",
       "      <th>1996-09-30</th>\n",
       "      <td>118786.950697</td>\n",
       "    </tr>\n",
       "    <tr>\n",
       "      <th>1996-12-31</th>\n",
       "      <td>119383.652441</td>\n",
       "    </tr>\n",
       "    <tr>\n",
       "      <th>1997-03-31</th>\n",
       "      <td>120520.710319</td>\n",
       "    </tr>\n",
       "    <tr>\n",
       "      <th>1997-06-30</th>\n",
       "      <td>121659.059242</td>\n",
       "    </tr>\n",
       "  </tbody>\n",
       "</table>\n",
       "</div>"
      ],
      "text/plain": [
       "                    value\n",
       "Date                     \n",
       "1996-06-30  118418.530157\n",
       "1996-09-30  118786.950697\n",
       "1996-12-31  119383.652441\n",
       "1997-03-31  120520.710319\n",
       "1997-06-30  121659.059242"
      ]
     },
     "execution_count": 99,
     "metadata": {},
     "output_type": "execute_result"
    }
   ],
   "source": [
    "# Resampling\n",
    "quarterly_df = data3.resample('Q').mean()\n",
    "quarterly_df.head()"
   ]
  },
  {
   "cell_type": "code",
   "execution_count": 100,
   "metadata": {},
   "outputs": [
    {
     "data": {
      "image/png": "[encoded data removed]",
      "text/plain": [
       "<Figure size 720x432 with 1 Axes>"
      ]
     },
     "metadata": {
      "needs_background": "light"
     },
     "output_type": "display_data"
    }
   ],
   "source": [
    "# Plotting data resampled quarterly\n",
    "quarterly_df.plot(figsize=(10,6));"
   ]
  },
  {
   "cell_type": "code",
   "execution_count": 101,
   "metadata": {},
   "outputs": [
    {
     "data": {
      "text/html": [
       "<div>\n",
       "<style scoped>\n",
       "    .dataframe tbody tr th:only-of-type {\n",
       "        vertical-align: middle;\n",
       "    }\n",
       "\n",
       "    .dataframe tbody tr th {\n",
       "        vertical-align: top;\n",
       "    }\n",
       "\n",
       "    .dataframe thead th {\n",
       "        text-align: right;\n",
       "    }\n",
       "</style>\n",
       "<table border=\"1\" class=\"dataframe\">\n",
       "  <thead>\n",
       "    <tr style=\"text-align: right;\">\n",
       "      <th></th>\n",
       "      <th>value</th>\n",
       "    </tr>\n",
       "    <tr>\n",
       "      <th>Date</th>\n",
       "      <th></th>\n",
       "    </tr>\n",
       "  </thead>\n",
       "  <tbody>\n",
       "    <tr>\n",
       "      <th>1996-06-30</th>\n",
       "      <td>118418.530157</td>\n",
       "    </tr>\n",
       "    <tr>\n",
       "      <th>1996-12-31</th>\n",
       "      <td>119085.301569</td>\n",
       "    </tr>\n",
       "    <tr>\n",
       "      <th>1997-06-30</th>\n",
       "      <td>121089.884780</td>\n",
       "    </tr>\n",
       "    <tr>\n",
       "      <th>1997-12-31</th>\n",
       "      <td>123640.518816</td>\n",
       "    </tr>\n",
       "    <tr>\n",
       "      <th>1998-06-30</th>\n",
       "      <td>127404.630915</td>\n",
       "    </tr>\n",
       "  </tbody>\n",
       "</table>\n",
       "</div>"
      ],
      "text/plain": [
       "                    value\n",
       "Date                     \n",
       "1996-06-30  118418.530157\n",
       "1996-12-31  119085.301569\n",
       "1997-06-30  121089.884780\n",
       "1997-12-31  123640.518816\n",
       "1998-06-30  127404.630915"
      ]
     },
     "execution_count": 101,
     "metadata": {},
     "output_type": "execute_result"
    }
   ],
   "source": [
    "# Semi-annual resampling\n",
    "semiannual_df = data3.resample('2Q').mean()\n",
    "semiannual_df.head()"
   ]
  },
  {
   "cell_type": "code",
   "execution_count": 102,
   "metadata": {},
   "outputs": [
    {
     "data": {
      "text/plain": [
       "<AxesSubplot:xlabel='Date'>"
      ]
     },
     "execution_count": 102,
     "metadata": {},
     "output_type": "execute_result"
    },
    {
     "data": {
      "image/png": "[encoded data removed]",
      "text/plain": [
       "<Figure size 720x432 with 1 Axes>"
      ]
     },
     "metadata": {
      "needs_background": "light"
     },
     "output_type": "display_data"
    }
   ],
   "source": [
    "# Plotting data resampled semi-annually\n",
    "semiannual_df.plot(figsize=(10,6))"
   ]
  },
  {
   "cell_type": "code",
   "execution_count": 103,
   "metadata": {},
   "outputs": [
    {
     "data": {
      "text/html": [
       "<div>\n",
       "<style scoped>\n",
       "    .dataframe tbody tr th:only-of-type {\n",
       "        vertical-align: middle;\n",
       "    }\n",
       "\n",
       "    .dataframe tbody tr th {\n",
       "        vertical-align: top;\n",
       "    }\n",
       "\n",
       "    .dataframe thead th {\n",
       "        text-align: right;\n",
       "    }\n",
       "</style>\n",
       "<table border=\"1\" class=\"dataframe\">\n",
       "  <thead>\n",
       "    <tr style=\"text-align: right;\">\n",
       "      <th></th>\n",
       "      <th>value</th>\n",
       "    </tr>\n",
       "    <tr>\n",
       "      <th>Date</th>\n",
       "      <th></th>\n",
       "    </tr>\n",
       "  </thead>\n",
       "  <tbody>\n",
       "    <tr>\n",
       "      <th>1996-12-31</th>\n",
       "      <td>118863.044431</td>\n",
       "    </tr>\n",
       "    <tr>\n",
       "      <th>1997-12-31</th>\n",
       "      <td>122365.201798</td>\n",
       "    </tr>\n",
       "    <tr>\n",
       "      <th>1998-12-31</th>\n",
       "      <td>129392.784516</td>\n",
       "    </tr>\n",
       "    <tr>\n",
       "      <th>1999-12-31</th>\n",
       "      <td>138962.489345</td>\n",
       "    </tr>\n",
       "    <tr>\n",
       "      <th>2000-12-31</th>\n",
       "      <td>151834.752563</td>\n",
       "    </tr>\n",
       "  </tbody>\n",
       "</table>\n",
       "</div>"
      ],
      "text/plain": [
       "                    value\n",
       "Date                     \n",
       "1996-12-31  118863.044431\n",
       "1997-12-31  122365.201798\n",
       "1998-12-31  129392.784516\n",
       "1999-12-31  138962.489345\n",
       "2000-12-31  151834.752563"
      ]
     },
     "execution_count": 103,
     "metadata": {},
     "output_type": "execute_result"
    }
   ],
   "source": [
    "# Annual Resampling\n",
    "annual_df = data3.resample('Y').mean()\n",
    "annual_df.head()"
   ]
  },
  {
   "cell_type": "code",
   "execution_count": 104,
   "metadata": {},
   "outputs": [
    {
     "data": {
      "image/png": "[encoded data removed]",
      "text/plain": [
       "<Figure size 720x432 with 1 Axes>"
      ]
     },
     "metadata": {
      "needs_background": "light"
     },
     "output_type": "display_data"
    }
   ],
   "source": [
    "# A plot of data resampled annually\n",
    "annual_df.plot(figsize=(10,6));"
   ]
  },
  {
   "cell_type": "markdown",
   "metadata": {},
   "source": [
    "Based on the monthly, quarterly, semi-annual, and annual graphs, we can see that there is an upward trend from 1996 to 2018. However, there is a decrease between 2006 and 2013, which is attributed to the recession and the 2008 market crash. We can now look at the rolling statistics. "
   ]
  },
  {
   "cell_type": "code",
   "execution_count": 105,
   "metadata": {},
   "outputs": [],
   "source": [
    "# Rolling mean\n",
    "roll_mean = data3.rolling(window=12, center=False).mean()\n",
    "roll_std = data3.rolling(window=12, center=False).std()"
   ]
  },
  {
   "cell_type": "code",
   "execution_count": 106,
   "metadata": {},
   "outputs": [
    {
     "data": {
      "image/png": "[encoded data removed]",
      "text/plain": [
       "<Figure size 864x504 with 1 Axes>"
      ]
     },
     "metadata": {
      "needs_background": "light"
     },
     "output_type": "display_data"
    }
   ],
   "source": [
    "# Plotting the rolling statistics \n",
    "fig = plt.figure(figsize=(12,7))\n",
    "plt.plot(data3, color='blue', label='Original')\n",
    "plt.plot(roll_mean, color='red', label='Rolling Mean')\n",
    "plt.plot(roll_std, color='black', label='Rolling Standard Deviation')\n",
    "plt.legend(loc='best')\n",
    "plt.title('Rolling Statistics')\n",
    "plt.show(block=False);"
   ]
  },
  {
   "cell_type": "code",
   "execution_count": 107,
   "metadata": {},
   "outputs": [
    {
     "name": "stdout",
     "output_type": "stream",
     "text": [
      "Results of Dickey-Fuller test: \n",
      "\n",
      "Test Statistic                  -1.885145\n",
      "p-value                          0.339082\n",
      "#Lags Used                       2.000000\n",
      "Number of Observations Used    262.000000\n",
      "Critical Values (1%)            -3.455558\n",
      "Critical Values (5%)            -2.872636\n",
      "Critical Values (10%)           -2.572683\n",
      "dtype: float64\n"
     ]
    }
   ],
   "source": [
    "# Dickey-Fuller Test\n",
    "dftest = adfuller(data3)\n",
    "dfoutput = pd.Series(dftest[0:4], index=['Test Statistic', 'p-value', '#Lags Used', 'Number of Observations Used'])\n",
    "for key, value in dftest[4].items():\n",
    "    dfoutput['Critical Values (%s)'%key] = value\n",
    "\n",
    "print('Results of Dickey-Fuller test: \\n')\n",
    "print(dfoutput)"
   ]
  },
  {
   "cell_type": "markdown",
   "metadata": {},
   "source": [
    "Based on the plot and the p-value, we can see that our data is not stationary. This will be dealt with in the modeling part of this project. "
   ]
  },
  {
   "cell_type": "markdown",
   "metadata": {},
   "source": [
    "## Time Series Modeling  \n",
    "\n",
    "### Preprocessing"
   ]
  },
  {
   "cell_type": "markdown",
   "metadata": {},
   "source": [
    "Previously, we saw that our data was not stationary and to meet the assumptions of the ARIMA model we need to make the data stationary"
   ]
  },
  {
   "cell_type": "code",
   "execution_count": 108,
   "metadata": {},
   "outputs": [
    {
     "data": {
      "text/html": [
       "<div>\n",
       "<style scoped>\n",
       "    .dataframe tbody tr th:only-of-type {\n",
       "        vertical-align: middle;\n",
       "    }\n",
       "\n",
       "    .dataframe tbody tr th {\n",
       "        vertical-align: top;\n",
       "    }\n",
       "\n",
       "    .dataframe thead th {\n",
       "        text-align: right;\n",
       "    }\n",
       "</style>\n",
       "<table border=\"1\" class=\"dataframe\">\n",
       "  <thead>\n",
       "    <tr style=\"text-align: right;\">\n",
       "      <th></th>\n",
       "      <th>value</th>\n",
       "    </tr>\n",
       "    <tr>\n",
       "      <th>Date</th>\n",
       "      <th></th>\n",
       "    </tr>\n",
       "  </thead>\n",
       "  <tbody>\n",
       "    <tr>\n",
       "      <th>1996-05-01</th>\n",
       "      <td>119.921076</td>\n",
       "    </tr>\n",
       "    <tr>\n",
       "      <th>1996-06-01</th>\n",
       "      <td>118.379129</td>\n",
       "    </tr>\n",
       "    <tr>\n",
       "      <th>1996-07-01</th>\n",
       "      <td>115.646010</td>\n",
       "    </tr>\n",
       "    <tr>\n",
       "      <th>1996-08-01</th>\n",
       "      <td>127.185034</td>\n",
       "    </tr>\n",
       "    <tr>\n",
       "      <th>1996-09-01</th>\n",
       "      <td>147.274189</td>\n",
       "    </tr>\n",
       "  </tbody>\n",
       "</table>\n",
       "</div>"
      ],
      "text/plain": [
       "                 value\n",
       "Date                  \n",
       "1996-05-01  119.921076\n",
       "1996-06-01  118.379129\n",
       "1996-07-01  115.646010\n",
       "1996-08-01  127.185034\n",
       "1996-09-01  147.274189"
      ]
     },
     "execution_count": 108,
     "metadata": {},
     "output_type": "execute_result"
    }
   ],
   "source": [
    "#We start with a differencing of one\n",
    "df_diff = data3.diff(periods=1).dropna()\n",
    "df_diff.head()"
   ]
  },
  {
   "cell_type": "code",
   "execution_count": 109,
   "metadata": {},
   "outputs": [
    {
     "data": {
      "image/png": "[encoded data removed]",
      "text/plain": [
       "<Figure size 864x504 with 1 Axes>"
      ]
     },
     "metadata": {
      "needs_background": "light"
     },
     "output_type": "display_data"
    }
   ],
   "source": [
    "#Plotting to see if the data is stationary\n",
    "\n",
    "# Calculate rolling mean and rolling standard deviation\n",
    "roll_mean2 = df_diff.rolling(window=12, center=False).mean()\n",
    "roll_std2 = df_diff.rolling(window=12, center=False).std()\n",
    "\n",
    "#Plot\n",
    "fig = plt.figure(figsize=(12,7))\n",
    "plt.plot(df_diff, color='blue', label='Original')\n",
    "plt.plot(roll_mean2, color='red', label='Rolling Mean')\n",
    "plt.plot(roll_std2, color='black', label='Rolling Standard Deviation')\n",
    "\n",
    "plt.legend(loc='best')\n",
    "plt.title('Rolling Statistics')\n",
    "plt.show(block=False);"
   ]
  },
  {
   "cell_type": "markdown",
   "metadata": {},
   "source": [
    "From the plot we can see that our data is not stationary, for confirmation we have the Dickey-Fuller test below:  "
   ]
  },
  {
   "cell_type": "code",
   "execution_count": 110,
   "metadata": {},
   "outputs": [
    {
     "name": "stdout",
     "output_type": "stream",
     "text": [
      "Results of Dickey-Fuller test: \n",
      "\n",
      "Test Statistic                  -2.548782\n",
      "p-value                          0.104052\n",
      "#Lags Used                      13.000000\n",
      "Number of Observations Used    250.000000\n",
      "Critical Values (1%)            -3.456781\n",
      "Critical Values (5%)            -2.873172\n",
      "Critical Values (10%)           -2.572969\n",
      "dtype: float64\n"
     ]
    }
   ],
   "source": [
    "#Dickey-Fuller Test\n",
    "dftest = adfuller(df_diff)\n",
    "dfoutput = pd.Series(dftest[0:4], index=['Test Statistic', 'p-value', '#Lags Used', 'Number of Observations Used'])\n",
    "for key, value in dftest[4].items():\n",
    "    dfoutput['Critical Values (%s)'%key] = value\n",
    "\n",
    "print('Results of Dickey-Fuller test: \\n')\n",
    "print(dfoutput)"
   ]
  },
  {
   "cell_type": "markdown",
   "metadata": {},
   "source": [
    "The null hypothesis for the Dickey-Fuller test is that the time series is not stationary.  \n",
    "The p-value is at 0.104 more than 0.05 and the test statistic more than the critical values, therefore we fail to reject the null hypothesis and conclude that our data is not stationary"
   ]
  },
  {
   "cell_type": "code",
   "execution_count": 111,
   "metadata": {},
   "outputs": [
    {
     "data": {
      "text/html": [
       "<div>\n",
       "<style scoped>\n",
       "    .dataframe tbody tr th:only-of-type {\n",
       "        vertical-align: middle;\n",
       "    }\n",
       "\n",
       "    .dataframe tbody tr th {\n",
       "        vertical-align: top;\n",
       "    }\n",
       "\n",
       "    .dataframe thead th {\n",
       "        text-align: right;\n",
       "    }\n",
       "</style>\n",
       "<table border=\"1\" class=\"dataframe\">\n",
       "  <thead>\n",
       "    <tr style=\"text-align: right;\">\n",
       "      <th></th>\n",
       "      <th>value</th>\n",
       "    </tr>\n",
       "    <tr>\n",
       "      <th>Date</th>\n",
       "      <th></th>\n",
       "    </tr>\n",
       "  </thead>\n",
       "  <tbody>\n",
       "    <tr>\n",
       "      <th>1996-06-01</th>\n",
       "      <td>-1.541947</td>\n",
       "    </tr>\n",
       "    <tr>\n",
       "      <th>1996-07-01</th>\n",
       "      <td>-2.733119</td>\n",
       "    </tr>\n",
       "    <tr>\n",
       "      <th>1996-08-01</th>\n",
       "      <td>11.539024</td>\n",
       "    </tr>\n",
       "    <tr>\n",
       "      <th>1996-09-01</th>\n",
       "      <td>20.089155</td>\n",
       "    </tr>\n",
       "    <tr>\n",
       "      <th>1996-10-01</th>\n",
       "      <td>45.717626</td>\n",
       "    </tr>\n",
       "  </tbody>\n",
       "</table>\n",
       "</div>"
      ],
      "text/plain": [
       "                value\n",
       "Date                 \n",
       "1996-06-01  -1.541947\n",
       "1996-07-01  -2.733119\n",
       "1996-08-01  11.539024\n",
       "1996-09-01  20.089155\n",
       "1996-10-01  45.717626"
      ]
     },
     "execution_count": 111,
     "metadata": {},
     "output_type": "execute_result"
    }
   ],
   "source": [
    "#Differencing the data again\n",
    "df_diff2 = df_diff.diff(periods=1).dropna()\n",
    "df_diff2.head()"
   ]
  },
  {
   "cell_type": "code",
   "execution_count": 112,
   "metadata": {},
   "outputs": [
    {
     "data": {
      "image/png": "[encoded data removed]",
      "text/plain": [
       "<Figure size 864x504 with 1 Axes>"
      ]
     },
     "metadata": {
      "needs_background": "light"
     },
     "output_type": "display_data"
    }
   ],
   "source": [
    "#Plotting to check stationarity\n",
    "\n",
    "#Calculating rolling mean and rolling standard deviation \n",
    "roll_mean3 = df_diff2.rolling(window=12, center=False).mean()\n",
    "roll_std3 = df_diff2.rolling(window=12, center=False).std()\n",
    "\n",
    "#Plot\n",
    "fig = plt.figure(figsize=(12,7))\n",
    "plt.plot(df_diff2, color='blue', label='Original')\n",
    "plt.plot(roll_mean3, color='red', label='Rolling Mean')\n",
    "plt.plot(roll_std3, color='black', label='Rolling Standard Deviation')\n",
    "plt.legend(loc='best')\n",
    "plt.title('Rolling Statistics')\n",
    "plt.show(block=False);"
   ]
  },
  {
   "cell_type": "code",
   "execution_count": 113,
   "metadata": {},
   "outputs": [
    {
     "name": "stdout",
     "output_type": "stream",
     "text": [
      "Results of Dickey-Fuller test: \n",
      "\n",
      "Test Statistic                 -21.111269\n",
      "p-value                          0.000000\n",
      "#Lags Used                       0.000000\n",
      "Number of Observations Used    262.000000\n",
      "Critical Values (1%)            -3.455558\n",
      "Critical Values (5%)            -2.872636\n",
      "Critical Values (10%)           -2.572683\n",
      "dtype: float64\n"
     ]
    }
   ],
   "source": [
    "#Dickey-Fuller Test\n",
    "dftest = adfuller(df_diff2)\n",
    "dfoutput = pd.Series(dftest[0:4], index=['Test Statistic', 'p-value', '#Lags Used', 'Number of Observations Used'])\n",
    "for key, value in dftest[4].items():\n",
    "    dfoutput['Critical Values (%s)'%key] = value\n",
    "\n",
    "print('Results of Dickey-Fuller test: \\n')\n",
    "print(dfoutput)"
   ]
  },
  {
   "cell_type": "markdown",
   "metadata": {},
   "source": [
    "The p-value is at 0.00 which is less than 0.05 and the test statistic is less than the critical values, therefore we therefore  reject the null hypothesis and conclude that our data is now stationary."
   ]
  },
  {
   "cell_type": "markdown",
   "metadata": {},
   "source": [
    "Before creating our model we will plot the Autocorrelation and Partial Autocorrelation Graphs to decide on the order of the baseline ARIMA model"
   ]
  },
  {
   "cell_type": "markdown",
   "metadata": {},
   "source": [
    "#### Autocorrelation Graph"
   ]
  },
  {
   "cell_type": "code",
   "execution_count": 114,
   "metadata": {},
   "outputs": [
    {
     "data": {
      "image/png": "[encoded data removed]",
      "text/plain": [
       "<Figure size 1008x360 with 1 Axes>"
      ]
     },
     "execution_count": 114,
     "metadata": {},
     "output_type": "execute_result"
    },
    {
     "data": {
      "image/png": "[encoded data removed]",
      "text/plain": [
       "<Figure size 1008x360 with 1 Axes>"
      ]
     },
     "metadata": {
      "needs_background": "light"
     },
     "output_type": "display_data"
    }
   ],
   "source": [
    "rcParams['figure.figsize'] = 14, 5\n",
    "plot_acf(df_diff2, lags=50)"
   ]
  },
  {
   "cell_type": "markdown",
   "metadata": {},
   "source": [
    "#### Partial Autocorrelation"
   ]
  },
  {
   "cell_type": "code",
   "execution_count": 115,
   "metadata": {},
   "outputs": [
    {
     "data": {
      "image/png": "[encoded data removed]",
      "text/plain": [
       "<Figure size 1008x360 with 1 Axes>"
      ]
     },
     "execution_count": 115,
     "metadata": {},
     "output_type": "execute_result"
    },
    {
     "data": {
      "image/png": "[encoded data removed]",
      "text/plain": [
       "<Figure size 1008x360 with 1 Axes>"
      ]
     },
     "metadata": {
      "needs_background": "light"
     },
     "output_type": "display_data"
    }
   ],
   "source": [
    "rcParams['figure.figsize'] = 14, 5\n",
    "plot_pacf(df_diff2, lags=50)"
   ]
  },
  {
   "cell_type": "markdown",
   "metadata": {},
   "source": [
    "For better model evaluation we decide to split our data to have a train and test data"
   ]
  },
  {
   "cell_type": "code",
   "execution_count": 116,
   "metadata": {},
   "outputs": [
    {
     "name": "stdout",
     "output_type": "stream",
     "text": [
      "(197, 1)\n",
      "(66, 1)\n"
     ]
    }
   ],
   "source": [
    "#Data splitting at 75% of the data\n",
    "train_size = int(len(df_diff2) * 0.75) \n",
    "train, test = df_diff2.iloc[:train_size], df_diff2.iloc[train_size:]\n",
    "print(train.shape)\n",
    "print(test.shape)"
   ]
  },
  {
   "cell_type": "code",
   "execution_count": 117,
   "metadata": {},
   "outputs": [],
   "source": [
    "#Function to calculate rmse and mae\n",
    "def metrics(y_test, y_pred):\n",
    "    rmse = np.sqrt(mean_squared_error(y_test, y_pred))\n",
    "    mae = mean_absolute_error(y_test, y_pred)\n",
    "    print(f'RMSE: {rmse}\\nMAE: {mae}')"
   ]
  },
  {
   "cell_type": "code",
   "execution_count": 118,
   "metadata": {},
   "outputs": [
    {
     "data": {
      "text/html": [
       "<table class=\"simpletable\">\n",
       "<caption>SARIMAX Results</caption>\n",
       "<tr>\n",
       "  <th>Dep. Variable:</th>         <td>value</td>      <th>  No. Observations:  </th>    <td>197</td>   \n",
       "</tr>\n",
       "<tr>\n",
       "  <th>Model:</th>            <td>ARIMA(1, 0, 1)</td>  <th>  Log Likelihood     </th> <td>-1405.623</td>\n",
       "</tr>\n",
       "<tr>\n",
       "  <th>Date:</th>            <td>Wed, 17 Jan 2024</td> <th>  AIC                </th> <td>2819.246</td> \n",
       "</tr>\n",
       "<tr>\n",
       "  <th>Time:</th>                <td>15:42:55</td>     <th>  BIC                </th> <td>2832.379</td> \n",
       "</tr>\n",
       "<tr>\n",
       "  <th>Sample:</th>             <td>06-01-1996</td>    <th>  HQIC               </th> <td>2824.562</td> \n",
       "</tr>\n",
       "<tr>\n",
       "  <th></th>                   <td>- 10-01-2012</td>   <th>                     </th>     <td> </td>    \n",
       "</tr>\n",
       "<tr>\n",
       "  <th>Covariance Type:</th>        <td>opg</td>       <th>                     </th>     <td> </td>    \n",
       "</tr>\n",
       "</table>\n",
       "<table class=\"simpletable\">\n",
       "<tr>\n",
       "     <td></td>       <th>coef</th>     <th>std err</th>      <th>z</th>      <th>P>|z|</th>  <th>[0.025</th>    <th>0.975]</th>  \n",
       "</tr>\n",
       "<tr>\n",
       "  <th>const</th>  <td>    3.3159</td> <td>   18.280</td> <td>    0.181</td> <td> 0.856</td> <td>  -32.512</td> <td>   39.144</td>\n",
       "</tr>\n",
       "<tr>\n",
       "  <th>ar.L1</th>  <td>   -0.1605</td> <td>    0.154</td> <td>   -1.041</td> <td> 0.298</td> <td>   -0.463</td> <td>    0.142</td>\n",
       "</tr>\n",
       "<tr>\n",
       "  <th>ma.L1</th>  <td>   -0.1332</td> <td>    0.160</td> <td>   -0.831</td> <td> 0.406</td> <td>   -0.448</td> <td>    0.181</td>\n",
       "</tr>\n",
       "<tr>\n",
       "  <th>sigma2</th> <td> 9.222e+04</td> <td> 2719.465</td> <td>   33.912</td> <td> 0.000</td> <td> 8.69e+04</td> <td> 9.76e+04</td>\n",
       "</tr>\n",
       "</table>\n",
       "<table class=\"simpletable\">\n",
       "<tr>\n",
       "  <th>Ljung-Box (L1) (Q):</th>     <td>0.00</td>  <th>  Jarque-Bera (JB):  </th> <td>8119.58</td>\n",
       "</tr>\n",
       "<tr>\n",
       "  <th>Prob(Q):</th>                <td>1.00</td>  <th>  Prob(JB):          </th>  <td>0.00</td>  \n",
       "</tr>\n",
       "<tr>\n",
       "  <th>Heteroskedasticity (H):</th> <td>56.02</td> <th>  Skew:              </th>  <td>-2.57</td> \n",
       "</tr>\n",
       "<tr>\n",
       "  <th>Prob(H) (two-sided):</th>    <td>0.00</td>  <th>  Kurtosis:          </th>  <td>34.03</td> \n",
       "</tr>\n",
       "</table><br/><br/>Warnings:<br/>[1] Covariance matrix calculated using the outer product of gradients (complex-step)."
      ],
      "text/plain": [
       "<class 'statsmodels.iolib.summary.Summary'>\n",
       "\"\"\"\n",
       "                               SARIMAX Results                                \n",
       "==============================================================================\n",
       "Dep. Variable:                  value   No. Observations:                  197\n",
       "Model:                 ARIMA(1, 0, 1)   Log Likelihood               -1405.623\n",
       "Date:                Wed, 17 Jan 2024   AIC                           2819.246\n",
       "Time:                        15:42:55   BIC                           2832.379\n",
       "Sample:                    06-01-1996   HQIC                          2824.562\n",
       "                         - 10-01-2012                                         \n",
       "Covariance Type:                  opg                                         \n",
       "==============================================================================\n",
       "                 coef    std err          z      P>|z|      [0.025      0.975]\n",
       "------------------------------------------------------------------------------\n",
       "const          3.3159     18.280      0.181      0.856     -32.512      39.144\n",
       "ar.L1         -0.1605      0.154     -1.041      0.298      -0.463       0.142\n",
       "ma.L1         -0.1332      0.160     -0.831      0.406      -0.448       0.181\n",
       "sigma2      9.222e+04   2719.465     33.912      0.000    8.69e+04    9.76e+04\n",
       "===================================================================================\n",
       "Ljung-Box (L1) (Q):                   0.00   Jarque-Bera (JB):              8119.58\n",
       "Prob(Q):                              1.00   Prob(JB):                         0.00\n",
       "Heteroskedasticity (H):              56.02   Skew:                            -2.57\n",
       "Prob(H) (two-sided):                  0.00   Kurtosis:                        34.03\n",
       "===================================================================================\n",
       "\n",
       "Warnings:\n",
       "[1] Covariance matrix calculated using the outer product of gradients (complex-step).\n",
       "\"\"\""
      ]
     },
     "execution_count": 118,
     "metadata": {},
     "output_type": "execute_result"
    }
   ],
   "source": [
    "#The baseline model\n",
    "baseline_model = ARIMA(train, order=(1, 0, 1))\n",
    "res_arima = baseline_model.fit()\n",
    "y_hat_baseline = res_arima.predict(start=len(train), end=len(train) + len(test) - 1, typ='levels')\n",
    "res_arima.summary()"
   ]
  },
  {
   "cell_type": "code",
   "execution_count": 119,
   "metadata": {},
   "outputs": [
    {
     "name": "stdout",
     "output_type": "stream",
     "text": [
      "RMSE: 157.32480030970973\n",
      "MAE: 113.60089999888011\n"
     ]
    }
   ],
   "source": [
    "metrics(test, y_hat_baseline)"
   ]
  },
  {
   "cell_type": "markdown",
   "metadata": {},
   "source": [
    "From the baseline model we have an RMSE of 157.32 and a Mean Absolute Error of 113.60, which is not a bad score but to try and improve it we tried a different model"
   ]
  },
  {
   "cell_type": "code",
   "execution_count": 120,
   "metadata": {},
   "outputs": [
    {
     "data": {
      "text/html": [
       "<table class=\"simpletable\">\n",
       "<caption>SARIMAX Results</caption>\n",
       "<tr>\n",
       "  <th>Dep. Variable:</th>         <td>value</td>      <th>  No. Observations:  </th>    <td>197</td>   \n",
       "</tr>\n",
       "<tr>\n",
       "  <th>Model:</th>            <td>ARIMA(1, 0, 3)</td>  <th>  Log Likelihood     </th> <td>-1404.750</td>\n",
       "</tr>\n",
       "<tr>\n",
       "  <th>Date:</th>            <td>Wed, 17 Jan 2024</td> <th>  AIC                </th> <td>2821.500</td> \n",
       "</tr>\n",
       "<tr>\n",
       "  <th>Time:</th>                <td>15:42:56</td>     <th>  BIC                </th> <td>2841.199</td> \n",
       "</tr>\n",
       "<tr>\n",
       "  <th>Sample:</th>             <td>06-01-1996</td>    <th>  HQIC               </th> <td>2829.475</td> \n",
       "</tr>\n",
       "<tr>\n",
       "  <th></th>                   <td>- 10-01-2012</td>   <th>                     </th>     <td> </td>    \n",
       "</tr>\n",
       "<tr>\n",
       "  <th>Covariance Type:</th>        <td>opg</td>       <th>                     </th>     <td> </td>    \n",
       "</tr>\n",
       "</table>\n",
       "<table class=\"simpletable\">\n",
       "<tr>\n",
       "     <td></td>       <th>coef</th>     <th>std err</th>      <th>z</th>      <th>P>|z|</th>  <th>[0.025</th>    <th>0.975]</th>  \n",
       "</tr>\n",
       "<tr>\n",
       "  <th>const</th>  <td>    3.2703</td> <td>   17.671</td> <td>    0.185</td> <td> 0.853</td> <td>  -31.364</td> <td>   37.905</td>\n",
       "</tr>\n",
       "<tr>\n",
       "  <th>ar.L1</th>  <td>   -0.7117</td> <td>    0.474</td> <td>   -1.500</td> <td> 0.134</td> <td>   -1.642</td> <td>    0.218</td>\n",
       "</tr>\n",
       "<tr>\n",
       "  <th>ma.L1</th>  <td>    0.4291</td> <td>    0.475</td> <td>    0.902</td> <td> 0.367</td> <td>   -0.503</td> <td>    1.361</td>\n",
       "</tr>\n",
       "<tr>\n",
       "  <th>ma.L2</th>  <td>   -0.1512</td> <td>    0.141</td> <td>   -1.073</td> <td> 0.283</td> <td>   -0.427</td> <td>    0.125</td>\n",
       "</tr>\n",
       "<tr>\n",
       "  <th>ma.L3</th>  <td>   -0.0475</td> <td>    0.083</td> <td>   -0.570</td> <td> 0.568</td> <td>   -0.211</td> <td>    0.116</td>\n",
       "</tr>\n",
       "<tr>\n",
       "  <th>sigma2</th> <td>  9.14e+04</td> <td> 2933.369</td> <td>   31.158</td> <td> 0.000</td> <td> 8.56e+04</td> <td> 9.71e+04</td>\n",
       "</tr>\n",
       "</table>\n",
       "<table class=\"simpletable\">\n",
       "<tr>\n",
       "  <th>Ljung-Box (L1) (Q):</th>     <td>0.00</td>  <th>  Jarque-Bera (JB):  </th> <td>8368.28</td>\n",
       "</tr>\n",
       "<tr>\n",
       "  <th>Prob(Q):</th>                <td>0.96</td>  <th>  Prob(JB):          </th>  <td>0.00</td>  \n",
       "</tr>\n",
       "<tr>\n",
       "  <th>Heteroskedasticity (H):</th> <td>55.69</td> <th>  Skew:              </th>  <td>-2.58</td> \n",
       "</tr>\n",
       "<tr>\n",
       "  <th>Prob(H) (two-sided):</th>    <td>0.00</td>  <th>  Kurtosis:          </th>  <td>34.51</td> \n",
       "</tr>\n",
       "</table><br/><br/>Warnings:<br/>[1] Covariance matrix calculated using the outer product of gradients (complex-step)."
      ],
      "text/plain": [
       "<class 'statsmodels.iolib.summary.Summary'>\n",
       "\"\"\"\n",
       "                               SARIMAX Results                                \n",
       "==============================================================================\n",
       "Dep. Variable:                  value   No. Observations:                  197\n",
       "Model:                 ARIMA(1, 0, 3)   Log Likelihood               -1404.750\n",
       "Date:                Wed, 17 Jan 2024   AIC                           2821.500\n",
       "Time:                        15:42:56   BIC                           2841.199\n",
       "Sample:                    06-01-1996   HQIC                          2829.475\n",
       "                         - 10-01-2012                                         \n",
       "Covariance Type:                  opg                                         \n",
       "==============================================================================\n",
       "                 coef    std err          z      P>|z|      [0.025      0.975]\n",
       "------------------------------------------------------------------------------\n",
       "const          3.2703     17.671      0.185      0.853     -31.364      37.905\n",
       "ar.L1         -0.7117      0.474     -1.500      0.134      -1.642       0.218\n",
       "ma.L1          0.4291      0.475      0.902      0.367      -0.503       1.361\n",
       "ma.L2         -0.1512      0.141     -1.073      0.283      -0.427       0.125\n",
       "ma.L3         -0.0475      0.083     -0.570      0.568      -0.211       0.116\n",
       "sigma2       9.14e+04   2933.369     31.158      0.000    8.56e+04    9.71e+04\n",
       "===================================================================================\n",
       "Ljung-Box (L1) (Q):                   0.00   Jarque-Bera (JB):              8368.28\n",
       "Prob(Q):                              0.96   Prob(JB):                         0.00\n",
       "Heteroskedasticity (H):              55.69   Skew:                            -2.58\n",
       "Prob(H) (two-sided):                  0.00   Kurtosis:                        34.51\n",
       "===================================================================================\n",
       "\n",
       "Warnings:\n",
       "[1] Covariance matrix calculated using the outer product of gradients (complex-step).\n",
       "\"\"\""
      ]
     },
     "execution_count": 120,
     "metadata": {},
     "output_type": "execute_result"
    }
   ],
   "source": [
    "model2 = ARIMA(train, order=(1, 0, 3))\n",
    "res_arima2 = model2.fit()\n",
    "y_hat_2 = res_arima2.predict(start=len(train), end=len(train) + len(test) - 1, typ='levels')\n",
    "res_arima2.summary()"
   ]
  },
  {
   "cell_type": "code",
   "execution_count": 121,
   "metadata": {},
   "outputs": [
    {
     "name": "stdout",
     "output_type": "stream",
     "text": [
      "RMSE: 157.22932153947718\n",
      "MAE: 113.54069874063455\n"
     ]
    }
   ],
   "source": [
    "metrics(test, y_hat_2)"
   ]
  },
  {
   "cell_type": "markdown",
   "metadata": {},
   "source": [
    "The second ARIMA model has an RMSE of 157.23 and MAE of 113.54 which is slightly better than the baseline"
   ]
  },
  {
   "cell_type": "code",
   "execution_count": 122,
   "metadata": {},
   "outputs": [
    {
     "data": {
      "text/html": [
       "<table class=\"simpletable\">\n",
       "<caption>SARIMAX Results</caption>\n",
       "<tr>\n",
       "  <th>Dep. Variable:</th>         <td>value</td>      <th>  No. Observations:  </th>    <td>197</td>   \n",
       "</tr>\n",
       "<tr>\n",
       "  <th>Model:</th>            <td>ARIMA(3, 0, 1)</td>  <th>  Log Likelihood     </th> <td>-1404.519</td>\n",
       "</tr>\n",
       "<tr>\n",
       "  <th>Date:</th>            <td>Wed, 17 Jan 2024</td> <th>  AIC                </th> <td>2821.038</td> \n",
       "</tr>\n",
       "<tr>\n",
       "  <th>Time:</th>                <td>15:42:57</td>     <th>  BIC                </th> <td>2840.737</td> \n",
       "</tr>\n",
       "<tr>\n",
       "  <th>Sample:</th>             <td>06-01-1996</td>    <th>  HQIC               </th> <td>2829.012</td> \n",
       "</tr>\n",
       "<tr>\n",
       "  <th></th>                   <td>- 10-01-2012</td>   <th>                     </th>     <td> </td>    \n",
       "</tr>\n",
       "<tr>\n",
       "  <th>Covariance Type:</th>        <td>opg</td>       <th>                     </th>     <td> </td>    \n",
       "</tr>\n",
       "</table>\n",
       "<table class=\"simpletable\">\n",
       "<tr>\n",
       "     <td></td>       <th>coef</th>     <th>std err</th>      <th>z</th>      <th>P>|z|</th>  <th>[0.025</th>    <th>0.975]</th>  \n",
       "</tr>\n",
       "<tr>\n",
       "  <th>const</th>  <td>    3.3520</td> <td>   17.886</td> <td>    0.187</td> <td> 0.851</td> <td>  -31.705</td> <td>   38.409</td>\n",
       "</tr>\n",
       "<tr>\n",
       "  <th>ar.L1</th>  <td>   -0.6035</td> <td>    0.643</td> <td>   -0.939</td> <td> 0.348</td> <td>   -1.863</td> <td>    0.657</td>\n",
       "</tr>\n",
       "<tr>\n",
       "  <th>ar.L2</th>  <td>   -0.1371</td> <td>    0.183</td> <td>   -0.751</td> <td> 0.453</td> <td>   -0.495</td> <td>    0.221</td>\n",
       "</tr>\n",
       "<tr>\n",
       "  <th>ar.L3</th>  <td>   -0.1077</td> <td>    0.069</td> <td>   -1.556</td> <td> 0.120</td> <td>   -0.243</td> <td>    0.028</td>\n",
       "</tr>\n",
       "<tr>\n",
       "  <th>ma.L1</th>  <td>    0.3167</td> <td>    0.646</td> <td>    0.491</td> <td> 0.624</td> <td>   -0.949</td> <td>    1.582</td>\n",
       "</tr>\n",
       "<tr>\n",
       "  <th>sigma2</th> <td> 9.324e+04</td> <td> 2926.708</td> <td>   31.858</td> <td> 0.000</td> <td> 8.75e+04</td> <td>  9.9e+04</td>\n",
       "</tr>\n",
       "</table>\n",
       "<table class=\"simpletable\">\n",
       "<tr>\n",
       "  <th>Ljung-Box (L1) (Q):</th>     <td>0.00</td>  <th>  Jarque-Bera (JB):  </th> <td>8471.97</td>\n",
       "</tr>\n",
       "<tr>\n",
       "  <th>Prob(Q):</th>                <td>1.00</td>  <th>  Prob(JB):          </th>  <td>0.00</td>  \n",
       "</tr>\n",
       "<tr>\n",
       "  <th>Heteroskedasticity (H):</th> <td>54.63</td> <th>  Skew:              </th>  <td>-2.61</td> \n",
       "</tr>\n",
       "<tr>\n",
       "  <th>Prob(H) (two-sided):</th>    <td>0.00</td>  <th>  Kurtosis:          </th>  <td>34.70</td> \n",
       "</tr>\n",
       "</table><br/><br/>Warnings:<br/>[1] Covariance matrix calculated using the outer product of gradients (complex-step)."
      ],
      "text/plain": [
       "<class 'statsmodels.iolib.summary.Summary'>\n",
       "\"\"\"\n",
       "                               SARIMAX Results                                \n",
       "==============================================================================\n",
       "Dep. Variable:                  value   No. Observations:                  197\n",
       "Model:                 ARIMA(3, 0, 1)   Log Likelihood               -1404.519\n",
       "Date:                Wed, 17 Jan 2024   AIC                           2821.038\n",
       "Time:                        15:42:57   BIC                           2840.737\n",
       "Sample:                    06-01-1996   HQIC                          2829.012\n",
       "                         - 10-01-2012                                         \n",
       "Covariance Type:                  opg                                         \n",
       "==============================================================================\n",
       "                 coef    std err          z      P>|z|      [0.025      0.975]\n",
       "------------------------------------------------------------------------------\n",
       "const          3.3520     17.886      0.187      0.851     -31.705      38.409\n",
       "ar.L1         -0.6035      0.643     -0.939      0.348      -1.863       0.657\n",
       "ar.L2         -0.1371      0.183     -0.751      0.453      -0.495       0.221\n",
       "ar.L3         -0.1077      0.069     -1.556      0.120      -0.243       0.028\n",
       "ma.L1          0.3167      0.646      0.491      0.624      -0.949       1.582\n",
       "sigma2      9.324e+04   2926.708     31.858      0.000    8.75e+04     9.9e+04\n",
       "===================================================================================\n",
       "Ljung-Box (L1) (Q):                   0.00   Jarque-Bera (JB):              8471.97\n",
       "Prob(Q):                              1.00   Prob(JB):                         0.00\n",
       "Heteroskedasticity (H):              54.63   Skew:                            -2.61\n",
       "Prob(H) (two-sided):                  0.00   Kurtosis:                        34.70\n",
       "===================================================================================\n",
       "\n",
       "Warnings:\n",
       "[1] Covariance matrix calculated using the outer product of gradients (complex-step).\n",
       "\"\"\""
      ]
     },
     "execution_count": 122,
     "metadata": {},
     "output_type": "execute_result"
    }
   ],
   "source": [
    "model3 = ARIMA(train, order=(3, 0, 1))\n",
    "res_arima3 = model3.fit()\n",
    "y_hat_3 = res_arima3.predict(start=len(train), end=len(train) + len(test) - 1, typ='levels')\n",
    "res_arima3.summary()"
   ]
  },
  {
   "cell_type": "code",
   "execution_count": 123,
   "metadata": {},
   "outputs": [
    {
     "name": "stdout",
     "output_type": "stream",
     "text": [
      "RMSE: 157.32182714980738\n",
      "MAE: 113.61188254252112\n"
     ]
    }
   ],
   "source": [
    "metrics(test, y_hat_3)"
   ]
  },
  {
   "cell_type": "markdown",
   "metadata": {},
   "source": [
    "The third model, ARIMA(3,0,1) has an RMSE of 157.32 and MAE of 113.61 which is slightly worse than the second model"
   ]
  },
  {
   "cell_type": "code",
   "execution_count": 124,
   "metadata": {},
   "outputs": [],
   "source": [
    "#Code to iterate through the values of p,d and q modeling each combination \n",
    "p = range(0, 10)\n",
    "q = range(0, 10)\n",
    "d = range(0, 2)\n",
    "\n",
    "pdq_combinations = list(itertools.product(p, d, q))\n",
    "\n",
    "rmse = []\n",
    "order = []\n",
    "\n",
    "for pdq in pdq_combinations:\n",
    "    try:\n",
    "        model = ARIMA(train, order=pdq).fit()\n",
    "        y_hat = model.predict(start=len(train), end=len(train) + len(test) - 1, typ='levels')\n",
    "        error = np.sqrt(mean_squared_error(test, y_hat))\n",
    "        order.append(pdq)\n",
    "        rmse.append(error)\n",
    "    except: \n",
    "        continue"
   ]
  },
  {
   "cell_type": "code",
   "execution_count": 125,
   "metadata": {},
   "outputs": [
    {
     "name": "stdout",
     "output_type": "stream",
     "text": [
      "(5, 0, 3)\n"
     ]
    }
   ],
   "source": [
    "#Results from the code above\n",
    "results = pd.DataFrame(index=order, data=rmse, columns=['RMSE'])\n",
    "min_value_order = results.idxmin().values[0]\n",
    "min_rmse = results.min().values[0]\n",
    "print(min_value_order)"
   ]
  },
  {
   "cell_type": "markdown",
   "metadata": {},
   "source": [
    "According to the code above the best ARIMA model is ARIMA(5,0,3)"
   ]
  },
  {
   "cell_type": "code",
   "execution_count": 126,
   "metadata": {},
   "outputs": [
    {
     "data": {
      "text/html": [
       "<table class=\"simpletable\">\n",
       "<caption>SARIMAX Results</caption>\n",
       "<tr>\n",
       "  <th>Dep. Variable:</th>         <td>value</td>      <th>  No. Observations:  </th>    <td>197</td>   \n",
       "</tr>\n",
       "<tr>\n",
       "  <th>Model:</th>            <td>ARIMA(5, 0, 3)</td>  <th>  Log Likelihood     </th> <td>-1401.529</td>\n",
       "</tr>\n",
       "<tr>\n",
       "  <th>Date:</th>            <td>Wed, 17 Jan 2024</td> <th>  AIC                </th> <td>2823.059</td> \n",
       "</tr>\n",
       "<tr>\n",
       "  <th>Time:</th>                <td>15:48:50</td>     <th>  BIC                </th> <td>2855.891</td> \n",
       "</tr>\n",
       "<tr>\n",
       "  <th>Sample:</th>             <td>06-01-1996</td>    <th>  HQIC               </th> <td>2836.350</td> \n",
       "</tr>\n",
       "<tr>\n",
       "  <th></th>                   <td>- 10-01-2012</td>   <th>                     </th>     <td> </td>    \n",
       "</tr>\n",
       "<tr>\n",
       "  <th>Covariance Type:</th>        <td>opg</td>       <th>                     </th>     <td> </td>    \n",
       "</tr>\n",
       "</table>\n",
       "<table class=\"simpletable\">\n",
       "<tr>\n",
       "     <td></td>       <th>coef</th>     <th>std err</th>      <th>z</th>      <th>P>|z|</th>  <th>[0.025</th>    <th>0.975]</th>  \n",
       "</tr>\n",
       "<tr>\n",
       "  <th>const</th>  <td>    3.8075</td> <td>   19.494</td> <td>    0.195</td> <td> 0.845</td> <td>  -34.400</td> <td>   42.015</td>\n",
       "</tr>\n",
       "<tr>\n",
       "  <th>ar.L1</th>  <td>    1.0976</td> <td>    1.077</td> <td>    1.019</td> <td> 0.308</td> <td>   -1.013</td> <td>    3.208</td>\n",
       "</tr>\n",
       "<tr>\n",
       "  <th>ar.L2</th>  <td>   -0.0648</td> <td>    1.526</td> <td>   -0.042</td> <td> 0.966</td> <td>   -3.055</td> <td>    2.925</td>\n",
       "</tr>\n",
       "<tr>\n",
       "  <th>ar.L3</th>  <td>   -0.4696</td> <td>    0.529</td> <td>   -0.888</td> <td> 0.375</td> <td>   -1.506</td> <td>    0.567</td>\n",
       "</tr>\n",
       "<tr>\n",
       "  <th>ar.L4</th>  <td>    0.0309</td> <td>    0.357</td> <td>    0.087</td> <td> 0.931</td> <td>   -0.669</td> <td>    0.731</td>\n",
       "</tr>\n",
       "<tr>\n",
       "  <th>ar.L5</th>  <td>   -0.0632</td> <td>    0.093</td> <td>   -0.682</td> <td> 0.495</td> <td>   -0.245</td> <td>    0.118</td>\n",
       "</tr>\n",
       "<tr>\n",
       "  <th>ma.L1</th>  <td>   -1.4287</td> <td>    1.445</td> <td>   -0.989</td> <td> 0.323</td> <td>   -4.261</td> <td>    1.404</td>\n",
       "</tr>\n",
       "<tr>\n",
       "  <th>ma.L2</th>  <td>    0.4495</td> <td>    2.092</td> <td>    0.215</td> <td> 0.830</td> <td>   -3.651</td> <td>    4.550</td>\n",
       "</tr>\n",
       "<tr>\n",
       "  <th>ma.L3</th>  <td>    0.3149</td> <td>    1.056</td> <td>    0.298</td> <td> 0.766</td> <td>   -1.756</td> <td>    2.386</td>\n",
       "</tr>\n",
       "<tr>\n",
       "  <th>sigma2</th> <td> 8.859e+04</td> <td> 7.71e+04</td> <td>    1.149</td> <td> 0.251</td> <td>-6.25e+04</td> <td>  2.4e+05</td>\n",
       "</tr>\n",
       "</table>\n",
       "<table class=\"simpletable\">\n",
       "<tr>\n",
       "  <th>Ljung-Box (L1) (Q):</th>     <td>0.00</td>  <th>  Jarque-Bera (JB):  </th> <td>10085.17</td>\n",
       "</tr>\n",
       "<tr>\n",
       "  <th>Prob(Q):</th>                <td>0.98</td>  <th>  Prob(JB):          </th>   <td>0.00</td>  \n",
       "</tr>\n",
       "<tr>\n",
       "  <th>Heteroskedasticity (H):</th> <td>39.37</td> <th>  Skew:              </th>   <td>-2.71</td> \n",
       "</tr>\n",
       "<tr>\n",
       "  <th>Prob(H) (two-sided):</th>    <td>0.00</td>  <th>  Kurtosis:          </th>   <td>37.63</td> \n",
       "</tr>\n",
       "</table><br/><br/>Warnings:<br/>[1] Covariance matrix calculated using the outer product of gradients (complex-step)."
      ],
      "text/plain": [
       "<class 'statsmodels.iolib.summary.Summary'>\n",
       "\"\"\"\n",
       "                               SARIMAX Results                                \n",
       "==============================================================================\n",
       "Dep. Variable:                  value   No. Observations:                  197\n",
       "Model:                 ARIMA(5, 0, 3)   Log Likelihood               -1401.529\n",
       "Date:                Wed, 17 Jan 2024   AIC                           2823.059\n",
       "Time:                        15:48:50   BIC                           2855.891\n",
       "Sample:                    06-01-1996   HQIC                          2836.350\n",
       "                         - 10-01-2012                                         \n",
       "Covariance Type:                  opg                                         \n",
       "==============================================================================\n",
       "                 coef    std err          z      P>|z|      [0.025      0.975]\n",
       "------------------------------------------------------------------------------\n",
       "const          3.8075     19.494      0.195      0.845     -34.400      42.015\n",
       "ar.L1          1.0976      1.077      1.019      0.308      -1.013       3.208\n",
       "ar.L2         -0.0648      1.526     -0.042      0.966      -3.055       2.925\n",
       "ar.L3         -0.4696      0.529     -0.888      0.375      -1.506       0.567\n",
       "ar.L4          0.0309      0.357      0.087      0.931      -0.669       0.731\n",
       "ar.L5         -0.0632      0.093     -0.682      0.495      -0.245       0.118\n",
       "ma.L1         -1.4287      1.445     -0.989      0.323      -4.261       1.404\n",
       "ma.L2          0.4495      2.092      0.215      0.830      -3.651       4.550\n",
       "ma.L3          0.3149      1.056      0.298      0.766      -1.756       2.386\n",
       "sigma2      8.859e+04   7.71e+04      1.149      0.251   -6.25e+04     2.4e+05\n",
       "===================================================================================\n",
       "Ljung-Box (L1) (Q):                   0.00   Jarque-Bera (JB):             10085.17\n",
       "Prob(Q):                              0.98   Prob(JB):                         0.00\n",
       "Heteroskedasticity (H):              39.37   Skew:                            -2.71\n",
       "Prob(H) (two-sided):                  0.00   Kurtosis:                        37.63\n",
       "===================================================================================\n",
       "\n",
       "Warnings:\n",
       "[1] Covariance matrix calculated using the outer product of gradients (complex-step).\n",
       "\"\"\""
      ]
     },
     "execution_count": 126,
     "metadata": {},
     "output_type": "execute_result"
    }
   ],
   "source": [
    "final_ARIMA_model = ARIMA(train, order=(5, 0, 3))\n",
    "res_arima4 = final_ARIMA_model.fit()\n",
    "y_hat_4 = res_arima.predict(start=len(train), end=len(train) + len(test) - 1, typ='levels')\n",
    "res_arima4.summary()"
   ]
  },
  {
   "cell_type": "code",
   "execution_count": 128,
   "metadata": {},
   "outputs": [
    {
     "name": "stdout",
     "output_type": "stream",
     "text": [
      "RMSE: 157.32480030970973\n",
      "MAE: 113.60089999888011\n"
     ]
    }
   ],
   "source": [
    "metrics(test, y_hat_4)"
   ]
  },
  {
   "cell_type": "markdown",
   "metadata": {},
   "source": [
    "The final ARIMA model only changes slightly from the third model\n",
    "From the above ARIMA models the best is the second ARIMA model ARIMA(1,0,3)\n",
    "The main issue with the ARIMA model is that it relies on stationarity, homoscedasticity and normality and since our data does not follow a normal distribution we decide to use another model, Prophet."
   ]
  },
  {
   "cell_type": "markdown",
   "metadata": {},
   "source": [
    "#### Prophet"
   ]
  },
  {
   "cell_type": "markdown",
   "metadata": {},
   "source": [
    "To be able to build a model with Prophet we need to reset the index of our data"
   ]
  },
  {
   "cell_type": "code",
   "execution_count": 129,
   "metadata": {},
   "outputs": [
    {
     "data": {
      "text/html": [
       "<div>\n",
       "<style scoped>\n",
       "    .dataframe tbody tr th:only-of-type {\n",
       "        vertical-align: middle;\n",
       "    }\n",
       "\n",
       "    .dataframe tbody tr th {\n",
       "        vertical-align: top;\n",
       "    }\n",
       "\n",
       "    .dataframe thead th {\n",
       "        text-align: right;\n",
       "    }\n",
       "</style>\n",
       "<table border=\"1\" class=\"dataframe\">\n",
       "  <thead>\n",
       "    <tr style=\"text-align: right;\">\n",
       "      <th></th>\n",
       "      <th>ds</th>\n",
       "      <th>y</th>\n",
       "    </tr>\n",
       "  </thead>\n",
       "  <tbody>\n",
       "    <tr>\n",
       "      <th>0</th>\n",
       "      <td>1996-06-01</td>\n",
       "      <td>-1.541947</td>\n",
       "    </tr>\n",
       "    <tr>\n",
       "      <th>1</th>\n",
       "      <td>1996-07-01</td>\n",
       "      <td>-2.733119</td>\n",
       "    </tr>\n",
       "    <tr>\n",
       "      <th>2</th>\n",
       "      <td>1996-08-01</td>\n",
       "      <td>11.539024</td>\n",
       "    </tr>\n",
       "    <tr>\n",
       "      <th>3</th>\n",
       "      <td>1996-09-01</td>\n",
       "      <td>20.089155</td>\n",
       "    </tr>\n",
       "    <tr>\n",
       "      <th>4</th>\n",
       "      <td>1996-10-01</td>\n",
       "      <td>45.717626</td>\n",
       "    </tr>\n",
       "  </tbody>\n",
       "</table>\n",
       "</div>"
      ],
      "text/plain": [
       "          ds          y\n",
       "0 1996-06-01  -1.541947\n",
       "1 1996-07-01  -2.733119\n",
       "2 1996-08-01  11.539024\n",
       "3 1996-09-01  20.089155\n",
       "4 1996-10-01  45.717626"
      ]
     },
     "execution_count": 129,
     "metadata": {},
     "output_type": "execute_result"
    }
   ],
   "source": [
    "#Resetting the index of the train data\n",
    "train2 = train.reset_index()\n",
    "train2 = train2.rename(columns={'Date': 'ds', 'value': 'y'})\n",
    "train2.head()"
   ]
  },
  {
   "cell_type": "code",
   "execution_count": 130,
   "metadata": {},
   "outputs": [
    {
     "data": {
      "text/html": [
       "<div>\n",
       "<style scoped>\n",
       "    .dataframe tbody tr th:only-of-type {\n",
       "        vertical-align: middle;\n",
       "    }\n",
       "\n",
       "    .dataframe tbody tr th {\n",
       "        vertical-align: top;\n",
       "    }\n",
       "\n",
       "    .dataframe thead th {\n",
       "        text-align: right;\n",
       "    }\n",
       "</style>\n",
       "<table border=\"1\" class=\"dataframe\">\n",
       "  <thead>\n",
       "    <tr style=\"text-align: right;\">\n",
       "      <th></th>\n",
       "      <th>ds</th>\n",
       "      <th>y</th>\n",
       "    </tr>\n",
       "  </thead>\n",
       "  <tbody>\n",
       "    <tr>\n",
       "      <th>0</th>\n",
       "      <td>2012-11-01</td>\n",
       "      <td>137.976166</td>\n",
       "    </tr>\n",
       "    <tr>\n",
       "      <th>1</th>\n",
       "      <td>2012-12-01</td>\n",
       "      <td>49.803678</td>\n",
       "    </tr>\n",
       "    <tr>\n",
       "      <th>2</th>\n",
       "      <td>2013-01-01</td>\n",
       "      <td>-227.312789</td>\n",
       "    </tr>\n",
       "    <tr>\n",
       "      <th>3</th>\n",
       "      <td>2013-02-01</td>\n",
       "      <td>305.301682</td>\n",
       "    </tr>\n",
       "    <tr>\n",
       "      <th>4</th>\n",
       "      <td>2013-03-01</td>\n",
       "      <td>307.782048</td>\n",
       "    </tr>\n",
       "  </tbody>\n",
       "</table>\n",
       "</div>"
      ],
      "text/plain": [
       "          ds           y\n",
       "0 2012-11-01  137.976166\n",
       "1 2012-12-01   49.803678\n",
       "2 2013-01-01 -227.312789\n",
       "3 2013-02-01  305.301682\n",
       "4 2013-03-01  307.782048"
      ]
     },
     "execution_count": 130,
     "metadata": {},
     "output_type": "execute_result"
    }
   ],
   "source": [
    "#Resetting the index of the test data\n",
    "test2 = test.reset_index()\n",
    "test2 = test2.rename(columns={'Date': 'ds', 'value': 'y'})\n",
    "test2.head()"
   ]
  },
  {
   "cell_type": "code",
   "execution_count": 131,
   "metadata": {},
   "outputs": [
    {
     "name": "stderr",
     "output_type": "stream",
     "text": [
      "15:49:29 - cmdstanpy - INFO - Chain [1] start processing\n",
      "15:49:29 - cmdstanpy - INFO - Chain [1] done processing\n"
     ]
    }
   ],
   "source": [
    "#Prophet model with default hyperparameters\n",
    "prophet_model1 = Prophet()\n",
    "prophet_model1.fit(train2)\n",
    "future_dates = prophet_model1.make_future_dataframe(periods=len(test2), freq='M') \n",
    "forecast = prophet_model1.predict(future_dates)\n",
    "test_predictions1 = forecast['yhat'][-len(test2):]"
   ]
  },
  {
   "cell_type": "code",
   "execution_count": 132,
   "metadata": {},
   "outputs": [
    {
     "name": "stdout",
     "output_type": "stream",
     "text": [
      "RMSE: 182.4912957711106\n",
      "MAE: 124.95666175149894\n"
     ]
    }
   ],
   "source": [
    "metrics(test2['y'], test_predictions1)"
   ]
  },
  {
   "cell_type": "markdown",
   "metadata": {},
   "source": [
    "From the model above the RMSE is at 182.49 and 124.96 which are worse than our previous models "
   ]
  },
  {
   "cell_type": "code",
   "execution_count": 133,
   "metadata": {},
   "outputs": [
    {
     "name": "stderr",
     "output_type": "stream",
     "text": [
      "15:49:30 - cmdstanpy - INFO - Chain [1] start processing\n",
      "15:49:30 - cmdstanpy - INFO - Chain [1] done processing\n",
      "15:49:31 - cmdstanpy - INFO - Chain [1] start processing\n",
      "15:49:31 - cmdstanpy - INFO - Chain [1] done processing\n",
      "15:49:32 - cmdstanpy - INFO - Chain [1] start processing\n",
      "15:49:32 - cmdstanpy - INFO - Chain [1] done processing\n",
      "15:49:33 - cmdstanpy - INFO - Chain [1] start processing\n",
      "15:49:33 - cmdstanpy - INFO - Chain [1] done processing\n",
      "15:49:34 - cmdstanpy - INFO - Chain [1] start processing\n",
      "15:49:34 - cmdstanpy - INFO - Chain [1] done processing\n",
      "15:49:34 - cmdstanpy - INFO - Chain [1] start processing\n",
      "15:49:35 - cmdstanpy - INFO - Chain [1] done processing\n"
     ]
    },
    {
     "name": "stdout",
     "output_type": "stream",
     "text": [
      "Best Hyperparameters: {'changepoint_prior_scale': 0.1, 'seasonality_mode': 'multiplicative'}\n"
     ]
    }
   ],
   "source": [
    "# Manual Hyperparameter tuning for the prophet model\n",
    "param_grid = {\n",
    "    \"changepoint_prior_scale\": [0.01, 0.1, 1.0],\n",
    "    \"seasonality_mode\": [\"additive\", \"multiplicative\"],\n",
    "}\n",
    "\n",
    "# Split your data into training and validation sets\n",
    "\n",
    "# Perform manual hyperparameter tuning\n",
    "best_rmse = np.inf\n",
    "best_params = None\n",
    "\n",
    "for changepoint_prior_scale in param_grid[\"changepoint_prior_scale\"]:\n",
    "    for seasonality_mode in param_grid[\"seasonality_mode\"]:\n",
    "        model = Prophet(\n",
    "            changepoint_prior_scale=changepoint_prior_scale,\n",
    "            seasonality_mode=seasonality_mode,\n",
    "        )\n",
    "\n",
    "        # Fit the model on the training data\n",
    "        model.fit(train2)\n",
    "\n",
    "        # Make predictions on the validation set\n",
    "        future = model.make_future_dataframe(periods=len(test2))\n",
    "        forecast = model.predict(future)\n",
    "\n",
    "        # Calculate RMSE\n",
    "        rmse = np.sqrt(mean_squared_error(test2[\"y\"], forecast[\"yhat\"][:len(test2)]))\n",
    "\n",
    "        # Check if the current combination of hyperparameters is the best\n",
    "        if rmse < best_rmse:\n",
    "            best_rmse = rmse\n",
    "            best_params = {\n",
    "                \"changepoint_prior_scale\": changepoint_prior_scale,\n",
    "                \"seasonality_mode\": seasonality_mode,\n",
    "            }\n",
    "\n",
    "print(\"Best Hyperparameters:\", best_params)"
   ]
  },
  {
   "cell_type": "markdown",
   "metadata": {},
   "source": [
    "The parameters chosen are a changepoint_prior_scale of 0.1 and a multiplicative seasonality_mode "
   ]
  },
  {
   "cell_type": "code",
   "execution_count": 134,
   "metadata": {},
   "outputs": [
    {
     "name": "stderr",
     "output_type": "stream",
     "text": [
      "15:49:36 - cmdstanpy - INFO - Chain [1] start processing\n",
      "15:49:36 - cmdstanpy - INFO - Chain [1] done processing\n"
     ]
    },
    {
     "data": {
      "text/plain": [
       "<prophet.forecaster.Prophet at 0x1a211b82880>"
      ]
     },
     "execution_count": 134,
     "metadata": {},
     "output_type": "execute_result"
    }
   ],
   "source": [
    "param_dict = {'changepoint_prior_scale': 0.1, 'seasonality_mode': 'multiplicative'}\n",
    "prophet_model2 = Prophet(**param_dict)\n",
    "prophet_model2.fit(train2)"
   ]
  },
  {
   "cell_type": "code",
   "execution_count": 135,
   "metadata": {},
   "outputs": [],
   "source": [
    "future_dates = prophet_model2.make_future_dataframe(periods=len(test2), freq='M')\n",
    "forecast = prophet_model2.predict(future_dates)\n",
    "test_predictions2 = forecast['yhat'][-len(test2):]"
   ]
  },
  {
   "cell_type": "code",
   "execution_count": 136,
   "metadata": {},
   "outputs": [
    {
     "name": "stdout",
     "output_type": "stream",
     "text": [
      "RMSE: 165.69953994417136\n",
      "MAE: 123.97454587291364\n"
     ]
    }
   ],
   "source": [
    "metrics(test2['y'], test_predictions2)"
   ]
  },
  {
   "cell_type": "markdown",
   "metadata": {},
   "source": [
    "The tuned model gives an RMSE of 165 and MAE of 123 which is better than the first prophet model"
   ]
  },
  {
   "cell_type": "markdown",
   "metadata": {},
   "source": [
    "Below we perform hyperparameter tuning with optuna:"
   ]
  },
  {
   "cell_type": "code",
   "execution_count": 137,
   "metadata": {},
   "outputs": [
    {
     "name": "stderr",
     "output_type": "stream",
     "text": [
      "[I 2024-01-17 15:49:36,896] A new study created in memory with name: no-name-83596abb-5c9d-48d9-889d-c680949d3eee\n",
      "15:49:37 - cmdstanpy - INFO - Chain [1] start processing\n",
      "15:49:37 - cmdstanpy - INFO - Chain [1] done processing\n",
      "[I 2024-01-17 15:49:37,859] Trial 0 finished with value: 353.0441781903495 and parameters: {'changepoint_prior_scale': 0.4738589639981017, 'seasonality_mode': 'additive'}. Best is trial 0 with value: 353.0441781903495.\n",
      "15:49:38 - cmdstanpy - INFO - Chain [1] start processing\n",
      "15:49:38 - cmdstanpy - INFO - Chain [1] done processing\n",
      "[I 2024-01-17 15:49:38,773] Trial 1 finished with value: 326.42461417941195 and parameters: {'changepoint_prior_scale': 0.2534013594901807, 'seasonality_mode': 'additive'}. Best is trial 1 with value: 326.42461417941195.\n",
      "15:49:39 - cmdstanpy - INFO - Chain [1] start processing\n",
      "15:49:39 - cmdstanpy - INFO - Chain [1] done processing\n",
      "[I 2024-01-17 15:49:39,699] Trial 2 finished with value: 328.278014819686 and parameters: {'changepoint_prior_scale': 0.2627418616222494, 'seasonality_mode': 'additive'}. Best is trial 1 with value: 326.42461417941195.\n",
      "15:49:40 - cmdstanpy - INFO - Chain [1] start processing\n",
      "15:49:40 - cmdstanpy - INFO - Chain [1] done processing\n",
      "[I 2024-01-17 15:49:40,528] Trial 3 finished with value: 416.44926573177287 and parameters: {'changepoint_prior_scale': 0.22301507297251424, 'seasonality_mode': 'multiplicative'}. Best is trial 1 with value: 326.42461417941195.\n",
      "15:49:40 - cmdstanpy - INFO - Chain [1] start processing\n",
      "15:49:41 - cmdstanpy - INFO - Chain [1] done processing\n",
      "[I 2024-01-17 15:49:41,239] Trial 4 finished with value: 362.48525480368414 and parameters: {'changepoint_prior_scale': 0.4688816370035171, 'seasonality_mode': 'additive'}. Best is trial 1 with value: 326.42461417941195.\n",
      "15:49:41 - cmdstanpy - INFO - Chain [1] start processing\n",
      "15:49:41 - cmdstanpy - INFO - Chain [1] done processing\n",
      "[I 2024-01-17 15:49:41,924] Trial 5 finished with value: 328.1753466127891 and parameters: {'changepoint_prior_scale': 0.30301616085108724, 'seasonality_mode': 'additive'}. Best is trial 1 with value: 326.42461417941195.\n",
      "15:49:42 - cmdstanpy - INFO - Chain [1] start processing\n",
      "15:49:42 - cmdstanpy - INFO - Chain [1] done processing\n",
      "[I 2024-01-17 15:49:42,831] Trial 6 finished with value: 329.5404486446506 and parameters: {'changepoint_prior_scale': 0.27517088332521533, 'seasonality_mode': 'additive'}. Best is trial 1 with value: 326.42461417941195.\n",
      "15:49:43 - cmdstanpy - INFO - Chain [1] start processing\n",
      "15:49:43 - cmdstanpy - INFO - Chain [1] done processing\n",
      "[I 2024-01-17 15:49:43,818] Trial 7 finished with value: 320.9612156116238 and parameters: {'changepoint_prior_scale': 0.20659782410189995, 'seasonality_mode': 'additive'}. Best is trial 7 with value: 320.9612156116238.\n",
      "15:49:44 - cmdstanpy - INFO - Chain [1] start processing\n",
      "15:49:44 - cmdstanpy - INFO - Chain [1] done processing\n",
      "[I 2024-01-17 15:49:44,763] Trial 8 finished with value: 344.4328908174572 and parameters: {'changepoint_prior_scale': 0.29969261148859333, 'seasonality_mode': 'additive'}. Best is trial 7 with value: 320.9612156116238.\n",
      "15:49:45 - cmdstanpy - INFO - Chain [1] start processing\n",
      "15:49:45 - cmdstanpy - INFO - Chain [1] done processing\n",
      "[I 2024-01-17 15:49:46,042] Trial 9 finished with value: 1314.0935835802582 and parameters: {'changepoint_prior_scale': 0.4687768579397226, 'seasonality_mode': 'multiplicative'}. Best is trial 7 with value: 320.9612156116238.\n",
      "15:49:46 - cmdstanpy - INFO - Chain [1] start processing\n",
      "15:49:46 - cmdstanpy - INFO - Chain [1] done processing\n",
      "[I 2024-01-17 15:49:46,924] Trial 10 finished with value: 157.18517649860664 and parameters: {'changepoint_prior_scale': 0.06202347191915425, 'seasonality_mode': 'multiplicative'}. Best is trial 10 with value: 157.18517649860664.\n",
      "15:49:47 - cmdstanpy - INFO - Chain [1] start processing\n",
      "15:49:47 - cmdstanpy - INFO - Chain [1] done processing\n",
      "[I 2024-01-17 15:49:47,626] Trial 11 finished with value: 157.54265332943731 and parameters: {'changepoint_prior_scale': 0.028020321109281328, 'seasonality_mode': 'multiplicative'}. Best is trial 10 with value: 157.18517649860664.\n",
      "15:49:48 - cmdstanpy - INFO - Chain [1] start processing\n",
      "15:49:48 - cmdstanpy - INFO - Chain [1] done processing\n",
      "[I 2024-01-17 15:49:48,586] Trial 12 finished with value: 157.3208065022527 and parameters: {'changepoint_prior_scale': 0.0020261611893000707, 'seasonality_mode': 'multiplicative'}. Best is trial 10 with value: 157.18517649860664.\n",
      "15:49:49 - cmdstanpy - INFO - Chain [1] start processing\n",
      "15:49:49 - cmdstanpy - INFO - Chain [1] done processing\n",
      "[I 2024-01-17 15:49:49,482] Trial 13 finished with value: 157.51426444130735 and parameters: {'changepoint_prior_scale': 0.020501179226749593, 'seasonality_mode': 'multiplicative'}. Best is trial 10 with value: 157.18517649860664.\n",
      "15:49:50 - cmdstanpy - INFO - Chain [1] start processing\n",
      "15:49:50 - cmdstanpy - INFO - Chain [1] done processing\n",
      "[I 2024-01-17 15:49:50,392] Trial 14 finished with value: 159.7894403508089 and parameters: {'changepoint_prior_scale': 0.09543400158046215, 'seasonality_mode': 'multiplicative'}. Best is trial 10 with value: 157.18517649860664.\n",
      "15:49:51 - cmdstanpy - INFO - Chain [1] start processing\n",
      "15:49:51 - cmdstanpy - INFO - Chain [1] done processing\n",
      "[I 2024-01-17 15:49:51,405] Trial 15 finished with value: 178.5241806066042 and parameters: {'changepoint_prior_scale': 0.11929212262122425, 'seasonality_mode': 'multiplicative'}. Best is trial 10 with value: 157.18517649860664.\n",
      "15:49:51 - cmdstanpy - INFO - Chain [1] start processing\n",
      "15:49:52 - cmdstanpy - INFO - Chain [1] done processing\n",
      "[I 2024-01-17 15:49:52,282] Trial 16 finished with value: 164.42061888554036 and parameters: {'changepoint_prior_scale': 0.10352523875485456, 'seasonality_mode': 'multiplicative'}. Best is trial 10 with value: 157.18517649860664.\n",
      "15:49:52 - cmdstanpy - INFO - Chain [1] start processing\n",
      "15:49:52 - cmdstanpy - INFO - Chain [1] done processing\n",
      "[I 2024-01-17 15:49:53,141] Trial 17 finished with value: 157.12716740716652 and parameters: {'changepoint_prior_scale': 0.003321900608236547, 'seasonality_mode': 'multiplicative'}. Best is trial 17 with value: 157.12716740716652.\n",
      "15:49:53 - cmdstanpy - INFO - Chain [1] start processing\n",
      "15:49:53 - cmdstanpy - INFO - Chain [1] done processing\n",
      "[I 2024-01-17 15:49:54,093] Trial 18 finished with value: 188.7823681009251 and parameters: {'changepoint_prior_scale': 0.16111244538701597, 'seasonality_mode': 'multiplicative'}. Best is trial 17 with value: 157.12716740716652.\n",
      "15:49:54 - cmdstanpy - INFO - Chain [1] start processing\n",
      "15:49:54 - cmdstanpy - INFO - Chain [1] done processing\n",
      "[I 2024-01-17 15:49:55,048] Trial 19 finished with value: 157.22008783546528 and parameters: {'changepoint_prior_scale': 0.05875933543026554, 'seasonality_mode': 'multiplicative'}. Best is trial 17 with value: 157.12716740716652.\n",
      "15:49:55 - cmdstanpy - INFO - Chain [1] start processing\n",
      "15:49:56 - cmdstanpy - INFO - Chain [1] done processing\n",
      "[I 2024-01-17 15:49:56,290] Trial 20 finished with value: 975.2952420399355 and parameters: {'changepoint_prior_scale': 0.3449954014600298, 'seasonality_mode': 'multiplicative'}. Best is trial 17 with value: 157.12716740716652.\n",
      "15:49:57 - cmdstanpy - INFO - Chain [1] start processing\n",
      "15:49:57 - cmdstanpy - INFO - Chain [1] done processing\n",
      "[I 2024-01-17 15:49:57,379] Trial 21 finished with value: 157.18518328225016 and parameters: {'changepoint_prior_scale': 0.06045206775575493, 'seasonality_mode': 'multiplicative'}. Best is trial 17 with value: 157.12716740716652.\n",
      "15:49:58 - cmdstanpy - INFO - Chain [1] start processing\n",
      "15:49:58 - cmdstanpy - INFO - Chain [1] done processing\n",
      "[I 2024-01-17 15:49:58,315] Trial 22 finished with value: 157.18380935683552 and parameters: {'changepoint_prior_scale': 0.0630558158782556, 'seasonality_mode': 'multiplicative'}. Best is trial 17 with value: 157.12716740716652.\n",
      "15:49:58 - cmdstanpy - INFO - Chain [1] start processing\n",
      "15:49:59 - cmdstanpy - INFO - Chain [1] done processing\n",
      "[I 2024-01-17 15:49:59,224] Trial 23 finished with value: 181.3250124303867 and parameters: {'changepoint_prior_scale': 0.1518078991345762, 'seasonality_mode': 'multiplicative'}. Best is trial 17 with value: 157.12716740716652.\n"
     ]
    },
    {
     "name": "stderr",
     "output_type": "stream",
     "text": [
      "15:49:59 - cmdstanpy - INFO - Chain [1] start processing\n",
      "15:49:59 - cmdstanpy - INFO - Chain [1] done processing\n",
      "[I 2024-01-17 15:50:00,123] Trial 24 finished with value: 157.1889856672459 and parameters: {'changepoint_prior_scale': 0.059719921741581694, 'seasonality_mode': 'multiplicative'}. Best is trial 17 with value: 157.12716740716652.\n",
      "15:50:00 - cmdstanpy - INFO - Chain [1] start processing\n",
      "15:50:00 - cmdstanpy - INFO - Chain [1] done processing\n",
      "[I 2024-01-17 15:50:01,050] Trial 25 finished with value: 196.96968058219952 and parameters: {'changepoint_prior_scale': 0.1762287472872055, 'seasonality_mode': 'multiplicative'}. Best is trial 17 with value: 157.12716740716652.\n",
      "15:50:01 - cmdstanpy - INFO - Chain [1] start processing\n",
      "15:50:01 - cmdstanpy - INFO - Chain [1] done processing\n",
      "[I 2024-01-17 15:50:02,009] Trial 26 finished with value: 157.14229722940777 and parameters: {'changepoint_prior_scale': 0.0774023963557981, 'seasonality_mode': 'multiplicative'}. Best is trial 17 with value: 157.12716740716652.\n",
      "15:50:02 - cmdstanpy - INFO - Chain [1] start processing\n",
      "15:50:02 - cmdstanpy - INFO - Chain [1] done processing\n",
      "[I 2024-01-17 15:50:02,888] Trial 27 finished with value: 179.85827907615462 and parameters: {'changepoint_prior_scale': 0.1205918517251532, 'seasonality_mode': 'multiplicative'}. Best is trial 17 with value: 157.12716740716652.\n",
      "15:50:03 - cmdstanpy - INFO - Chain [1] start processing\n",
      "15:50:04 - cmdstanpy - INFO - Chain [1] done processing\n",
      "[I 2024-01-17 15:50:04,243] Trial 28 finished with value: 1452.6161697368434 and parameters: {'changepoint_prior_scale': 0.40136287846353447, 'seasonality_mode': 'multiplicative'}. Best is trial 17 with value: 157.12716740716652.\n",
      "15:50:04 - cmdstanpy - INFO - Chain [1] start processing\n",
      "15:50:04 - cmdstanpy - INFO - Chain [1] done processing\n",
      "[I 2024-01-17 15:50:05,166] Trial 29 finished with value: 157.4330845674329 and parameters: {'changepoint_prior_scale': 0.029479516486741117, 'seasonality_mode': 'multiplicative'}. Best is trial 17 with value: 157.12716740716652.\n",
      "15:50:05 - cmdstanpy - INFO - Chain [1] start processing\n",
      "15:50:05 - cmdstanpy - INFO - Chain [1] done processing\n",
      "[I 2024-01-17 15:50:06,071] Trial 30 finished with value: 157.05802161422264 and parameters: {'changepoint_prior_scale': 0.08506672027591938, 'seasonality_mode': 'multiplicative'}. Best is trial 30 with value: 157.05802161422264.\n",
      "15:50:06 - cmdstanpy - INFO - Chain [1] start processing\n",
      "15:50:06 - cmdstanpy - INFO - Chain [1] done processing\n",
      "[I 2024-01-17 15:50:06,923] Trial 31 finished with value: 157.05345903463837 and parameters: {'changepoint_prior_scale': 0.08630480720462594, 'seasonality_mode': 'multiplicative'}. Best is trial 31 with value: 157.05345903463837.\n",
      "15:50:07 - cmdstanpy - INFO - Chain [1] start processing\n",
      "15:50:07 - cmdstanpy - INFO - Chain [1] done processing\n",
      "[I 2024-01-17 15:50:07,787] Trial 32 finished with value: 159.74520041347955 and parameters: {'changepoint_prior_scale': 0.09027346589551288, 'seasonality_mode': 'multiplicative'}. Best is trial 31 with value: 157.05345903463837.\n",
      "15:50:08 - cmdstanpy - INFO - Chain [1] start processing\n",
      "15:50:08 - cmdstanpy - INFO - Chain [1] done processing\n",
      "[I 2024-01-17 15:50:08,646] Trial 33 finished with value: 180.22610204428148 and parameters: {'changepoint_prior_scale': 0.13648933784081546, 'seasonality_mode': 'multiplicative'}. Best is trial 31 with value: 157.05345903463837.\n",
      "15:50:09 - cmdstanpy - INFO - Chain [1] start processing\n",
      "15:50:09 - cmdstanpy - INFO - Chain [1] done processing\n",
      "[I 2024-01-17 15:50:09,552] Trial 34 finished with value: 161.04287164233708 and parameters: {'changepoint_prior_scale': 0.09096628779822427, 'seasonality_mode': 'multiplicative'}. Best is trial 31 with value: 157.05345903463837.\n",
      "15:50:10 - cmdstanpy - INFO - Chain [1] start processing\n",
      "15:50:10 - cmdstanpy - INFO - Chain [1] done processing\n",
      "[I 2024-01-17 15:50:10,512] Trial 35 finished with value: 328.2179699585382 and parameters: {'changepoint_prior_scale': 0.20133337779065497, 'seasonality_mode': 'multiplicative'}. Best is trial 31 with value: 157.05345903463837.\n",
      "15:50:11 - cmdstanpy - INFO - Chain [1] start processing\n",
      "15:50:11 - cmdstanpy - INFO - Chain [1] done processing\n",
      "[I 2024-01-17 15:50:11,406] Trial 36 finished with value: 224.2275179684754 and parameters: {'changepoint_prior_scale': 0.0012205753993578556, 'seasonality_mode': 'additive'}. Best is trial 31 with value: 157.05345903463837.\n",
      "15:50:12 - cmdstanpy - INFO - Chain [1] start processing\n",
      "15:50:12 - cmdstanpy - INFO - Chain [1] done processing\n",
      "[I 2024-01-17 15:50:12,325] Trial 37 finished with value: 157.4746759436516 and parameters: {'changepoint_prior_scale': 0.03865788015265524, 'seasonality_mode': 'multiplicative'}. Best is trial 31 with value: 157.05345903463837.\n",
      "15:50:12 - cmdstanpy - INFO - Chain [1] start processing\n",
      "15:50:12 - cmdstanpy - INFO - Chain [1] done processing\n",
      "[I 2024-01-17 15:50:13,216] Trial 38 finished with value: 327.6974209248022 and parameters: {'changepoint_prior_scale': 0.22904656365442844, 'seasonality_mode': 'additive'}. Best is trial 31 with value: 157.05345903463837.\n",
      "15:50:13 - cmdstanpy - INFO - Chain [1] start processing\n",
      "15:50:13 - cmdstanpy - INFO - Chain [1] done processing\n",
      "[I 2024-01-17 15:50:14,143] Trial 39 finished with value: 201.88046557493553 and parameters: {'changepoint_prior_scale': 0.18672843027731223, 'seasonality_mode': 'multiplicative'}. Best is trial 31 with value: 157.05345903463837.\n",
      "15:50:14 - cmdstanpy - INFO - Chain [1] start processing\n",
      "15:50:14 - cmdstanpy - INFO - Chain [1] done processing\n",
      "[I 2024-01-17 15:50:15,093] Trial 40 finished with value: 357.48446132565806 and parameters: {'changepoint_prior_scale': 0.133780557782632, 'seasonality_mode': 'additive'}. Best is trial 31 with value: 157.05345903463837.\n",
      "15:50:15 - cmdstanpy - INFO - Chain [1] start processing\n",
      "15:50:15 - cmdstanpy - INFO - Chain [1] done processing\n",
      "[I 2024-01-17 15:50:15,999] Trial 41 finished with value: 157.0713511532296 and parameters: {'changepoint_prior_scale': 0.07490966934892665, 'seasonality_mode': 'multiplicative'}. Best is trial 31 with value: 157.05345903463837.\n",
      "15:50:16 - cmdstanpy - INFO - Chain [1] start processing\n",
      "15:50:16 - cmdstanpy - INFO - Chain [1] done processing\n",
      "[I 2024-01-17 15:50:16,715] Trial 42 finished with value: 157.11207689006832 and parameters: {'changepoint_prior_scale': 0.0771573023435492, 'seasonality_mode': 'multiplicative'}. Best is trial 31 with value: 157.05345903463837.\n",
      "15:50:17 - cmdstanpy - INFO - Chain [1] start processing\n",
      "15:50:17 - cmdstanpy - INFO - Chain [1] done processing\n",
      "[I 2024-01-17 15:50:17,599] Trial 43 finished with value: 157.36533067631208 and parameters: {'changepoint_prior_scale': 0.04145838221191048, 'seasonality_mode': 'multiplicative'}. Best is trial 31 with value: 157.05345903463837.\n",
      "15:50:18 - cmdstanpy - INFO - Chain [1] start processing\n",
      "15:50:18 - cmdstanpy - INFO - Chain [1] done processing\n",
      "[I 2024-01-17 15:50:18,412] Trial 44 finished with value: 170.28347552375772 and parameters: {'changepoint_prior_scale': 0.1105061876042221, 'seasonality_mode': 'multiplicative'}. Best is trial 31 with value: 157.05345903463837.\n",
      "15:50:18 - cmdstanpy - INFO - Chain [1] start processing\n",
      "15:50:19 - cmdstanpy - INFO - Chain [1] done processing\n",
      "[I 2024-01-17 15:50:19,261] Trial 45 finished with value: 157.54667951026852 and parameters: {'changepoint_prior_scale': 0.020723026814065786, 'seasonality_mode': 'multiplicative'}. Best is trial 31 with value: 157.05345903463837.\n",
      "15:50:19 - cmdstanpy - INFO - Chain [1] start processing\n",
      "15:50:19 - cmdstanpy - INFO - Chain [1] done processing\n",
      "[I 2024-01-17 15:50:20,157] Trial 46 finished with value: 335.4565309549421 and parameters: {'changepoint_prior_scale': 0.07718306788960821, 'seasonality_mode': 'additive'}. Best is trial 31 with value: 157.05345903463837.\n",
      "15:50:20 - cmdstanpy - INFO - Chain [1] start processing\n",
      "15:50:20 - cmdstanpy - INFO - Chain [1] done processing\n",
      "[I 2024-01-17 15:50:20,978] Trial 47 finished with value: 184.51903991426101 and parameters: {'changepoint_prior_scale': 0.15694541471354814, 'seasonality_mode': 'multiplicative'}. Best is trial 31 with value: 157.05345903463837.\n"
     ]
    },
    {
     "name": "stderr",
     "output_type": "stream",
     "text": [
      "15:50:21 - cmdstanpy - INFO - Chain [1] start processing\n",
      "15:50:21 - cmdstanpy - INFO - Chain [1] done processing\n",
      "[I 2024-01-17 15:50:21,788] Trial 48 finished with value: 157.81073344065962 and parameters: {'changepoint_prior_scale': 0.0012434212261817484, 'seasonality_mode': 'multiplicative'}. Best is trial 31 with value: 157.05345903463837.\n",
      "15:50:22 - cmdstanpy - INFO - Chain [1] start processing\n",
      "15:50:22 - cmdstanpy - INFO - Chain [1] done processing\n",
      "[I 2024-01-17 15:50:22,671] Trial 49 finished with value: 157.30109691229225 and parameters: {'changepoint_prior_scale': 0.04640496904133733, 'seasonality_mode': 'multiplicative'}. Best is trial 31 with value: 157.05345903463837.\n",
      "15:50:23 - cmdstanpy - INFO - Chain [1] start processing\n",
      "15:50:23 - cmdstanpy - INFO - Chain [1] done processing\n",
      "[I 2024-01-17 15:50:23,667] Trial 50 finished with value: 624.9587352059207 and parameters: {'changepoint_prior_scale': 0.23808928813074853, 'seasonality_mode': 'multiplicative'}. Best is trial 31 with value: 157.05345903463837.\n",
      "15:50:24 - cmdstanpy - INFO - Chain [1] start processing\n",
      "15:50:24 - cmdstanpy - INFO - Chain [1] done processing\n",
      "[I 2024-01-17 15:50:24,583] Trial 51 finished with value: 157.29789122972548 and parameters: {'changepoint_prior_scale': 0.08350544393494082, 'seasonality_mode': 'multiplicative'}. Best is trial 31 with value: 157.05345903463837.\n",
      "15:50:25 - cmdstanpy - INFO - Chain [1] start processing\n",
      "15:50:25 - cmdstanpy - INFO - Chain [1] done processing\n",
      "[I 2024-01-17 15:50:25,416] Trial 52 finished with value: 157.04595438433861 and parameters: {'changepoint_prior_scale': 0.07489065079389934, 'seasonality_mode': 'multiplicative'}. Best is trial 52 with value: 157.04595438433861.\n",
      "15:50:25 - cmdstanpy - INFO - Chain [1] start processing\n",
      "15:50:26 - cmdstanpy - INFO - Chain [1] done processing\n",
      "[I 2024-01-17 15:50:26,235] Trial 53 finished with value: 179.03114125526042 and parameters: {'changepoint_prior_scale': 0.13305338817398984, 'seasonality_mode': 'multiplicative'}. Best is trial 52 with value: 157.04595438433861.\n",
      "15:50:26 - cmdstanpy - INFO - Chain [1] start processing\n",
      "15:50:26 - cmdstanpy - INFO - Chain [1] done processing\n",
      "[I 2024-01-17 15:50:26,885] Trial 54 finished with value: 170.61942654658594 and parameters: {'changepoint_prior_scale': 0.10858045994527527, 'seasonality_mode': 'multiplicative'}. Best is trial 52 with value: 157.04595438433861.\n",
      "15:50:27 - cmdstanpy - INFO - Chain [1] start processing\n",
      "15:50:27 - cmdstanpy - INFO - Chain [1] done processing\n",
      "[I 2024-01-17 15:50:27,738] Trial 55 finished with value: 157.52459991514255 and parameters: {'changepoint_prior_scale': 0.01915495589033977, 'seasonality_mode': 'multiplicative'}. Best is trial 52 with value: 157.04595438433861.\n",
      "15:50:28 - cmdstanpy - INFO - Chain [1] start processing\n",
      "15:50:28 - cmdstanpy - INFO - Chain [1] done processing\n",
      "[I 2024-01-17 15:50:28,759] Trial 56 finished with value: 157.08583958159275 and parameters: {'changepoint_prior_scale': 0.07467763185871511, 'seasonality_mode': 'multiplicative'}. Best is trial 52 with value: 157.04595438433861.\n",
      "15:50:29 - cmdstanpy - INFO - Chain [1] start processing\n",
      "15:50:29 - cmdstanpy - INFO - Chain [1] done processing\n",
      "[I 2024-01-17 15:50:29,671] Trial 57 finished with value: 328.8138908465441 and parameters: {'changepoint_prior_scale': 0.07304445877668644, 'seasonality_mode': 'additive'}. Best is trial 52 with value: 157.04595438433861.\n",
      "15:50:30 - cmdstanpy - INFO - Chain [1] start processing\n",
      "15:50:30 - cmdstanpy - INFO - Chain [1] done processing\n",
      "[I 2024-01-17 15:50:30,586] Trial 58 finished with value: 164.51547840653078 and parameters: {'changepoint_prior_scale': 0.09858317145359151, 'seasonality_mode': 'multiplicative'}. Best is trial 52 with value: 157.04595438433861.\n",
      "15:50:31 - cmdstanpy - INFO - Chain [1] start processing\n",
      "15:50:31 - cmdstanpy - INFO - Chain [1] done processing\n",
      "[I 2024-01-17 15:50:31,400] Trial 59 finished with value: 157.3078416930291 and parameters: {'changepoint_prior_scale': 0.04952077923344145, 'seasonality_mode': 'multiplicative'}. Best is trial 52 with value: 157.04595438433861.\n",
      "15:50:31 - cmdstanpy - INFO - Chain [1] start processing\n",
      "15:50:32 - cmdstanpy - INFO - Chain [1] done processing\n",
      "[I 2024-01-17 15:50:32,319] Trial 60 finished with value: 1034.11780044099 and parameters: {'changepoint_prior_scale': 0.27007477377976524, 'seasonality_mode': 'multiplicative'}. Best is trial 52 with value: 157.04595438433861.\n",
      "15:50:32 - cmdstanpy - INFO - Chain [1] start processing\n",
      "15:50:32 - cmdstanpy - INFO - Chain [1] done processing\n",
      "[I 2024-01-17 15:50:33,112] Trial 61 finished with value: 157.10980865162242 and parameters: {'changepoint_prior_scale': 0.06650717333175256, 'seasonality_mode': 'multiplicative'}. Best is trial 52 with value: 157.04595438433861.\n",
      "15:50:33 - cmdstanpy - INFO - Chain [1] start processing\n",
      "15:50:34 - cmdstanpy - INFO - Chain [1] done processing\n",
      "[I 2024-01-17 15:50:34,440] Trial 62 finished with value: 1357.747013107403 and parameters: {'changepoint_prior_scale': 0.497992988899287, 'seasonality_mode': 'multiplicative'}. Best is trial 52 with value: 157.04595438433861.\n",
      "15:50:34 - cmdstanpy - INFO - Chain [1] start processing\n",
      "15:50:35 - cmdstanpy - INFO - Chain [1] done processing\n",
      "[I 2024-01-17 15:50:35,226] Trial 63 finished with value: 176.24808459023703 and parameters: {'changepoint_prior_scale': 0.12527688045619634, 'seasonality_mode': 'multiplicative'}. Best is trial 52 with value: 157.04595438433861.\n",
      "15:50:35 - cmdstanpy - INFO - Chain [1] start processing\n",
      "15:50:35 - cmdstanpy - INFO - Chain [1] done processing\n",
      "[I 2024-01-17 15:50:35,963] Trial 64 finished with value: 157.2444441384323 and parameters: {'changepoint_prior_scale': 0.07179558946318998, 'seasonality_mode': 'multiplicative'}. Best is trial 52 with value: 157.04595438433861.\n",
      "15:50:36 - cmdstanpy - INFO - Chain [1] start processing\n",
      "15:50:36 - cmdstanpy - INFO - Chain [1] done processing\n",
      "[I 2024-01-17 15:50:36,801] Trial 65 finished with value: 179.2300445444521 and parameters: {'changepoint_prior_scale': 0.1432935628701071, 'seasonality_mode': 'multiplicative'}. Best is trial 52 with value: 157.04595438433861.\n",
      "15:50:37 - cmdstanpy - INFO - Chain [1] start processing\n",
      "15:50:37 - cmdstanpy - INFO - Chain [1] done processing\n",
      "[I 2024-01-17 15:50:37,611] Trial 66 finished with value: 171.59247467092698 and parameters: {'changepoint_prior_scale': 0.11170602662705637, 'seasonality_mode': 'multiplicative'}. Best is trial 52 with value: 157.04595438433861.\n",
      "15:50:38 - cmdstanpy - INFO - Chain [1] start processing\n",
      "15:50:38 - cmdstanpy - INFO - Chain [1] done processing\n",
      "[I 2024-01-17 15:50:38,422] Trial 67 finished with value: 157.28544013659678 and parameters: {'changepoint_prior_scale': 0.05219874299199718, 'seasonality_mode': 'multiplicative'}. Best is trial 52 with value: 157.04595438433861.\n",
      "15:50:39 - cmdstanpy - INFO - Chain [1] start processing\n",
      "15:50:39 - cmdstanpy - INFO - Chain [1] done processing\n",
      "[I 2024-01-17 15:50:39,492] Trial 68 finished with value: 988.6051865147363 and parameters: {'changepoint_prior_scale': 0.3471266796086248, 'seasonality_mode': 'multiplicative'}. Best is trial 52 with value: 157.04595438433861.\n",
      "15:50:40 - cmdstanpy - INFO - Chain [1] start processing\n",
      "15:50:40 - cmdstanpy - INFO - Chain [1] done processing\n",
      "[I 2024-01-17 15:50:40,328] Trial 69 finished with value: 164.0542370756768 and parameters: {'changepoint_prior_scale': 0.09573707075759758, 'seasonality_mode': 'multiplicative'}. Best is trial 52 with value: 157.04595438433861.\n",
      "15:50:40 - cmdstanpy - INFO - Chain [1] start processing\n",
      "15:50:40 - cmdstanpy - INFO - Chain [1] done processing\n",
      "[I 2024-01-17 15:50:41,140] Trial 70 finished with value: 199.87765196184623 and parameters: {'changepoint_prior_scale': 0.17467123295970083, 'seasonality_mode': 'multiplicative'}. Best is trial 52 with value: 157.04595438433861.\n",
      "15:50:41 - cmdstanpy - INFO - Chain [1] start processing\n",
      "15:50:41 - cmdstanpy - INFO - Chain [1] done processing\n",
      "[I 2024-01-17 15:50:41,798] Trial 71 finished with value: 157.47564402334083 and parameters: {'changepoint_prior_scale': 0.030423710140078095, 'seasonality_mode': 'multiplicative'}. Best is trial 52 with value: 157.04595438433861.\n"
     ]
    },
    {
     "name": "stderr",
     "output_type": "stream",
     "text": [
      "15:50:42 - cmdstanpy - INFO - Chain [1] start processing\n",
      "15:50:42 - cmdstanpy - INFO - Chain [1] done processing\n",
      "[I 2024-01-17 15:50:42,630] Trial 72 finished with value: 157.18872230582085 and parameters: {'changepoint_prior_scale': 0.06678085750060109, 'seasonality_mode': 'multiplicative'}. Best is trial 52 with value: 157.04595438433861.\n",
      "15:50:43 - cmdstanpy - INFO - Chain [1] start processing\n",
      "15:50:43 - cmdstanpy - INFO - Chain [1] done processing\n",
      "[I 2024-01-17 15:50:43,310] Trial 73 finished with value: 157.46774881241097 and parameters: {'changepoint_prior_scale': 0.01797852407058926, 'seasonality_mode': 'multiplicative'}. Best is trial 52 with value: 157.04595438433861.\n",
      "15:50:43 - cmdstanpy - INFO - Chain [1] start processing\n",
      "15:50:43 - cmdstanpy - INFO - Chain [1] done processing\n",
      "[I 2024-01-17 15:50:44,121] Trial 74 finished with value: 157.05409215928015 and parameters: {'changepoint_prior_scale': 0.08458002344977948, 'seasonality_mode': 'multiplicative'}. Best is trial 52 with value: 157.04595438433861.\n",
      "15:50:44 - cmdstanpy - INFO - Chain [1] start processing\n",
      "15:50:44 - cmdstanpy - INFO - Chain [1] done processing\n",
      "[I 2024-01-17 15:50:44,937] Trial 75 finished with value: 157.05805295338567 and parameters: {'changepoint_prior_scale': 0.08352713257383788, 'seasonality_mode': 'multiplicative'}. Best is trial 52 with value: 157.04595438433861.\n",
      "15:50:45 - cmdstanpy - INFO - Chain [1] start processing\n",
      "15:50:45 - cmdstanpy - INFO - Chain [1] done processing\n",
      "[I 2024-01-17 15:50:45,780] Trial 76 finished with value: 278.072633152776 and parameters: {'changepoint_prior_scale': 0.09244853042873494, 'seasonality_mode': 'additive'}. Best is trial 52 with value: 157.04595438433861.\n",
      "15:50:46 - cmdstanpy - INFO - Chain [1] start processing\n",
      "15:50:46 - cmdstanpy - INFO - Chain [1] done processing\n",
      "[I 2024-01-17 15:50:46,617] Trial 77 finished with value: 175.03778474700704 and parameters: {'changepoint_prior_scale': 0.11563403841063735, 'seasonality_mode': 'multiplicative'}. Best is trial 52 with value: 157.04595438433861.\n",
      "15:50:47 - cmdstanpy - INFO - Chain [1] start processing\n",
      "15:50:47 - cmdstanpy - INFO - Chain [1] done processing\n",
      "[I 2024-01-17 15:50:47,442] Trial 78 finished with value: 157.26390306346013 and parameters: {'changepoint_prior_scale': 0.05636687723746435, 'seasonality_mode': 'multiplicative'}. Best is trial 52 with value: 157.04595438433861.\n",
      "15:50:48 - cmdstanpy - INFO - Chain [1] start processing\n",
      "15:50:48 - cmdstanpy - INFO - Chain [1] done processing\n",
      "[I 2024-01-17 15:50:48,293] Trial 79 finished with value: 157.40790083428263 and parameters: {'changepoint_prior_scale': 0.03751088239929702, 'seasonality_mode': 'multiplicative'}. Best is trial 52 with value: 157.04595438433861.\n",
      "15:50:48 - cmdstanpy - INFO - Chain [1] start processing\n",
      "15:50:48 - cmdstanpy - INFO - Chain [1] done processing\n",
      "[I 2024-01-17 15:50:49,126] Trial 80 finished with value: 157.08736536444727 and parameters: {'changepoint_prior_scale': 0.0847190460012738, 'seasonality_mode': 'multiplicative'}. Best is trial 52 with value: 157.04595438433861.\n",
      "15:50:49 - cmdstanpy - INFO - Chain [1] start processing\n",
      "15:50:49 - cmdstanpy - INFO - Chain [1] done processing\n",
      "[I 2024-01-17 15:50:49,924] Trial 81 finished with value: 157.05017564401285 and parameters: {'changepoint_prior_scale': 0.08380395903699892, 'seasonality_mode': 'multiplicative'}. Best is trial 52 with value: 157.04595438433861.\n",
      "15:50:50 - cmdstanpy - INFO - Chain [1] start processing\n",
      "15:50:50 - cmdstanpy - INFO - Chain [1] done processing\n",
      "[I 2024-01-17 15:50:50,776] Trial 82 finished with value: 157.06652458697354 and parameters: {'changepoint_prior_scale': 0.08813924708484815, 'seasonality_mode': 'multiplicative'}. Best is trial 52 with value: 157.04595438433861.\n",
      "15:50:51 - cmdstanpy - INFO - Chain [1] start processing\n",
      "15:50:51 - cmdstanpy - INFO - Chain [1] done processing\n",
      "[I 2024-01-17 15:50:51,614] Trial 83 finished with value: 166.14780886279775 and parameters: {'changepoint_prior_scale': 0.10278886379834472, 'seasonality_mode': 'multiplicative'}. Best is trial 52 with value: 157.04595438433861.\n",
      "15:50:52 - cmdstanpy - INFO - Chain [1] start processing\n",
      "15:50:52 - cmdstanpy - INFO - Chain [1] done processing\n",
      "[I 2024-01-17 15:50:52,464] Trial 84 finished with value: 172.48538633235773 and parameters: {'changepoint_prior_scale': 0.12218273575715811, 'seasonality_mode': 'multiplicative'}. Best is trial 52 with value: 157.04595438433861.\n",
      "15:50:53 - cmdstanpy - INFO - Chain [1] start processing\n",
      "15:50:53 - cmdstanpy - INFO - Chain [1] done processing\n",
      "[I 2024-01-17 15:50:53,333] Trial 85 finished with value: 157.05103605144583 and parameters: {'changepoint_prior_scale': 0.08528717628484249, 'seasonality_mode': 'multiplicative'}. Best is trial 52 with value: 157.04595438433861.\n",
      "15:50:53 - cmdstanpy - INFO - Chain [1] start processing\n",
      "15:50:54 - cmdstanpy - INFO - Chain [1] done processing\n",
      "[I 2024-01-17 15:50:54,251] Trial 86 finished with value: 182.49046796357896 and parameters: {'changepoint_prior_scale': 0.143890908757512, 'seasonality_mode': 'multiplicative'}. Best is trial 52 with value: 157.04595438433861.\n",
      "15:50:54 - cmdstanpy - INFO - Chain [1] start processing\n",
      "15:50:54 - cmdstanpy - INFO - Chain [1] done processing\n",
      "[I 2024-01-17 15:50:55,155] Trial 87 finished with value: 165.98683125156074 and parameters: {'changepoint_prior_scale': 0.09852080754179957, 'seasonality_mode': 'multiplicative'}. Best is trial 52 with value: 157.04595438433861.\n",
      "15:50:55 - cmdstanpy - INFO - Chain [1] start processing\n",
      "15:50:55 - cmdstanpy - INFO - Chain [1] done processing\n",
      "[I 2024-01-17 15:50:55,974] Trial 88 finished with value: 352.47710437115273 and parameters: {'changepoint_prior_scale': 0.29019978167388144, 'seasonality_mode': 'additive'}. Best is trial 52 with value: 157.04595438433861.\n",
      "15:50:56 - cmdstanpy - INFO - Chain [1] start processing\n",
      "15:50:56 - cmdstanpy - INFO - Chain [1] done processing\n",
      "[I 2024-01-17 15:50:56,767] Trial 89 finished with value: 157.26749898897774 and parameters: {'changepoint_prior_scale': 0.08316742104170101, 'seasonality_mode': 'multiplicative'}. Best is trial 52 with value: 157.04595438433861.\n",
      "15:50:57 - cmdstanpy - INFO - Chain [1] start processing\n",
      "15:50:57 - cmdstanpy - INFO - Chain [1] done processing\n",
      "[I 2024-01-17 15:50:57,561] Trial 90 finished with value: 191.76546614878663 and parameters: {'changepoint_prior_scale': 0.1702184887357534, 'seasonality_mode': 'multiplicative'}. Best is trial 52 with value: 157.04595438433861.\n",
      "15:50:58 - cmdstanpy - INFO - Chain [1] start processing\n",
      "15:50:58 - cmdstanpy - INFO - Chain [1] done processing\n",
      "[I 2024-01-17 15:50:58,370] Trial 91 finished with value: 157.20206786429472 and parameters: {'changepoint_prior_scale': 0.05922958882683525, 'seasonality_mode': 'multiplicative'}. Best is trial 52 with value: 157.04595438433861.\n",
      "15:50:58 - cmdstanpy - INFO - Chain [1] start processing\n",
      "15:50:58 - cmdstanpy - INFO - Chain [1] done processing\n",
      "[I 2024-01-17 15:50:59,192] Trial 92 finished with value: 157.0626924741719 and parameters: {'changepoint_prior_scale': 0.08559901768524708, 'seasonality_mode': 'multiplicative'}. Best is trial 52 with value: 157.04595438433861.\n",
      "15:50:59 - cmdstanpy - INFO - Chain [1] start processing\n",
      "15:50:59 - cmdstanpy - INFO - Chain [1] done processing\n",
      "[I 2024-01-17 15:51:00,069] Trial 93 finished with value: 174.89288840330636 and parameters: {'changepoint_prior_scale': 0.12894256174863516, 'seasonality_mode': 'multiplicative'}. Best is trial 52 with value: 157.04595438433861.\n",
      "15:51:00 - cmdstanpy - INFO - Chain [1] start processing\n",
      "15:51:00 - cmdstanpy - INFO - Chain [1] done processing\n",
      "[I 2024-01-17 15:51:00,734] Trial 94 finished with value: 157.32111322234562 and parameters: {'changepoint_prior_scale': 0.04727121812286929, 'seasonality_mode': 'multiplicative'}. Best is trial 52 with value: 157.04595438433861.\n",
      "15:51:01 - cmdstanpy - INFO - Chain [1] start processing\n",
      "15:51:01 - cmdstanpy - INFO - Chain [1] done processing\n",
      "[I 2024-01-17 15:51:01,575] Trial 95 finished with value: 169.81064314333153 and parameters: {'changepoint_prior_scale': 0.10625114151969495, 'seasonality_mode': 'multiplicative'}. Best is trial 52 with value: 157.04595438433861.\n"
     ]
    },
    {
     "name": "stderr",
     "output_type": "stream",
     "text": [
      "15:51:02 - cmdstanpy - INFO - Chain [1] start processing\n",
      "15:51:02 - cmdstanpy - INFO - Chain [1] done processing\n",
      "[I 2024-01-17 15:51:02,405] Trial 96 finished with value: 157.05428288412872 and parameters: {'changepoint_prior_scale': 0.08656233433678692, 'seasonality_mode': 'multiplicative'}. Best is trial 52 with value: 157.04595438433861.\n",
      "15:51:02 - cmdstanpy - INFO - Chain [1] start processing\n",
      "15:51:03 - cmdstanpy - INFO - Chain [1] done processing\n",
      "[I 2024-01-17 15:51:03,234] Trial 97 finished with value: 159.85627869336733 and parameters: {'changepoint_prior_scale': 0.08629132317371926, 'seasonality_mode': 'multiplicative'}. Best is trial 52 with value: 157.04595438433861.\n",
      "15:51:03 - cmdstanpy - INFO - Chain [1] start processing\n",
      "15:51:03 - cmdstanpy - INFO - Chain [1] done processing\n",
      "[I 2024-01-17 15:51:04,055] Trial 98 finished with value: 168.8112953848836 and parameters: {'changepoint_prior_scale': 0.118978830359912, 'seasonality_mode': 'multiplicative'}. Best is trial 52 with value: 157.04595438433861.\n",
      "15:51:04 - cmdstanpy - INFO - Chain [1] start processing\n",
      "15:51:04 - cmdstanpy - INFO - Chain [1] done processing\n",
      "[I 2024-01-17 15:51:04,890] Trial 99 finished with value: 159.90971362482986 and parameters: {'changepoint_prior_scale': 0.09043421456299265, 'seasonality_mode': 'multiplicative'}. Best is trial 52 with value: 157.04595438433861.\n",
      "15:51:05 - cmdstanpy - INFO - Chain [1] start processing\n",
      "15:51:05 - cmdstanpy - INFO - Chain [1] done processing\n"
     ]
    },
    {
     "data": {
      "text/plain": [
       "<prophet.forecaster.Prophet at 0x1a211b823d0>"
      ]
     },
     "execution_count": 137,
     "metadata": {},
     "output_type": "execute_result"
    }
   ],
   "source": [
    "# Define the objective function to optimize\n",
    "def objective(trial):\n",
    "    # Create a Prophet model with suggested hyperparameters\n",
    "    model = Prophet(\n",
    "        changepoint_prior_scale=trial.suggest_float(\"changepoint_prior_scale\", 0.001, 0.5),\n",
    "        seasonality_mode=trial.suggest_categorical(\"seasonality_mode\", [\"additive\", \"multiplicative\"]),\n",
    "    )\n",
    "    # Fit the model to the training data\n",
    "    model.fit(train2)\n",
    "\n",
    "    # Make predictions on the validation set\n",
    "    future_dates = model.make_future_dataframe(periods=len(test2), freq='M')\n",
    "    forecast = model.predict(future_dates)\n",
    "    test_predictions = forecast['yhat'][-len(test2):]\n",
    "    \n",
    "    # Calculate evaluation metric (e.g., RMSE)\n",
    "    rmse = np.sqrt(mean_squared_error(test2['y'], test_predictions))\n",
    "\n",
    "    return rmse  # Minimize RMSE\n",
    "\n",
    "# Create an Optuna study\n",
    "study = optuna.create_study(direction=\"minimize\")\n",
    "\n",
    "# Run the optimization\n",
    "study.optimize(objective, n_trials=100)  # Adjust the number of trials as needed\n",
    "\n",
    "# Get the best hyperparameters\n",
    "best_params = study.best_params\n",
    "\n",
    "# Create the best model using the optimal hyperparameters\n",
    "best_model = Prophet(**best_params)\n",
    "# Fit the best model to the entire dataset\n",
    "best_model.fit(train2)"
   ]
  },
  {
   "cell_type": "code",
   "execution_count": 138,
   "metadata": {},
   "outputs": [],
   "source": [
    "future_dates = best_model.make_future_dataframe(periods=len(test2), freq='M') \n",
    "forecast = best_model.predict(future_dates)\n",
    "test_predictions3 = forecast['yhat'][-len(test2):]"
   ]
  },
  {
   "cell_type": "code",
   "execution_count": 139,
   "metadata": {},
   "outputs": [
    {
     "name": "stdout",
     "output_type": "stream",
     "text": [
      "RMSE: 157.04595438433861\n",
      "MAE: 113.41716478646667\n"
     ]
    }
   ],
   "source": [
    "metrics(test2['y'], test_predictions3)"
   ]
  },
  {
   "cell_type": "markdown",
   "metadata": {},
   "source": [
    "From the model above and the best parameters chosen by optuna our prophet model has an RMSE of 157.05 and an MAE of 113.42 which is better than the other models and therefore we chose it as our final model "
   ]
  },
  {
   "cell_type": "markdown",
   "metadata": {},
   "source": [
    "## Conclusion  \n",
    "From the project we were able to answer all our objectives and had the following conclusion:  \n",
    "\n",
    "Based on our findings the best zipcodes to invest in are: \n",
    "1. 11211 - Brooklyn, New York\n",
    "2. 11222 - Brooklyn, New York\n",
    "3. 11216 - Brooklyn, New York\n",
    "4. 7302 - Jersey City, New Jersey  \n",
    "5. 11215 - Brooklyn, New York  \n",
    "\n",
    "The best cities to invest in are:\n",
    "1. New York\n",
    "2. Jersey City\n",
    "3. Winscott\n",
    "4. Amagansett\n",
    "5. Hartsel\n",
    "\n",
    "The best states to invest in are:  \n",
    "1. New York\n",
    "2. New Jersey \n",
    "3. Colorado  \n",
    "4. Carlifonia  \n",
    "5. Washington DC\n",
    "\n",
    "To answer the second object we noted that there is an upward trend with our data, which suggests that the real estate value increases with time. There is no clear way to determine which time period is suitable to invest in Real Estate, since the data contained no seasonality.  \n",
    "\n",
    "\n",
    "To answer the third objective we created a predictive model that is able to forecast future real estate values\n"
   ]
  },
  {
   "cell_type": "markdown",
   "metadata": {},
   "source": [
    "## Recommendation\n",
    "From our finding it is advisable to invest in Real Estate, the data showed an upward trend, indicating appreciating values over the years.\n",
    "\n",
    "To the real estate investors, we recommend investing in the following states, New York, New Jersey, Colorado, Carlifornia and Washington DC, from the analysis these states showed promising Returns on Investment. The best zipcodes were found within the states mentioned, these are, 11211 - Brooklyn, New York, 11222 - Brooklyn, New York, 11216 - Brooklyn, New York, 7302 - Jersey City, New Jersey and 11215 - Brooklyn, New York.  \n",
    "\n",
    "As a way to mitigate risk we recommend using the model created to forecast future values of Real Estate.  \n",
    "\n",
    "\n"
   ]
  },
  {
   "cell_type": "markdown",
   "metadata": {},
   "source": [
    "### Next Steps  \n",
    "\n",
    "To collect more data on Real Estate Values - more data will better inform the model and lead to better predictive results.\n",
    "\n",
    "Continuous model training to improve accuracy"
   ]
  },
  {
   "cell_type": "code",
   "execution_count": 141,
   "metadata": {},
   "outputs": [
    {
     "name": "stdout",
     "output_type": "stream",
     "text": [
      "Collecting streamlit\n",
      "  Downloading streamlit-1.30.0-py2.py3-none-any.whl.metadata (8.2 kB)\n",
      "Collecting altair<6,>=4.0 (from streamlit)\n",
      "  Downloading altair-5.2.0-py3-none-any.whl.metadata (8.7 kB)\n",
      "Collecting blinker<2,>=1.0.0 (from streamlit)\n",
      "  Using cached blinker-1.7.0-py3-none-any.whl.metadata (1.9 kB)\n",
      "Requirement already satisfied: cachetools<6,>=4.0 in c:\\users\\crystal\\anaconda3\\envs\\learn-env\\lib\\site-packages (from streamlit) (4.1.1)\n",
      "Requirement already satisfied: click<9,>=7.0 in c:\\users\\crystal\\anaconda3\\envs\\learn-env\\lib\\site-packages (from streamlit) (7.1.2)\n",
      "Requirement already satisfied: importlib-metadata<8,>=1.4 in c:\\users\\crystal\\anaconda3\\envs\\learn-env\\lib\\site-packages (from streamlit) (7.0.1)\n",
      "Requirement already satisfied: numpy<2,>=1.19.3 in c:\\users\\crystal\\anaconda3\\envs\\learn-env\\lib\\site-packages (from streamlit) (1.22.0)\n",
      "Requirement already satisfied: packaging<24,>=16.8 in c:\\users\\crystal\\anaconda3\\envs\\learn-env\\lib\\site-packages (from streamlit) (20.4)\n",
      "Collecting pandas<3,>=1.3.0 (from streamlit)\n",
      "  Downloading pandas-2.0.3-cp38-cp38-win_amd64.whl.metadata (18 kB)\n",
      "Requirement already satisfied: pillow<11,>=7.1.0 in c:\\users\\crystal\\anaconda3\\envs\\learn-env\\lib\\site-packages (from streamlit) (8.0.0)\n",
      "Requirement already satisfied: protobuf<5,>=3.20 in c:\\users\\crystal\\anaconda3\\envs\\learn-env\\lib\\site-packages (from streamlit) (4.25.1)\n",
      "Collecting pyarrow>=6.0 (from streamlit)\n",
      "  Downloading pyarrow-14.0.2-cp38-cp38-win_amd64.whl.metadata (3.1 kB)\n",
      "Requirement already satisfied: python-dateutil<3,>=2.7.3 in c:\\users\\crystal\\anaconda3\\envs\\learn-env\\lib\\site-packages (from streamlit) (2.8.1)\n",
      "Collecting requests<3,>=2.27 (from streamlit)\n",
      "  Using cached requests-2.31.0-py3-none-any.whl.metadata (4.6 kB)\n",
      "Collecting rich<14,>=10.14.0 (from streamlit)"
     ]
    },
    {
     "name": "stderr",
     "output_type": "stream",
     "text": [
      "  WARNING: Failed to remove contents in a temporary directory 'C:\\Users\\Crystal\\anaconda3\\envs\\learn-env\\Lib\\site-packages\\~andas'.\n",
      "  You can safely remove it manually.\n",
      "ERROR: pip's dependency resolver does not currently take into account all the packages that are installed. This behaviour is the source of the following dependency conflicts.\n",
      "fbprophet 0.7.1 requires cmdstanpy==0.9.5, but you have cmdstanpy 1.2.0 which is incompatible.\n",
      "google-api-core 1.22.2 requires google-auth<2.0dev,>=1.21.1, but you have google-auth 2.26.1 which is incompatible.\n",
      "google-cloud-storage 1.31.2 requires google-auth<2.0dev,>=1.11.0, but you have google-auth 2.26.1 which is incompatible.\n"
     ]
    },
    {
     "name": "stdout",
     "output_type": "stream",
     "text": [
      "\n",
      "  Downloading rich-13.7.0-py3-none-any.whl.metadata (18 kB)\n",
      "Collecting tenacity<9,>=8.1.0 (from streamlit)\n",
      "  Using cached tenacity-8.2.3-py3-none-any.whl.metadata (1.0 kB)\n",
      "Collecting toml<2,>=0.10.1 (from streamlit)\n",
      "  Downloading toml-0.10.2-py2.py3-none-any.whl (16 kB)\n",
      "Requirement already satisfied: typing-extensions<5,>=4.3.0 in c:\\users\\crystal\\anaconda3\\envs\\learn-env\\lib\\site-packages (from streamlit) (4.5.0)\n",
      "Collecting tzlocal<6,>=1.1 (from streamlit)\n",
      "  Downloading tzlocal-5.2-py3-none-any.whl.metadata (7.8 kB)\n",
      "Collecting validators<1,>=0.2 (from streamlit)\n",
      "  Downloading validators-0.22.0-py3-none-any.whl.metadata (4.7 kB)\n",
      "Collecting gitpython!=3.1.19,<4,>=3.0.7 (from streamlit)\n",
      "  Downloading GitPython-3.1.41-py3-none-any.whl.metadata (14 kB)\n",
      "Collecting pydeck<1,>=0.8.0b4 (from streamlit)\n",
      "  Downloading pydeck-0.8.1b0-py2.py3-none-any.whl (4.8 MB)\n",
      "     ---------------------------------------- 4.8/4.8 MB 453.8 kB/s eta 0:00:00\n",
      "Requirement already satisfied: tornado<7,>=6.0.3 in c:\\users\\crystal\\anaconda3\\envs\\learn-env\\lib\\site-packages (from streamlit) (6.0.4)\n",
      "Collecting watchdog>=2.1.5 (from streamlit)\n",
      "  Downloading watchdog-3.0.0-py3-none-win_amd64.whl (82 kB)\n",
      "     -------------------------------------- 82.0/82.0 kB 512.9 kB/s eta 0:00:00\n",
      "Requirement already satisfied: jinja2 in c:\\users\\crystal\\anaconda3\\envs\\learn-env\\lib\\site-packages (from altair<6,>=4.0->streamlit) (2.11.2)\n",
      "Requirement already satisfied: jsonschema>=3.0 in c:\\users\\crystal\\anaconda3\\envs\\learn-env\\lib\\site-packages (from altair<6,>=4.0->streamlit) (3.2.0)\n",
      "Collecting toolz (from altair<6,>=4.0->streamlit)\n",
      "  Downloading toolz-0.12.0-py3-none-any.whl (55 kB)\n",
      "     -------------------------------------- 55.8/55.8 kB 265.1 kB/s eta 0:00:00\n",
      "Collecting gitdb<5,>=4.0.1 (from gitpython!=3.1.19,<4,>=3.0.7->streamlit)\n",
      "  Downloading gitdb-4.0.11-py3-none-any.whl.metadata (1.2 kB)\n",
      "Requirement already satisfied: zipp>=0.5 in c:\\users\\crystal\\anaconda3\\envs\\learn-env\\lib\\site-packages (from importlib-metadata<8,>=1.4->streamlit) (3.3.0)\n",
      "Requirement already satisfied: pyparsing>=2.0.2 in c:\\users\\crystal\\anaconda3\\envs\\learn-env\\lib\\site-packages (from packaging<24,>=16.8->streamlit) (2.4.7)\n",
      "Requirement already satisfied: six in c:\\users\\crystal\\anaconda3\\envs\\learn-env\\lib\\site-packages (from packaging<24,>=16.8->streamlit) (1.15.0)\n",
      "Collecting python-dateutil<3,>=2.7.3 (from streamlit)\n",
      "  Using cached python_dateutil-2.8.2-py2.py3-none-any.whl (247 kB)\n",
      "Requirement already satisfied: pytz>=2020.1 in c:\\users\\crystal\\anaconda3\\envs\\learn-env\\lib\\site-packages (from pandas<3,>=1.3.0->streamlit) (2020.1)\n",
      "Collecting tzdata>=2022.1 (from pandas<3,>=1.3.0->streamlit)\n",
      "  Downloading tzdata-2023.4-py2.py3-none-any.whl.metadata (1.4 kB)\n",
      "Collecting charset-normalizer<4,>=2 (from requests<3,>=2.27->streamlit)\n",
      "  Using cached charset_normalizer-3.3.2-cp38-cp38-win_amd64.whl.metadata (34 kB)\n",
      "Requirement already satisfied: idna<4,>=2.5 in c:\\users\\crystal\\anaconda3\\envs\\learn-env\\lib\\site-packages (from requests<3,>=2.27->streamlit) (2.10)\n",
      "Requirement already satisfied: urllib3<3,>=1.21.1 in c:\\users\\crystal\\anaconda3\\envs\\learn-env\\lib\\site-packages (from requests<3,>=2.27->streamlit) (1.25.10)\n",
      "Requirement already satisfied: certifi>=2017.4.17 in c:\\users\\crystal\\anaconda3\\envs\\learn-env\\lib\\site-packages (from requests<3,>=2.27->streamlit) (2023.11.17)\n",
      "Collecting markdown-it-py>=2.2.0 (from rich<14,>=10.14.0->streamlit)\n",
      "  Downloading markdown_it_py-3.0.0-py3-none-any.whl.metadata (6.9 kB)\n",
      "Collecting pygments<3.0.0,>=2.13.0 (from rich<14,>=10.14.0->streamlit)\n",
      "  Using cached pygments-2.17.2-py3-none-any.whl.metadata (2.6 kB)\n",
      "Collecting backports.zoneinfo (from tzlocal<6,>=1.1->streamlit)\n",
      "  Downloading backports.zoneinfo-0.2.1-cp38-cp38-win_amd64.whl (38 kB)\n",
      "Collecting smmap<6,>=3.0.1 (from gitdb<5,>=4.0.1->gitpython!=3.1.19,<4,>=3.0.7->streamlit)\n",
      "  Downloading smmap-5.0.1-py3-none-any.whl.metadata (4.3 kB)\n",
      "Requirement already satisfied: MarkupSafe>=0.23 in c:\\users\\crystal\\anaconda3\\envs\\learn-env\\lib\\site-packages (from jinja2->altair<6,>=4.0->streamlit) (1.1.1)\n",
      "Requirement already satisfied: attrs>=17.4.0 in c:\\users\\crystal\\anaconda3\\envs\\learn-env\\lib\\site-packages (from jsonschema>=3.0->altair<6,>=4.0->streamlit) (20.2.0)\n",
      "Requirement already satisfied: pyrsistent>=0.14.0 in c:\\users\\crystal\\anaconda3\\envs\\learn-env\\lib\\site-packages (from jsonschema>=3.0->altair<6,>=4.0->streamlit) (0.17.3)\n",
      "Requirement already satisfied: setuptools in c:\\users\\crystal\\anaconda3\\envs\\learn-env\\lib\\site-packages (from jsonschema>=3.0->altair<6,>=4.0->streamlit) (50.3.0.post20201103)\n",
      "Collecting mdurl~=0.1 (from markdown-it-py>=2.2.0->rich<14,>=10.14.0->streamlit)\n",
      "  Downloading mdurl-0.1.2-py3-none-any.whl (10.0 kB)\n",
      "Downloading streamlit-1.30.0-py2.py3-none-any.whl (8.4 MB)\n",
      "   ---------------------------------------- 8.4/8.4 MB 541.8 kB/s eta 0:00:00\n",
      "Downloading altair-5.2.0-py3-none-any.whl (996 kB)\n",
      "   -------------------------------------- 996.9/996.9 kB 471.4 kB/s eta 0:00:00\n",
      "Using cached blinker-1.7.0-py3-none-any.whl (13 kB)\n",
      "Downloading GitPython-3.1.41-py3-none-any.whl (196 kB)\n",
      "   -------------------------------------- 196.4/196.4 kB 442.1 kB/s eta 0:00:00\n",
      "Downloading pandas-2.0.3-cp38-cp38-win_amd64.whl (10.8 MB)\n",
      "   ---------------------------------------- 10.8/10.8 MB 335.6 kB/s eta 0:00:00\n",
      "Downloading pyarrow-14.0.2-cp38-cp38-win_amd64.whl (24.6 MB)\n",
      "   ---------------------------------------- 24.6/24.6 MB 481.6 kB/s eta 0:00:00\n",
      "Using cached requests-2.31.0-py3-none-any.whl (62 kB)\n",
      "Downloading rich-13.7.0-py3-none-any.whl (240 kB)\n",
      "   -------------------------------------- 240.6/240.6 kB 700.3 kB/s eta 0:00:00\n",
      "Using cached tenacity-8.2.3-py3-none-any.whl (24 kB)\n",
      "Downloading tzlocal-5.2-py3-none-any.whl (17 kB)\n",
      "Downloading validators-0.22.0-py3-none-any.whl (26 kB)\n",
      "Using cached charset_normalizer-3.3.2-cp38-cp38-win_amd64.whl (99 kB)\n",
      "Downloading gitdb-4.0.11-py3-none-any.whl (62 kB)\n",
      "   ---------------------------------------- 62.7/62.7 kB 372.2 kB/s eta 0:00:00\n",
      "Downloading markdown_it_py-3.0.0-py3-none-any.whl (87 kB)\n",
      "   ---------------------------------------- 87.5/87.5 kB 413.3 kB/s eta 0:00:00\n",
      "Using cached pygments-2.17.2-py3-none-any.whl (1.2 MB)\n",
      "Downloading tzdata-2023.4-py2.py3-none-any.whl (346 kB)\n",
      "   -------------------------------------- 346.6/346.6 kB 552.3 kB/s eta 0:00:00\n",
      "Downloading smmap-5.0.1-py3-none-any.whl (24 kB)\n",
      "Installing collected packages: watchdog, validators, tzdata, toolz, toml, tenacity, smmap, python-dateutil, pygments, pyarrow, mdurl, charset-normalizer, blinker, backports.zoneinfo, tzlocal, requests, pydeck, pandas, markdown-it-py, gitdb, rich, gitpython, altair, streamlit\n",
      "  Attempting uninstall: python-dateutil\n",
      "    Found existing installation: python-dateutil 2.8.1\n",
      "    Uninstalling python-dateutil-2.8.1:\n",
      "      Successfully uninstalled python-dateutil-2.8.1\n",
      "  Attempting uninstall: pygments\n",
      "    Found existing installation: Pygments 2.7.1\n",
      "    Uninstalling Pygments-2.7.1:\n",
      "      Successfully uninstalled Pygments-2.7.1\n",
      "  Attempting uninstall: pyarrow\n",
      "    Found existing installation: pyarrow 0.15.1\n",
      "    Uninstalling pyarrow-0.15.1:\n",
      "      Successfully uninstalled pyarrow-0.15.1\n",
      "  Attempting uninstall: requests\n",
      "    Found existing installation: requests 2.24.0\n",
      "    Uninstalling requests-2.24.0:\n",
      "      Successfully uninstalled requests-2.24.0\n",
      "  Attempting uninstall: pandas\n",
      "    Found existing installation: pandas 1.1.3\n",
      "    Uninstalling pandas-1.1.3:\n",
      "      Successfully uninstalled pandas-1.1.3\n",
      "Successfully installed altair-5.2.0 backports.zoneinfo-0.2.1 blinker-1.7.0 charset-normalizer-3.3.2 gitdb-4.0.11 gitpython-3.1.41 markdown-it-py-3.0.0 mdurl-0.1.2 pandas-2.0.3 pyarrow-14.0.2 pydeck-0.8.1b0 pygments-2.17.2 python-dateutil-2.8.2 requests-2.31.0 rich-13.7.0 smmap-5.0.1 streamlit-1.30.0 tenacity-8.2.3 toml-0.10.2 toolz-0.12.0 tzdata-2023.4 tzlocal-5.2 validators-0.22.0 watchdog-3.0.0\n"
     ]
    }
   ],
   "source": [
    "! pip install streamlit "
   ]
  },
  {
   "cell_type": "code",
   "execution_count": 142,
   "metadata": {},
   "outputs": [
    {
     "data": {
      "text/plain": [
       "['prophet_model.pkl']"
      ]
     },
     "execution_count": 142,
     "metadata": {},
     "output_type": "execute_result"
    }
   ],
   "source": [
    "import joblib\n",
    "# Save the model using joblib\n",
    "joblib.dump(best_model, 'prophet_model.pkl')"
   ]
  },
  {
   "cell_type": "code",
   "execution_count": 1,
   "metadata": {},
   "outputs": [
    {
     "name": "stdout",
     "output_type": "stream",
     "text": [
      "Overwriting model_app.py\n"
     ]
    }
   ],
   "source": [
    "%%writefile model_app.py\n",
    "import streamlit as st\n",
    "import pandas as pd\n",
    "from prophet import Prophet\n",
    "import joblib\n",
    "# Load your time-series data\n",
    "df = pd.read_csv(\"zillow_data\")\n",
    "def melt_data(df):\n",
    "    \"\"\"\n",
    "    Takes the zillow_data dataset in wide form or a subset of the zillow_dataset.  \n",
    "    Returns a long-form datetime dataframe \n",
    "    with the datetime column names as the index and the values as the 'values' column.\n",
    "    \n",
    "    If more than one row is passes in the wide-form dataset, the values column\n",
    "    will be the mean of the values from the datetime columns in all of the rows.\n",
    "    \"\"\"\n",
    "    \n",
    "    #Melt the DataFrame\n",
    "    melted = pd.melt(df, id_vars=['RegionName', 'RegionID', 'SizeRank', 'City', 'State', 'Metro', 'CountyName'], var_name='Date')\n",
    "    \n",
    "    #Convert the 'Date' column to datatime format\n",
    "    melted['Date'] = pd.to_datetime(melted['Date'], infer_datetime_format=True)\n",
    "    \n",
    "    #Drop rows with missing 'value' entries\n",
    "    melted = melted.dropna(subset=['value'])\n",
    "\n",
    "    #Group by 'Date' and calculate the mean of the 'value' column\n",
    "    return melted.groupby('Date').aggregate({'value':'mean'})\n",
    "\n",
    "data = melt_data(df)\n",
    "data_diff = data.diff(periods=1).dropna()\n",
    "data_diff2 = data_diff.diff(periods=1).dropna()\n",
    "\n",
    "data_diff2.reset_index(inplace=True)\n",
    "data_diff2 = data_diff2.rename(columns={'Date': 'ds', 'value': 'y'})\n",
    "\n",
    "model = joblib.load('prophet_model.pkl') \n",
    "model.fit(data_diff2)\n",
    "\n",
    "# Define a function to make predictions\n",
    "def predict_future(n_months):\n",
    "    future_dates = model.make_future_dataframe(periods=n_months, freq='MS')  # Monthly frequency\n",
    "    forecast = model.predict(future_dates)\n",
    "    return forecast[['ds', 'yhat', 'yhat_lower', 'yhat_upper']]  # Include uncertainty\n",
    "\n",
    "# Create the Streamlit app\n",
    "st.title(\"Monthly Time Series Forecast App\") \n",
    "# Enable user input for prediction horizon\n",
    "n_months = st.number_input(\"Enter number of months to forecast:\", min_value=1, value=12)\n",
    "\n",
    "# Generate predictions based on user input\n",
    "forecast_data = predict_future(n_months)\n",
    "\n",
    "# Display forecast components\n",
    "st.subheader(\"Forecast Components\")\n",
    "fig = model.plot_components(forecast_data)\n",
    "st.write(fig)\n",
    "\n",
    "# Display forecast data\n",
    "st.subheader(\"Forecast Table\")\n",
    "st.write(forecast_data)"
   ]
  }
 ],
 "metadata": {
  "kernelspec": {
   "display_name": "Python (learn-env)",
   "language": "python",
   "name": "learn-env"
  },
  "language_info": {
   "codemirror_mode": {
    "name": "ipython",
    "version": 3
   },
   "file_extension": ".py",
   "mimetype": "text/x-python",
   "name": "python",
   "nbconvert_exporter": "python",
   "pygments_lexer": "ipython3",
   "version": "3.8.5"
  }
 },
 "nbformat": 4,
 "nbformat_minor": 2
}
